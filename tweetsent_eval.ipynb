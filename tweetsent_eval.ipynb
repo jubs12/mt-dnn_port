{
  "nbformat": 4,
  "nbformat_minor": 0,
  "metadata": {
    "colab": {
      "name": "tweetsent_eval.ipynb",
      "provenance": [],
      "collapsed_sections": []
    },
    "kernelspec": {
      "name": "python3",
      "display_name": "Python 3"
    }
  },
  "cells": [
    {
      "cell_type": "markdown",
      "metadata": {
        "id": "R3wy72h_Xxzq",
        "colab_type": "text"
      },
      "source": [
        "Get official evaluation script "
      ]
    },
    {
      "cell_type": "code",
      "metadata": {
        "id": "njm6ce3AXZKb",
        "colab_type": "code",
        "outputId": "f4a76251-66a8-4909-d832-d72da2953502",
        "colab": {
          "base_uri": "https://localhost:8080/",
          "height": 204
        }
      },
      "source": [
        "!git clone https://bitbucket.org/HBrum/tweetsentbr.git\n",
        "%cd tweetsentbr/sent-analysis/\n",
        "!pip install nlpnet"
      ],
      "execution_count": 15,
      "outputs": [
        {
          "output_type": "stream",
          "text": [
            "Cloning into 'tweetsentbr'...\n",
            "remote: Counting objects: 85, done.\u001b[K\n",
            "remote: Compressing objects: 100% (43/43), done.\u001b[K\n",
            "remote: Total 85 (delta 20), reused 0 (delta 0)\u001b[K\n",
            "Unpacking objects: 100% (85/85), done.\n",
            "/content/mt-dnn_port/tweetsentbr/sent-analysis\n",
            "Requirement already satisfied: nlpnet in /usr/local/lib/python3.6/dist-packages (1.2.4)\n",
            "Requirement already satisfied: nltk>=3.2.2 in /usr/local/lib/python3.6/dist-packages (from nlpnet) (3.2.5)\n",
            "Requirement already satisfied: h5py>=2.8.0rc1 in /usr/local/lib/python3.6/dist-packages (from nlpnet) (2.10.0)\n",
            "Requirement already satisfied: numpy>=1.9.0 in /usr/local/lib/python3.6/dist-packages (from nlpnet) (1.18.2)\n",
            "Requirement already satisfied: six>=1.10 in /usr/local/lib/python3.6/dist-packages (from nlpnet) (1.12.0)\n"
          ],
          "name": "stdout"
        }
      ]
    },
    {
      "cell_type": "markdown",
      "metadata": {
        "id": "p_ObrIlD0QA_",
        "colab_type": "text"
      },
      "source": [
        "Extract dataset"
      ]
    },
    {
      "cell_type": "code",
      "metadata": {
        "id": "FHqhxS3vz_MW",
        "colab_type": "code",
        "outputId": "bf549865-e880-49ba-caed-19edc118bfc2",
        "colab": {
          "base_uri": "https://localhost:8080/",
          "height": 221
        }
      },
      "source": [
        "!unzip tweetSentBR_extracted.zip"
      ],
      "execution_count": 16,
      "outputs": [
        {
          "output_type": "stream",
          "text": [
            "Archive:  tweetSentBR_extracted.zip\n",
            "   creating: tweetSentBR_extracted/\n",
            "  inflating: tweetSentBR_extracted/testTT.neg  \n",
            "  inflating: tweetSentBR_extracted/testTT.neu  \n",
            "  inflating: tweetSentBR_extracted/testTT.pos  \n",
            "  inflating: tweetSentBR_extracted/trainTT.neg  \n",
            "  inflating: tweetSentBR_extracted/trainTT.neu  \n",
            "  inflating: tweetSentBR_extracted/trainTT.pos  \n",
            "  inflating: tweetSentBR_extracted/tweets.none  \n",
            "  inflating: tweetSentBR_extracted/tweets.neg  \n",
            "  inflating: tweetSentBR_extracted/tweets.neu  \n",
            "  inflating: tweetSentBR_extracted/tweets.pos  \n"
          ],
          "name": "stdout"
        }
      ]
    },
    {
      "cell_type": "markdown",
      "metadata": {
        "id": "CuwQ2zAE0qqR",
        "colab_type": "text"
      },
      "source": [
        "Get structered dataset"
      ]
    },
    {
      "cell_type": "code",
      "metadata": {
        "id": "ub5WCk-dDPs4",
        "colab_type": "code",
        "outputId": "4cf5fcf3-f665-4d9f-b63e-264934ca6e1b",
        "colab": {
          "base_uri": "https://localhost:8080/",
          "height": 102
        }
      },
      "source": [
        "from io import StringIO\n",
        "import pandas as pd\n",
        "import os\n",
        "import re\n",
        "\n",
        "corpora = [f for f in os.listdir('tweetSentBR_extracted') if 'testTT' in f]\n",
        "\n",
        "print('Separating lines in tabs...')\n",
        "tabbed = dict()\n",
        "for goldpath in corpora:\n",
        "    with open(\"tweetSentBR_extracted/{}\".format(goldpath)) as f:\n",
        "        text = f.read()\n",
        "\n",
        "    assert '\\t' not in text \n",
        "    \n",
        "    outtext = re.sub(r'(.+?) (.+)',r'\\1\\t\\2', text)\n",
        "    tabbed.update({goldpath:StringIO(outtext)})\n",
        "    print(goldpath)\n",
        "    \n",
        "print('Unifying..')\n",
        "\n",
        "header = ['id', 'premise']\n",
        "abbr = {'neg': 'Negative', 'neu': 'Neutral', 'pos': 'Positive'} \n",
        "corpus = pd.DataFrame()\n",
        "\n",
        "for path, f in tabbed.items():\n",
        "    table = pd.read_csv(f, sep = '\\t', names = header)\n",
        "\n",
        "    posfix = path.split('.')[1]\n",
        "    label = abbr[posfix]\n",
        "    table['label'] = label\n",
        "\n",
        "    corpus = table if corpus.empty else corpus.append(table)"
      ],
      "execution_count": 17,
      "outputs": [
        {
          "output_type": "stream",
          "text": [
            "Separating lines in tabs...\n",
            "testTT.pos\n",
            "testTT.neu\n",
            "testTT.neg\n",
            "Unifying..\n"
          ],
          "name": "stdout"
        }
      ]
    },
    {
      "cell_type": "code",
      "metadata": {
        "id": "Xn2EP0PgJQ_y",
        "colab_type": "code",
        "colab": {}
      },
      "source": [
        "mode = 'st-dnn' #'st-dnn', 'mt-dnn_assin+tweetsent'\n",
        "pretrained = 'bert-pt'\n",
        "filepath = f'../../report/{mode}/{pretrained}/tweetsent.json'"
      ],
      "execution_count": 0,
      "outputs": []
    },
    {
      "cell_type": "markdown",
      "metadata": {
        "id": "l5y45Z35FMks",
        "colab_type": "text"
      },
      "source": [
        "Gerar *scores*"
      ]
    },
    {
      "cell_type": "code",
      "metadata": {
        "id": "LfFBDHbCZI5y",
        "colab_type": "code",
        "outputId": "63db3dbf-2738-470d-8a19-bd408b19b310",
        "colab": {
          "base_uri": "https://localhost:8080/",
          "height": 119
        }
      },
      "source": [
        "from sklearn.metrics import f1_score\n",
        "from importlib import reload  \n",
        "from classify import report\n",
        "import pandas as pd\n",
        "import json\n",
        "\n",
        "with open(filepath) as f:\n",
        "    predictions = json.load(f)\n",
        "\n",
        "number = {'Negative': 0, 'Neutral': 1, 'Positive': 2}\n",
        "y_test = corpus['label'].map(number)\n",
        "\n",
        "\n",
        "report(None, predictions, y_test)"
      ],
      "execution_count": 20,
      "outputs": [
        {
          "output_type": "stream",
          "text": [
            "Acc: 0.7458\n",
            "F1. neg: 0.736 neu: 0.622 post: 0.825\n",
            "Acc dist min: 0.2920\n",
            "Acc dist max: 0.2920\n",
            "Acc dist min equal: 0.0831\n",
            "Acc dist max equal: 0.2090\n"
          ],
          "name": "stdout"
        }
      ]
    }
  ]
}
