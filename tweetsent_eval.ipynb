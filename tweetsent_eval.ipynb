{
  "nbformat": 4,
  "nbformat_minor": 0,
  "metadata": {
    "colab": {
      "name": "tweetsent_eval.ipynb",
      "provenance": [],
      "collapsed_sections": []
    },
    "kernelspec": {
      "name": "python3",
      "display_name": "Python 3"
    }
  },
  "cells": [
    {
      "cell_type": "code",
      "metadata": {
        "id": "00yc_M_RKz3A",
        "colab_type": "code",
        "colab": {
          "base_uri": "https://localhost:8080/",
          "height": 153
        },
        "outputId": "8726d1f9-261b-4c7c-a965-bc19e1848a26"
      },
      "source": [
        "!git clone https://github.com/jubs12/mt-dnn_port.git -b organize\n",
        "%cd mt-dnn_port/"
      ],
      "execution_count": 14,
      "outputs": [
        {
          "output_type": "stream",
          "text": [
            "Cloning into 'mt-dnn_port'...\n",
            "remote: Enumerating objects: 331, done.\u001b[K\n",
            "remote: Counting objects:   0% (1/331)\u001b[K\rremote: Counting objects:   1% (4/331)\u001b[K\rremote: Counting objects:   2% (7/331)\u001b[K\rremote: Counting objects:   3% (10/331)\u001b[K\rremote: Counting objects:   4% (14/331)\u001b[K\rremote: Counting objects:   5% (17/331)\u001b[K\rremote: Counting objects:   6% (20/331)\u001b[K\rremote: Counting objects:   7% (24/331)\u001b[K\rremote: Counting objects:   8% (27/331)\u001b[K\rremote: Counting objects:   9% (30/331)\u001b[K\rremote: Counting objects:  10% (34/331)\u001b[K\rremote: Counting objects:  11% (37/331)\u001b[K\rremote: Counting objects:  12% (40/331)\u001b[K\rremote: Counting objects:  13% (44/331)\u001b[K\rremote: Counting objects:  14% (47/331)\u001b[K\rremote: Counting objects:  15% (50/331)\u001b[K\rremote: Counting objects:  16% (53/331)\u001b[K\rremote: Counting objects:  17% (57/331)\u001b[K\rremote: Counting objects:  18% (60/331)\u001b[K\rremote: Counting objects:  19% (63/331)\u001b[K\rremote: Counting objects:  20% (67/331)\u001b[K\rremote: Counting objects:  21% (70/331)\u001b[K\rremote: Counting objects:  22% (73/331)\u001b[K\rremote: Counting objects:  23% (77/331)\u001b[K\rremote: Counting objects:  24% (80/331)\u001b[K\rremote: Counting objects:  25% (83/331)\u001b[K\rremote: Counting objects:  26% (87/331)\u001b[K\rremote: Counting objects:  27% (90/331)\u001b[K\rremote: Counting objects:  28% (93/331)\u001b[K\rremote: Counting objects:  29% (96/331)\u001b[K\rremote: Counting objects:  30% (100/331)\u001b[K\rremote: Counting objects:  31% (103/331)\u001b[K\rremote: Counting objects:  32% (106/331)\u001b[K\rremote: Counting objects:  33% (110/331)\u001b[K\rremote: Counting objects:  34% (113/331)\u001b[K\rremote: Counting objects:  35% (116/331)\u001b[K\rremote: Counting objects:  36% (120/331)\u001b[K\rremote: Counting objects:  37% (123/331)\u001b[K\rremote: Counting objects:  38% (126/331)\u001b[K\rremote: Counting objects:  39% (130/331)\u001b[K\rremote: Counting objects:  40% (133/331)\u001b[K\rremote: Counting objects:  41% (136/331)\u001b[K\rremote: Counting objects:  42% (140/331)\u001b[K\rremote: Counting objects:  43% (143/331)\u001b[K\rremote: Counting objects:  44% (146/331)\u001b[K\rremote: Counting objects:  45% (149/331)\u001b[K\rremote: Counting objects:  46% (153/331)\u001b[K\rremote: Counting objects:  47% (156/331)\u001b[K\rremote: Counting objects:  48% (159/331)\u001b[K\rremote: Counting objects:  49% (163/331)\u001b[K\rremote: Counting objects:  50% (166/331)\u001b[K\rremote: Counting objects:  51% (169/331)\u001b[K\rremote: Counting objects:  52% (173/331)\u001b[K\rremote: Counting objects:  53% (176/331)\u001b[K\rremote: Counting objects:  54% (179/331)\u001b[K\rremote: Counting objects:  55% (183/331)\u001b[K\rremote: Counting objects:  56% (186/331)\u001b[K\rremote: Counting objects:  57% (189/331)\u001b[K\rremote: Counting objects:  58% (192/331)\u001b[K\rremote: Counting objects:  59% (196/331)\u001b[K\rremote: Counting objects:  60% (199/331)\u001b[K\rremote: Counting objects:  61% (202/331)\u001b[K\rremote: Counting objects:  62% (206/331)\u001b[K\rremote: Counting objects:  63% (209/331)\u001b[K\rremote: Counting objects:  64% (212/331)\u001b[K\rremote: Counting objects:  65% (216/331)\u001b[K\rremote: Counting objects:  66% (219/331)\u001b[K\rremote: Counting objects:  67% (222/331)\u001b[K\rremote: Counting objects:  68% (226/331)\u001b[K\rremote: Counting objects:  69% (229/331)\u001b[K\rremote: Counting objects:  70% (232/331)\u001b[K\rremote: Counting objects:  71% (236/331)\u001b[K\rremote: Counting objects:  72% (239/331)\u001b[K\rremote: Counting objects:  73% (242/331)\u001b[K\rremote: Counting objects:  74% (245/331)\u001b[K\rremote: Counting objects:  75% (249/331)\u001b[K\rremote: Counting objects:  76% (252/331)\u001b[K\rremote: Counting objects:  77% (255/331)\u001b[K\rremote: Counting objects:  78% (259/331)\u001b[K\rremote: Counting objects:  79% (262/331)\u001b[K\rremote: Counting objects:  80% (265/331)\u001b[K\rremote: Counting objects:  81% (269/331)\u001b[K\rremote: Counting objects:  82% (272/331)\u001b[K\rremote: Counting objects:  83% (275/331)\u001b[K\rremote: Counting objects:  84% (279/331)\u001b[K\rremote: Counting objects:  85% (282/331)\u001b[K\rremote: Counting objects:  86% (285/331)\u001b[K\rremote: Counting objects:  87% (288/331)\u001b[K\rremote: Counting objects:  88% (292/331)\u001b[K\rremote: Counting objects:  89% (295/331)\u001b[K\rremote: Counting objects:  90% (298/331)\u001b[K\rremote: Counting objects:  91% (302/331)\u001b[K\rremote: Counting objects:  92% (305/331)\u001b[K\rremote: Counting objects:  93% (308/331)\u001b[K\rremote: Counting objects:  94% (312/331)\u001b[K\rremote: Counting objects:  95% (315/331)\u001b[K\rremote: Counting objects:  96% (318/331)\u001b[K\rremote: Counting objects:  97% (322/331)\u001b[K\rremote: Counting objects:  98% (325/331)\u001b[K\rremote: Counting objects:  99% (328/331)\u001b[K\rremote: Counting objects: 100% (331/331)\u001b[K\rremote: Counting objects: 100% (331/331), done.\u001b[K\n",
            "remote: Compressing objects: 100% (249/249), done.\u001b[K\n",
            "remote: Total 2115 (delta 132), reused 220 (delta 58), pack-reused 1784\u001b[K\n",
            "Receiving objects: 100% (2115/2115), 59.59 MiB | 24.05 MiB/s, done.\n",
            "Resolving deltas: 100% (1158/1158), done.\n",
            "/content/mt-dnn_port\n"
          ],
          "name": "stdout"
        }
      ]
    },
    {
      "cell_type": "markdown",
      "metadata": {
        "id": "R3wy72h_Xxzq",
        "colab_type": "text"
      },
      "source": [
        "Get official evaluation script "
      ]
    },
    {
      "cell_type": "code",
      "metadata": {
        "id": "njm6ce3AXZKb",
        "colab_type": "code",
        "outputId": "f4a76251-66a8-4909-d832-d72da2953502",
        "colab": {
          "base_uri": "https://localhost:8080/",
          "height": 204
        }
      },
      "source": [
        "!git clone https://bitbucket.org/HBrum/tweetsentbr.git\n",
        "%cd tweetsentbr/sent-analysis/\n",
        "!pip install nlpnet"
      ],
      "execution_count": 15,
      "outputs": [
        {
          "output_type": "stream",
          "text": [
            "Cloning into 'tweetsentbr'...\n",
            "remote: Counting objects: 85, done.\u001b[K\n",
            "remote: Compressing objects: 100% (43/43), done.\u001b[K\n",
            "remote: Total 85 (delta 20), reused 0 (delta 0)\u001b[K\n",
            "Unpacking objects: 100% (85/85), done.\n",
            "/content/mt-dnn_port/tweetsentbr/sent-analysis\n",
            "Requirement already satisfied: nlpnet in /usr/local/lib/python3.6/dist-packages (1.2.4)\n",
            "Requirement already satisfied: nltk>=3.2.2 in /usr/local/lib/python3.6/dist-packages (from nlpnet) (3.2.5)\n",
            "Requirement already satisfied: h5py>=2.8.0rc1 in /usr/local/lib/python3.6/dist-packages (from nlpnet) (2.10.0)\n",
            "Requirement already satisfied: numpy>=1.9.0 in /usr/local/lib/python3.6/dist-packages (from nlpnet) (1.18.2)\n",
            "Requirement already satisfied: six>=1.10 in /usr/local/lib/python3.6/dist-packages (from nlpnet) (1.12.0)\n"
          ],
          "name": "stdout"
        }
      ]
    },
    {
      "cell_type": "markdown",
      "metadata": {
        "id": "p_ObrIlD0QA_",
        "colab_type": "text"
      },
      "source": [
        "Extract dataset"
      ]
    },
    {
      "cell_type": "code",
      "metadata": {
        "id": "FHqhxS3vz_MW",
        "colab_type": "code",
        "outputId": "bf549865-e880-49ba-caed-19edc118bfc2",
        "colab": {
          "base_uri": "https://localhost:8080/",
          "height": 221
        }
      },
      "source": [
        "!unzip tweetSentBR_extracted.zip"
      ],
      "execution_count": 16,
      "outputs": [
        {
          "output_type": "stream",
          "text": [
            "Archive:  tweetSentBR_extracted.zip\n",
            "   creating: tweetSentBR_extracted/\n",
            "  inflating: tweetSentBR_extracted/testTT.neg  \n",
            "  inflating: tweetSentBR_extracted/testTT.neu  \n",
            "  inflating: tweetSentBR_extracted/testTT.pos  \n",
            "  inflating: tweetSentBR_extracted/trainTT.neg  \n",
            "  inflating: tweetSentBR_extracted/trainTT.neu  \n",
            "  inflating: tweetSentBR_extracted/trainTT.pos  \n",
            "  inflating: tweetSentBR_extracted/tweets.none  \n",
            "  inflating: tweetSentBR_extracted/tweets.neg  \n",
            "  inflating: tweetSentBR_extracted/tweets.neu  \n",
            "  inflating: tweetSentBR_extracted/tweets.pos  \n"
          ],
          "name": "stdout"
        }
      ]
    },
    {
      "cell_type": "markdown",
      "metadata": {
        "id": "CuwQ2zAE0qqR",
        "colab_type": "text"
      },
      "source": [
        "Get structered dataset"
      ]
    },
    {
      "cell_type": "code",
      "metadata": {
        "id": "ub5WCk-dDPs4",
        "colab_type": "code",
        "outputId": "4cf5fcf3-f665-4d9f-b63e-264934ca6e1b",
        "colab": {
          "base_uri": "https://localhost:8080/",
          "height": 102
        }
      },
      "source": [
        "from io import StringIO\n",
        "import pandas as pd\n",
        "import os\n",
        "import re\n",
        "\n",
        "corpora = [f for f in os.listdir('tweetSentBR_extracted') if 'testTT' in f]\n",
        "\n",
        "print('Separating lines in tabs...')\n",
        "tabbed = dict()\n",
        "for goldpath in corpora:\n",
        "    with open(\"tweetSentBR_extracted/{}\".format(goldpath)) as f:\n",
        "        text = f.read()\n",
        "\n",
        "    assert '\\t' not in text \n",
        "    \n",
        "    outtext = re.sub(r'(.+?) (.+)',r'\\1\\t\\2', text)\n",
        "    tabbed.update({goldpath:StringIO(outtext)})\n",
        "    print(goldpath)\n",
        "    \n",
        "print('Unifying..')\n",
        "\n",
        "header = ['id', 'premise']\n",
        "abbr = {'neg': 'Negative', 'neu': 'Neutral', 'pos': 'Positive'} \n",
        "corpus = pd.DataFrame()\n",
        "\n",
        "for path, f in tabbed.items():\n",
        "    table = pd.read_csv(f, sep = '\\t', names = header)\n",
        "\n",
        "    posfix = path.split('.')[1]\n",
        "    label = abbr[posfix]\n",
        "    table['label'] = label\n",
        "\n",
        "    corpus = table if corpus.empty else corpus.append(table)"
      ],
      "execution_count": 17,
      "outputs": [
        {
          "output_type": "stream",
          "text": [
            "Separating lines in tabs...\n",
            "testTT.pos\n",
            "testTT.neu\n",
            "testTT.neg\n",
            "Unifying..\n"
          ],
          "name": "stdout"
        }
      ]
    },
    {
      "cell_type": "code",
      "metadata": {
        "id": "Xn2EP0PgJQ_y",
        "colab_type": "code",
        "colab": {}
      },
      "source": [
        "mode = 'st-dnn' #'st-dnn', 'mt-dnn_assin+tweetsent'\n",
        "pretrained = 'bert-pt'\n",
        "filepath = f'../../report/{mode}/{pretrained}/tweetsent.json'"
      ],
      "execution_count": 0,
      "outputs": []
    },
    {
      "cell_type": "markdown",
      "metadata": {
        "id": "l5y45Z35FMks",
        "colab_type": "text"
      },
      "source": [
        "Gerar *scores*"
      ]
    },
    {
      "cell_type": "code",
      "metadata": {
        "id": "LfFBDHbCZI5y",
        "colab_type": "code",
        "outputId": "63db3dbf-2738-470d-8a19-bd408b19b310",
        "colab": {
          "base_uri": "https://localhost:8080/",
          "height": 119
        }
      },
      "source": [
        "from sklearn.metrics import f1_score\n",
        "from importlib import reload  \n",
        "from classify import report\n",
        "import pandas as pd\n",
        "import json\n",
        "\n",
        "with open(filepath) as f:\n",
        "    predictions = json.load(f)\n",
        "\n",
        "number = {'Negative': 0, 'Neutral': 1, 'Positive': 2}\n",
        "y_test = corpus['label'].map(number)\n",
        "\n",
        "\n",
        "report(None, predictions, y_test)"
      ],
      "execution_count": 20,
      "outputs": [
        {
          "output_type": "stream",
          "text": [
            "Acc: 0.7458\n",
            "F1. neg: 0.736 neu: 0.622 post: 0.825\n",
            "Acc dist min: 0.2920\n",
            "Acc dist max: 0.2920\n",
            "Acc dist min equal: 0.0831\n",
            "Acc dist max equal: 0.2090\n"
          ],
          "name": "stdout"
        }
      ]
    }
  ]
}