{
  "nbformat": 4,
  "nbformat_minor": 0,
  "metadata": {
    "colab": {
      "name": "faquad_tsv.ipynb",
      "provenance": [],
      "collapsed_sections": []
    },
    "kernelspec": {
      "name": "python3",
      "display_name": "Python 3"
    }
  },
  "cells": [
    {
      "cell_type": "markdown",
      "metadata": {
        "id": "FKjSyK1FEwwb",
        "colab_type": "text"
      },
      "source": [
        "Baixar o *dataset* traduzido do faquad"
      ]
    },
    {
      "cell_type": "code",
      "metadata": {
        "id": "NNqWwOPKEa9p",
        "colab_type": "code",
        "outputId": "14e7c0fd-750b-4831-ee43-0fbba250cdec",
        "colab": {
          "base_uri": "https://localhost:8080/",
          "height": 573
        }
      },
      "source": [
        "!wget https://github.com/jubs12/faquad-en/raw/master/data/train.json\n",
        "!wget https://github.com/jubs12/faquad-en/raw/master/data/dev.json"
      ],
      "execution_count": 0,
      "outputs": [
        {
          "output_type": "stream",
          "text": [
            "--2020-02-24 13:54:55--  https://github.com/jubs12/faquad-en/raw/master/data/train.json\n",
            "Resolving github.com (github.com)... 192.30.255.113\n",
            "Connecting to github.com (github.com)|192.30.255.113|:443... connected.\n",
            "HTTP request sent, awaiting response... 302 Found\n",
            "Location: https://raw.githubusercontent.com/jubs12/faquad-en/master/data/train.json [following]\n",
            "--2020-02-24 13:54:55--  https://raw.githubusercontent.com/jubs12/faquad-en/master/data/train.json\n",
            "Resolving raw.githubusercontent.com (raw.githubusercontent.com)... 151.101.0.133, 151.101.64.133, 151.101.128.133, ...\n",
            "Connecting to raw.githubusercontent.com (raw.githubusercontent.com)|151.101.0.133|:443... connected.\n",
            "HTTP request sent, awaiting response... 200 OK\n",
            "Length: 462066 (451K) [text/plain]\n",
            "Saving to: ‘train.json’\n",
            "\n",
            "\rtrain.json            0%[                    ]       0  --.-KB/s               \rtrain.json          100%[===================>] 451.24K  --.-KB/s    in 0.03s   \n",
            "\n",
            "2020-02-24 13:54:56 (13.4 MB/s) - ‘train.json’ saved [462066/462066]\n",
            "\n",
            "--2020-02-24 13:54:57--  https://github.com/jubs12/faquad-en/raw/master/data/dev.json\n",
            "Resolving github.com (github.com)... 192.30.255.113\n",
            "Connecting to github.com (github.com)|192.30.255.113|:443... connected.\n",
            "HTTP request sent, awaiting response... 302 Found\n",
            "Location: https://raw.githubusercontent.com/jubs12/faquad-en/master/data/dev.json [following]\n",
            "--2020-02-24 13:54:57--  https://raw.githubusercontent.com/jubs12/faquad-en/master/data/dev.json\n",
            "Resolving raw.githubusercontent.com (raw.githubusercontent.com)... 151.101.0.133, 151.101.64.133, 151.101.128.133, ...\n",
            "Connecting to raw.githubusercontent.com (raw.githubusercontent.com)|151.101.0.133|:443... connected.\n",
            "HTTP request sent, awaiting response... 200 OK\n",
            "Length: 72267 (71K) [text/plain]\n",
            "Saving to: ‘dev.json’\n",
            "\n",
            "dev.json            100%[===================>]  70.57K  --.-KB/s    in 0.01s   \n",
            "\n",
            "2020-02-24 13:54:57 (5.30 MB/s) - ‘dev.json’ saved [72267/72267]\n",
            "\n"
          ],
          "name": "stdout"
        }
      ]
    },
    {
      "cell_type": "markdown",
      "metadata": {
        "id": "hgOu48KKODi1",
        "colab_type": "text"
      },
      "source": [
        "Função de formatar *dataset*"
      ]
    },
    {
      "cell_type": "code",
      "metadata": {
        "id": "e18quDtvEv8L",
        "colab_type": "code",
        "colab": {}
      },
      "source": [
        "def data2df(filename):\n",
        "    import pandas as pd\n",
        "    import json\n",
        "\n",
        "    with open(filename) as json_file:\n",
        "        dataset = json.load(json_file)\n",
        "\n",
        "    hypotheses = ['hypothesis_{}'.format(i) for i in range(1,4)]\n",
        "    header = ['id', 'premise'] + hypotheses\n",
        "    \n",
        "    info = []\n",
        "    expected = 0\n",
        "    unexpected = 0\n",
        "    for data in dataset['data']:\n",
        "        for paragraph in data[\"paragraphs\"]:\n",
        "            for qa in paragraph[\"qas\"]:\n",
        "                question_id = qa[\"id\"]\n",
        "                question = paragraph[\"context\"] + qa[\"question\"]\n",
        "\n",
        "                row = [question_id, question]\n",
        "                \n",
        "                for answer in qa[\"answers\"]:\n",
        "                    answer = answer[\"text\"]\n",
        "                    row.append(answer)\n",
        "\n",
        "                if len(row) == 5:\n",
        "                    info.append(row)\n",
        "                    expected += 1\n",
        "                else:\n",
        "                    unexpected += 1\n",
        "\n",
        "    print(filename)\n",
        "    print('Expected: {}'.format(expected))\n",
        "    print('Unexpected: {}'.format(unexpected))\n",
        "\n",
        "    df = pd.DataFrame(info, columns = header)\n",
        "\n",
        "    return df"
      ],
      "execution_count": 0,
      "outputs": []
    },
    {
      "cell_type": "markdown",
      "metadata": {
        "id": "sdyRqdUqquta",
        "colab_type": "text"
      },
      "source": [
        "Pegar palavras e salvar como arquivo txt"
      ]
    },
    {
      "cell_type": "code",
      "metadata": {
        "id": "6r4cGhxJDtkf",
        "colab_type": "code",
        "outputId": "c753ff80-6183-478a-dc89-a270b3b6b5ad",
        "colab": {
          "base_uri": "https://localhost:8080/",
          "height": 121
        }
      },
      "source": [
        "import pandas as pd\n",
        "import re \n",
        "\n",
        "for f in ['train.json','dev.json']:\n",
        "    df = data2df(f)\n",
        "    #print(df.columns)\n",
        "    output_name = re.sub(r'(.*).json', r'faquad_\\1.tsv', f)\n",
        "    df.to_csv(output_name, sep = '\\t', index = False, header = None)\n"
      ],
      "execution_count": 0,
      "outputs": [
        {
          "output_type": "stream",
          "text": [
            "train.json\n",
            "Expected: 837\n",
            "Unexpected: 0\n",
            "dev.json\n",
            "Expected: 54\n",
            "Unexpected: 9\n"
          ],
          "name": "stdout"
        }
      ]
    },
    {
      "cell_type": "markdown",
      "metadata": {
        "id": "4Zszq7Uil3d4",
        "colab_type": "text"
      },
      "source": [
        "Remove html marks"
      ]
    },
    {
      "cell_type": "code",
      "metadata": {
        "id": "2O203yebl2TA",
        "colab_type": "code",
        "colab": {}
      },
      "source": [
        "!sh ftfy_faquad.sh"
      ],
      "execution_count": 0,
      "outputs": []
    }
  ]
}