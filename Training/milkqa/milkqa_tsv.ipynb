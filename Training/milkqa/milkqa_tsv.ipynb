{
  "nbformat": 4,
  "nbformat_minor": 0,
  "metadata": {
    "colab": {
      "name": "milkqa_tsv.ipynb",
      "provenance": [],
      "collapsed_sections": []
    },
    "kernelspec": {
      "name": "python3",
      "display_name": "Python 3"
    }
  },
  "cells": [
    {
      "cell_type": "markdown",
      "metadata": {
        "id": "hjIHShjD2f1z",
        "colab_type": "text"
      },
      "source": [
        "Baixar *dataset*"
      ]
    },
    {
      "cell_type": "code",
      "metadata": {
        "colab_type": "code",
        "outputId": "e66b22a6-7f94-4205-8978-b4993e3bdbcc",
        "id": "jgl2H6cj2WXq",
        "colab": {
          "base_uri": "https://localhost:8080/",
          "height": 34
        }
      },
      "source": [
        "!wget https://www.dropbox.com/s/1ozzofw3f7thq3g/MilkQA-v2.tar.gz?dl=1\n",
        "!tar -xzvf MilkQA-v2.tar.gz?dl=\n",
        "%cd MilkQA-v2/data"
      ],
      "execution_count": 0,
      "outputs": [
        {
          "output_type": "stream",
          "text": [
            "/content/drive/My Drive/I.C. Nádia/Datasets/Training/milkqa/data\n"
          ],
          "name": "stdout"
        }
      ]
    },
    {
      "cell_type": "markdown",
      "metadata": {
        "colab_type": "text",
        "id": "czXhlgYTtE8L"
      },
      "source": [
        "Pegar as questões e respostas para substuir pela tradução"
      ]
    },
    {
      "cell_type": "code",
      "metadata": {
        "colab_type": "code",
        "outputId": "1072d37f-c954-4aed-95cc-dfc8ef727307",
        "id": "vBaxYUCRfUPm",
        "colab": {
          "base_uri": "https://localhost:8080/",
          "height": 359
        }
      },
      "source": [
        "import os\n",
        "import re\n",
        "from pathlib import Path\n",
        "\n",
        "files = os.listdir(os.curdir)\n",
        "files = filter(lambda x: \"question\" in x, files)\n",
        "numbers = [re.search(\"(.*)-\", x).group(1) for x in files]\n",
        "\n",
        "unsolved = []\n",
        "answers = []\n",
        "questions = []\n",
        "qa_number = []\n",
        "for number in numbers:\n",
        "        print(number)\n",
        "        question = Path(number + \"-question.txt\").read_text()\n",
        "        question = re.split(\"<.*>\", question)\n",
        "        question = list(filter(None, question))\n",
        "        if len(question) != 2:\n",
        "            unsolved.append(number)\n",
        "            continue\n",
        "        \n",
        "        qa_number.append(number)\n",
        "        questions.append(question[1])\n",
        "\n",
        "        answer = Path(number + \"-answer.txt\").read_text()\n",
        "        answers.append(answer)"
      ],
      "execution_count": 0,
      "outputs": [
        {
          "output_type": "error",
          "ename": "AttributeError",
          "evalue": "ignored",
          "traceback": [
            "\u001b[0;31m---------------------------------------------------------------------------\u001b[0m",
            "\u001b[0;31mAttributeError\u001b[0m                            Traceback (most recent call last)",
            "\u001b[0;32m<ipython-input-6-2c4bdd528dd4>\u001b[0m in \u001b[0;36m<module>\u001b[0;34m()\u001b[0m\n\u001b[1;32m      5\u001b[0m \u001b[0mfiles\u001b[0m \u001b[0;34m=\u001b[0m \u001b[0mos\u001b[0m\u001b[0;34m.\u001b[0m\u001b[0mlistdir\u001b[0m\u001b[0;34m(\u001b[0m\u001b[0mos\u001b[0m\u001b[0;34m.\u001b[0m\u001b[0mcurdir\u001b[0m\u001b[0;34m)\u001b[0m\u001b[0;34m\u001b[0m\u001b[0;34m\u001b[0m\u001b[0m\n\u001b[1;32m      6\u001b[0m \u001b[0mfiles\u001b[0m \u001b[0;34m=\u001b[0m \u001b[0mfilter\u001b[0m\u001b[0;34m(\u001b[0m\u001b[0;32mlambda\u001b[0m \u001b[0mx\u001b[0m\u001b[0;34m:\u001b[0m \u001b[0;34m\"question\"\u001b[0m \u001b[0;32min\u001b[0m \u001b[0mx\u001b[0m\u001b[0;34m,\u001b[0m \u001b[0mfiles\u001b[0m\u001b[0;34m)\u001b[0m\u001b[0;34m\u001b[0m\u001b[0;34m\u001b[0m\u001b[0m\n\u001b[0;32m----> 7\u001b[0;31m \u001b[0mnumbers\u001b[0m \u001b[0;34m=\u001b[0m \u001b[0;34m[\u001b[0m\u001b[0mre\u001b[0m\u001b[0;34m.\u001b[0m\u001b[0msearch\u001b[0m\u001b[0;34m(\u001b[0m\u001b[0;34m\"(.*)-\"\u001b[0m\u001b[0;34m,\u001b[0m \u001b[0mx\u001b[0m\u001b[0;34m)\u001b[0m\u001b[0;34m.\u001b[0m\u001b[0mgroup\u001b[0m\u001b[0;34m(\u001b[0m\u001b[0;36m1\u001b[0m\u001b[0;34m)\u001b[0m \u001b[0;32mfor\u001b[0m \u001b[0mx\u001b[0m \u001b[0;32min\u001b[0m \u001b[0mfiles\u001b[0m\u001b[0;34m]\u001b[0m\u001b[0;34m\u001b[0m\u001b[0;34m\u001b[0m\u001b[0m\n\u001b[0m\u001b[1;32m      8\u001b[0m \u001b[0;34m\u001b[0m\u001b[0m\n\u001b[1;32m      9\u001b[0m \u001b[0munsolved\u001b[0m \u001b[0;34m=\u001b[0m \u001b[0;34m[\u001b[0m\u001b[0;34m]\u001b[0m\u001b[0;34m\u001b[0m\u001b[0;34m\u001b[0m\u001b[0m\n",
            "\u001b[0;32m<ipython-input-6-2c4bdd528dd4>\u001b[0m in \u001b[0;36m<listcomp>\u001b[0;34m(.0)\u001b[0m\n\u001b[1;32m      5\u001b[0m \u001b[0mfiles\u001b[0m \u001b[0;34m=\u001b[0m \u001b[0mos\u001b[0m\u001b[0;34m.\u001b[0m\u001b[0mlistdir\u001b[0m\u001b[0;34m(\u001b[0m\u001b[0mos\u001b[0m\u001b[0;34m.\u001b[0m\u001b[0mcurdir\u001b[0m\u001b[0;34m)\u001b[0m\u001b[0;34m\u001b[0m\u001b[0;34m\u001b[0m\u001b[0m\n\u001b[1;32m      6\u001b[0m \u001b[0mfiles\u001b[0m \u001b[0;34m=\u001b[0m \u001b[0mfilter\u001b[0m\u001b[0;34m(\u001b[0m\u001b[0;32mlambda\u001b[0m \u001b[0mx\u001b[0m\u001b[0;34m:\u001b[0m \u001b[0;34m\"question\"\u001b[0m \u001b[0;32min\u001b[0m \u001b[0mx\u001b[0m\u001b[0;34m,\u001b[0m \u001b[0mfiles\u001b[0m\u001b[0;34m)\u001b[0m\u001b[0;34m\u001b[0m\u001b[0;34m\u001b[0m\u001b[0m\n\u001b[0;32m----> 7\u001b[0;31m \u001b[0mnumbers\u001b[0m \u001b[0;34m=\u001b[0m \u001b[0;34m[\u001b[0m\u001b[0mre\u001b[0m\u001b[0;34m.\u001b[0m\u001b[0msearch\u001b[0m\u001b[0;34m(\u001b[0m\u001b[0;34m\"(.*)-\"\u001b[0m\u001b[0;34m,\u001b[0m \u001b[0mx\u001b[0m\u001b[0;34m)\u001b[0m\u001b[0;34m.\u001b[0m\u001b[0mgroup\u001b[0m\u001b[0;34m(\u001b[0m\u001b[0;36m1\u001b[0m\u001b[0;34m)\u001b[0m \u001b[0;32mfor\u001b[0m \u001b[0mx\u001b[0m \u001b[0;32min\u001b[0m \u001b[0mfiles\u001b[0m\u001b[0;34m]\u001b[0m\u001b[0;34m\u001b[0m\u001b[0;34m\u001b[0m\u001b[0m\n\u001b[0m\u001b[1;32m      8\u001b[0m \u001b[0;34m\u001b[0m\u001b[0m\n\u001b[1;32m      9\u001b[0m \u001b[0munsolved\u001b[0m \u001b[0;34m=\u001b[0m \u001b[0;34m[\u001b[0m\u001b[0;34m]\u001b[0m\u001b[0;34m\u001b[0m\u001b[0;34m\u001b[0m\u001b[0m\n",
            "\u001b[0;31mAttributeError\u001b[0m: 'NoneType' object has no attribute 'group'"
          ]
        }
      ]
    },
    {
      "cell_type": "markdown",
      "metadata": {
        "id": "tz1iLEMokjUT",
        "colab_type": "text"
      },
      "source": [
        "Resolver a questão 13546"
      ]
    },
    {
      "cell_type": "code",
      "metadata": {
        "id": "miz-73KxkpIr",
        "colab_type": "code",
        "outputId": "aff0ed48-4de5-44d6-a3ae-0e0de1ae195c",
        "colab": {
          "base_uri": "https://localhost:8080/",
          "height": 366
        }
      },
      "source": [
        "string = \"\"\"sou de dois vizinhos , e dou assitencia técnica para \n",
        " produtores de leite da agricultura familiar desta cidade . E gostria\n",
        "    de ter algumas informações sobre cana de açucar cal pecuario na\n",
        "    suplementação de vacas de leite.\"\"\"\n",
        "qa_number.append(13546)\n",
        "questions.append(string)\n",
        "answer = Path(\"13546-answer.txt\").read_text()\n",
        "answers.append(answer)"
      ],
      "execution_count": 0,
      "outputs": [
        {
          "output_type": "error",
          "ename": "FileNotFoundError",
          "evalue": "ignored",
          "traceback": [
            "\u001b[0;31m---------------------------------------------------------------------------\u001b[0m",
            "\u001b[0;31mFileNotFoundError\u001b[0m                         Traceback (most recent call last)",
            "\u001b[0;32m<ipython-input-3-98005803b1fc>\u001b[0m in \u001b[0;36m<module>\u001b[0;34m()\u001b[0m\n\u001b[1;32m      5\u001b[0m \u001b[0mqa_number\u001b[0m\u001b[0;34m.\u001b[0m\u001b[0mappend\u001b[0m\u001b[0;34m(\u001b[0m\u001b[0;36m13546\u001b[0m\u001b[0;34m)\u001b[0m\u001b[0;34m\u001b[0m\u001b[0;34m\u001b[0m\u001b[0m\n\u001b[1;32m      6\u001b[0m \u001b[0mquestions\u001b[0m\u001b[0;34m.\u001b[0m\u001b[0mappend\u001b[0m\u001b[0;34m(\u001b[0m\u001b[0mstring\u001b[0m\u001b[0;34m)\u001b[0m\u001b[0;34m\u001b[0m\u001b[0;34m\u001b[0m\u001b[0m\n\u001b[0;32m----> 7\u001b[0;31m \u001b[0manswer\u001b[0m \u001b[0;34m=\u001b[0m \u001b[0mPath\u001b[0m\u001b[0;34m(\u001b[0m\u001b[0;34m\"13546-answer.txt\"\u001b[0m\u001b[0;34m)\u001b[0m\u001b[0;34m.\u001b[0m\u001b[0mread_text\u001b[0m\u001b[0;34m(\u001b[0m\u001b[0;34m)\u001b[0m\u001b[0;34m\u001b[0m\u001b[0;34m\u001b[0m\u001b[0m\n\u001b[0m\u001b[1;32m      8\u001b[0m \u001b[0manswers\u001b[0m\u001b[0;34m.\u001b[0m\u001b[0mappend\u001b[0m\u001b[0;34m(\u001b[0m\u001b[0manswer\u001b[0m\u001b[0;34m)\u001b[0m\u001b[0;34m\u001b[0m\u001b[0;34m\u001b[0m\u001b[0m\n",
            "\u001b[0;32m/usr/lib/python3.6/pathlib.py\u001b[0m in \u001b[0;36mread_text\u001b[0;34m(self, encoding, errors)\u001b[0m\n\u001b[1;32m   1194\u001b[0m         \u001b[0mOpen\u001b[0m \u001b[0mthe\u001b[0m \u001b[0mfile\u001b[0m \u001b[0;32min\u001b[0m \u001b[0mtext\u001b[0m \u001b[0mmode\u001b[0m\u001b[0;34m,\u001b[0m \u001b[0mread\u001b[0m \u001b[0mit\u001b[0m\u001b[0;34m,\u001b[0m \u001b[0;32mand\u001b[0m \u001b[0mclose\u001b[0m \u001b[0mthe\u001b[0m \u001b[0mfile\u001b[0m\u001b[0;34m.\u001b[0m\u001b[0;34m\u001b[0m\u001b[0;34m\u001b[0m\u001b[0m\n\u001b[1;32m   1195\u001b[0m         \"\"\"\n\u001b[0;32m-> 1196\u001b[0;31m         \u001b[0;32mwith\u001b[0m \u001b[0mself\u001b[0m\u001b[0;34m.\u001b[0m\u001b[0mopen\u001b[0m\u001b[0;34m(\u001b[0m\u001b[0mmode\u001b[0m\u001b[0;34m=\u001b[0m\u001b[0;34m'r'\u001b[0m\u001b[0;34m,\u001b[0m \u001b[0mencoding\u001b[0m\u001b[0;34m=\u001b[0m\u001b[0mencoding\u001b[0m\u001b[0;34m,\u001b[0m \u001b[0merrors\u001b[0m\u001b[0;34m=\u001b[0m\u001b[0merrors\u001b[0m\u001b[0;34m)\u001b[0m \u001b[0;32mas\u001b[0m \u001b[0mf\u001b[0m\u001b[0;34m:\u001b[0m\u001b[0;34m\u001b[0m\u001b[0;34m\u001b[0m\u001b[0m\n\u001b[0m\u001b[1;32m   1197\u001b[0m             \u001b[0;32mreturn\u001b[0m \u001b[0mf\u001b[0m\u001b[0;34m.\u001b[0m\u001b[0mread\u001b[0m\u001b[0;34m(\u001b[0m\u001b[0;34m)\u001b[0m\u001b[0;34m\u001b[0m\u001b[0;34m\u001b[0m\u001b[0m\n\u001b[1;32m   1198\u001b[0m \u001b[0;34m\u001b[0m\u001b[0m\n",
            "\u001b[0;32m/usr/lib/python3.6/pathlib.py\u001b[0m in \u001b[0;36mopen\u001b[0;34m(self, mode, buffering, encoding, errors, newline)\u001b[0m\n\u001b[1;32m   1181\u001b[0m             \u001b[0mself\u001b[0m\u001b[0;34m.\u001b[0m\u001b[0m_raise_closed\u001b[0m\u001b[0;34m(\u001b[0m\u001b[0;34m)\u001b[0m\u001b[0;34m\u001b[0m\u001b[0;34m\u001b[0m\u001b[0m\n\u001b[1;32m   1182\u001b[0m         return io.open(str(self), mode, buffering, encoding, errors, newline,\n\u001b[0;32m-> 1183\u001b[0;31m                        opener=self._opener)\n\u001b[0m\u001b[1;32m   1184\u001b[0m \u001b[0;34m\u001b[0m\u001b[0m\n\u001b[1;32m   1185\u001b[0m     \u001b[0;32mdef\u001b[0m \u001b[0mread_bytes\u001b[0m\u001b[0;34m(\u001b[0m\u001b[0mself\u001b[0m\u001b[0;34m)\u001b[0m\u001b[0;34m:\u001b[0m\u001b[0;34m\u001b[0m\u001b[0;34m\u001b[0m\u001b[0m\n",
            "\u001b[0;32m/usr/lib/python3.6/pathlib.py\u001b[0m in \u001b[0;36m_opener\u001b[0;34m(self, name, flags, mode)\u001b[0m\n\u001b[1;32m   1035\u001b[0m     \u001b[0;32mdef\u001b[0m \u001b[0m_opener\u001b[0m\u001b[0;34m(\u001b[0m\u001b[0mself\u001b[0m\u001b[0;34m,\u001b[0m \u001b[0mname\u001b[0m\u001b[0;34m,\u001b[0m \u001b[0mflags\u001b[0m\u001b[0;34m,\u001b[0m \u001b[0mmode\u001b[0m\u001b[0;34m=\u001b[0m\u001b[0;36m0o666\u001b[0m\u001b[0;34m)\u001b[0m\u001b[0;34m:\u001b[0m\u001b[0;34m\u001b[0m\u001b[0;34m\u001b[0m\u001b[0m\n\u001b[1;32m   1036\u001b[0m         \u001b[0;31m# A stub for the opener argument to built-in open()\u001b[0m\u001b[0;34m\u001b[0m\u001b[0;34m\u001b[0m\u001b[0;34m\u001b[0m\u001b[0m\n\u001b[0;32m-> 1037\u001b[0;31m         \u001b[0;32mreturn\u001b[0m \u001b[0mself\u001b[0m\u001b[0;34m.\u001b[0m\u001b[0m_accessor\u001b[0m\u001b[0;34m.\u001b[0m\u001b[0mopen\u001b[0m\u001b[0;34m(\u001b[0m\u001b[0mself\u001b[0m\u001b[0;34m,\u001b[0m \u001b[0mflags\u001b[0m\u001b[0;34m,\u001b[0m \u001b[0mmode\u001b[0m\u001b[0;34m)\u001b[0m\u001b[0;34m\u001b[0m\u001b[0;34m\u001b[0m\u001b[0m\n\u001b[0m\u001b[1;32m   1038\u001b[0m \u001b[0;34m\u001b[0m\u001b[0m\n\u001b[1;32m   1039\u001b[0m     \u001b[0;32mdef\u001b[0m \u001b[0m_raw_open\u001b[0m\u001b[0;34m(\u001b[0m\u001b[0mself\u001b[0m\u001b[0;34m,\u001b[0m \u001b[0mflags\u001b[0m\u001b[0;34m,\u001b[0m \u001b[0mmode\u001b[0m\u001b[0;34m=\u001b[0m\u001b[0;36m0o777\u001b[0m\u001b[0;34m)\u001b[0m\u001b[0;34m:\u001b[0m\u001b[0;34m\u001b[0m\u001b[0;34m\u001b[0m\u001b[0m\n",
            "\u001b[0;32m/usr/lib/python3.6/pathlib.py\u001b[0m in \u001b[0;36mwrapped\u001b[0;34m(pathobj, *args)\u001b[0m\n\u001b[1;32m    385\u001b[0m         \u001b[0;34m@\u001b[0m\u001b[0mfunctools\u001b[0m\u001b[0;34m.\u001b[0m\u001b[0mwraps\u001b[0m\u001b[0;34m(\u001b[0m\u001b[0mstrfunc\u001b[0m\u001b[0;34m)\u001b[0m\u001b[0;34m\u001b[0m\u001b[0;34m\u001b[0m\u001b[0m\n\u001b[1;32m    386\u001b[0m         \u001b[0;32mdef\u001b[0m \u001b[0mwrapped\u001b[0m\u001b[0;34m(\u001b[0m\u001b[0mpathobj\u001b[0m\u001b[0;34m,\u001b[0m \u001b[0;34m*\u001b[0m\u001b[0margs\u001b[0m\u001b[0;34m)\u001b[0m\u001b[0;34m:\u001b[0m\u001b[0;34m\u001b[0m\u001b[0;34m\u001b[0m\u001b[0m\n\u001b[0;32m--> 387\u001b[0;31m             \u001b[0;32mreturn\u001b[0m \u001b[0mstrfunc\u001b[0m\u001b[0;34m(\u001b[0m\u001b[0mstr\u001b[0m\u001b[0;34m(\u001b[0m\u001b[0mpathobj\u001b[0m\u001b[0;34m)\u001b[0m\u001b[0;34m,\u001b[0m \u001b[0;34m*\u001b[0m\u001b[0margs\u001b[0m\u001b[0;34m)\u001b[0m\u001b[0;34m\u001b[0m\u001b[0;34m\u001b[0m\u001b[0m\n\u001b[0m\u001b[1;32m    388\u001b[0m         \u001b[0;32mreturn\u001b[0m \u001b[0mstaticmethod\u001b[0m\u001b[0;34m(\u001b[0m\u001b[0mwrapped\u001b[0m\u001b[0;34m)\u001b[0m\u001b[0;34m\u001b[0m\u001b[0;34m\u001b[0m\u001b[0m\n\u001b[1;32m    389\u001b[0m \u001b[0;34m\u001b[0m\u001b[0m\n",
            "\u001b[0;31mFileNotFoundError\u001b[0m: [Errno 2] No such file or directory: '13546-answer.txt'"
          ]
        }
      ]
    },
    {
      "cell_type": "markdown",
      "metadata": {
        "id": "afKdCMVsl1IJ",
        "colab_type": "text"
      },
      "source": [
        "Resolver questões 13050, 10551 e 1487: sem assunto"
      ]
    },
    {
      "cell_type": "code",
      "metadata": {
        "id": "J8-XNdQWl_yj",
        "colab_type": "code",
        "outputId": "90e79921-ee6a-4bf6-9862-050f718746c1",
        "colab": {
          "base_uri": "https://localhost:8080/",
          "height": 67
        }
      },
      "source": [
        "for number in [13050,10551,1487]:\n",
        "        print(number)\n",
        "        qa_number.append(number)\n",
        "        question = Path(str(number) + \"-question.txt\").read_text()\n",
        "        question = re.sub(\"<.*>\", \"\", question)\n",
        "        questions.append(question)\n",
        "\n",
        "        answer = Path(str(number) + \"-answer.txt\").read_text()\n",
        "        answers.append(answer)"
      ],
      "execution_count": 0,
      "outputs": [
        {
          "output_type": "stream",
          "text": [
            "13050\n",
            "10551\n",
            "1487\n"
          ],
          "name": "stdout"
        }
      ]
    },
    {
      "cell_type": "markdown",
      "metadata": {
        "id": "a18z3noHm0WE",
        "colab_type": "text"
      },
      "source": [
        "Resolver questões 25414, 16762: sem delimitador \\<corpo\\>"
      ]
    },
    {
      "cell_type": "code",
      "metadata": {
        "id": "DvskSJtpnHdN",
        "colab_type": "code",
        "outputId": "dd1063eb-de04-4bfd-e877-a414d3cc3711",
        "colab": {
          "base_uri": "https://localhost:8080/",
          "height": 50
        }
      },
      "source": [
        "for number in [25414,16762]:\n",
        "        print(number)\n",
        "        qa_number.append(number)\n",
        "        question = Path(str(number) + \"-question.txt\").read_text()\n",
        "        question = re.sub(\"<.*>\", \"\", question)\n",
        "        question = re.split(\"\\n\\n\", question)\n",
        "        question = list(filter(None, question))\n",
        "\n",
        "        questions.append(question[1])\n",
        "\n",
        "        answer = Path(str(number) + \"-answer.txt\").read_text()\n",
        "        answers.append(answer)"
      ],
      "execution_count": 0,
      "outputs": [
        {
          "output_type": "stream",
          "text": [
            "25414\n",
            "16762\n"
          ],
          "name": "stdout"
        }
      ]
    },
    {
      "cell_type": "markdown",
      "metadata": {
        "id": "3lTWwVm53lf0",
        "colab_type": "text"
      },
      "source": [
        "Criar dicionários com id e perguntas"
      ]
    },
    {
      "cell_type": "code",
      "metadata": {
        "id": "4HzVtQzj3p1i",
        "colab_type": "code",
        "colab": {}
      },
      "source": [
        "answers_dict = dict(zip(qa_number, answers))\n",
        "questions_dict = dict(zip(qa_number, questions))\n",
        "\n",
        "import json\n",
        "with open('answers_raw.json', 'w') as json_file:\n",
        "    json.dump(answers_dict, json_file)\n",
        "\n",
        "with open('questions_raw.json', 'w') as json_file:\n",
        "    json.dump(questions_dict, json_file)"
      ],
      "execution_count": 0,
      "outputs": []
    },
    {
      "cell_type": "markdown",
      "metadata": {
        "id": "MVZOb5PS8hc9",
        "colab_type": "text"
      },
      "source": [
        "Carregar dicionário com id e perguntas"
      ]
    },
    {
      "cell_type": "code",
      "metadata": {
        "id": "4HYSxKCl8lXY",
        "colab_type": "code",
        "outputId": "a3f9a497-d892-4a02-9552-722493c2681a",
        "colab": {
          "base_uri": "https://localhost:8080/",
          "height": 34
        }
      },
      "source": [
        "%cd data\n",
        "import json\n",
        "with open('answers_raw.json') as json_file:\n",
        "    answers_dict = json.load(json_file)\n",
        "\n",
        "with open('questions_raw.json') as json_file:\n",
        "    questions_dict = json.load(json_file)"
      ],
      "execution_count": 0,
      "outputs": [
        {
          "output_type": "stream",
          "text": [
            "/content/drive/My Drive/I.C. Nádia/Datasets/Train/milkqa/data\n"
          ],
          "name": "stdout"
        }
      ]
    },
    {
      "cell_type": "markdown",
      "metadata": {
        "id": "3VMo8anbDeWO",
        "colab_type": "text"
      },
      "source": [
        "Pegar o dicionário de tradução"
      ]
    },
    {
      "cell_type": "code",
      "metadata": {
        "id": "MYfWJF3o_gqY",
        "colab_type": "code",
        "outputId": "e5ceeb0f-8bb5-4365-cac7-eb8261dfa4cb",
        "colab": {
          "base_uri": "https://localhost:8080/",
          "height": 34
        }
      },
      "source": [
        "%cd ..\n",
        "#!wget https://github.com/jubs12/mtdnn_port/raw/master/Translation/milkqa-dic.json"
      ],
      "execution_count": 0,
      "outputs": [
        {
          "output_type": "stream",
          "text": [
            "/content/drive/My Drive/I.C. Nádia/Datasets/Training/milkqa\n"
          ],
          "name": "stdout"
        }
      ]
    },
    {
      "cell_type": "markdown",
      "metadata": {
        "id": "JRtL_Rh-Dlj2",
        "colab_type": "text"
      },
      "source": [
        "Substituir pelas traduções"
      ]
    },
    {
      "cell_type": "code",
      "metadata": {
        "id": "IgXoQHNNqCHH",
        "colab_type": "code",
        "outputId": "5ef8fb3c-f59f-4e00-9cf7-485a07e0765d",
        "colab": {
          "base_uri": "https://localhost:8080/",
          "height": 50
        }
      },
      "source": [
        "import json\n",
        "from copy import copy\n",
        "\n",
        "with open('milkqa-dic.json') as f:\n",
        "    dic = json.load(f)\n",
        "\n",
        "answers_not_translated = copy(list(answers_dict.keys()))\n",
        "\n",
        "for key in answers_dict.keys():\n",
        "    try:\n",
        "        if key in answers_not_translated:\n",
        "            answer = answers_dict[key]\n",
        "            answers_dict[key] = dic[answer]\n",
        "            answers_not_translated.remove(key)\n",
        "            #print(key)\n",
        "    except:\n",
        "        pass\n",
        "\n",
        "print(\"Answers not translated: {}\".format(answers_not_translated))\n",
        "with open('answers.json', 'w') as f:\n",
        "    json.dump(answers_dict,f)\n",
        "\n",
        "with open('answers_not_translated.json', 'w') as f:\n",
        "    json.dump(answers_not_translated,f)\n",
        "\n",
        "questions_not_translated = copy(list(questions_dict.keys()))\n",
        "for key in questions_dict.keys():\n",
        "    try:\n",
        "        if key in questions_not_translated:\n",
        "            question = questions_dict[key]\n",
        "            questions_dict[key] = dic[question]\n",
        "            questions_not_translated.remove(key)\n",
        "            #print(key)\n",
        "    except:\n",
        "        pass\n",
        "\n",
        "print(\"Questions not translated: {}\".format(questions_not_translated))\n",
        "with open('questions.json', 'w') as f:\n",
        "    json.dump(questions_dict,f)\n",
        "\n",
        "with open('questions_not_translated.json', 'w') as f:\n",
        "    json.dump(questions_not_translated,f)"
      ],
      "execution_count": 0,
      "outputs": [
        {
          "output_type": "stream",
          "text": [
            "Answers not translated: ['12212']\n",
            "Questions not translated: ['25414', '16762']\n"
          ],
          "name": "stdout"
        }
      ]
    },
    {
      "cell_type": "markdown",
      "metadata": {
        "id": "yApXSU-aF33u",
        "colab_type": "text"
      },
      "source": [
        "Traduzir restantes"
      ]
    },
    {
      "cell_type": "code",
      "metadata": {
        "id": "Q2iwjhLPFjBx",
        "colab_type": "code",
        "colab": {}
      },
      "source": [
        "import Auxiliar\n",
        "missing = [answers_dict['12212'], questions_dict['25414'], questions_dict['16762']]\n",
        "missing_dct = Auxiliar.translate_lst2dct(missing,'en','missing_milkqa-dic.json')"
      ],
      "execution_count": 0,
      "outputs": []
    },
    {
      "cell_type": "markdown",
      "metadata": {
        "id": "DVNu4hlg3CRh",
        "colab_type": "text"
      },
      "source": [
        "Enviar restantes"
      ]
    },
    {
      "cell_type": "code",
      "metadata": {
        "id": "-Ovd2ngFHi7k",
        "colab_type": "code",
        "colab": {}
      },
      "source": [
        "#answers_dict['12212'] =  missing_dict[answers_dict['12212']]\n",
        "#questions_dict['25414'] =  missing_dict[questions_dict['25414']]\n",
        "#questions_dict['16762'] =  missing_dict[questions_dict['16762']]\n",
        "\n",
        "with open('questions.json', 'w') as f:\n",
        "    json.dump(questions_dict,f)\n",
        "\n",
        "with open('answers.json', 'w') as f:\n",
        "    json.dump(answers_dict,f)"
      ],
      "execution_count": 0,
      "outputs": []
    },
    {
      "cell_type": "markdown",
      "metadata": {
        "id": "nBgnmyRD58aQ",
        "colab_type": "text"
      },
      "source": [
        "Atualizar dicionário original"
      ]
    },
    {
      "cell_type": "code",
      "metadata": {
        "id": "PINkOrzX3x-f",
        "colab_type": "code",
        "colab": {}
      },
      "source": [
        "with open('missing_milkqa-dic.json') as f:\n",
        "    missing = json.load(f)\n",
        "\n",
        "with open('milkqa-dic.json') as f:\n",
        "    dic = json.load(f)\n",
        "\n",
        "dic.update(missing)\n",
        "\n",
        "with open('milkqa-dic.json', 'w') as f:\n",
        "    json.dump(dic,f)"
      ],
      "execution_count": 0,
      "outputs": []
    },
    {
      "cell_type": "markdown",
      "metadata": {
        "id": "W_5MHmJjAifl",
        "colab_type": "text"
      },
      "source": [
        "Inserir as perguntas traduzidas na tabela"
      ]
    },
    {
      "cell_type": "code",
      "metadata": {
        "id": "RwlDMXzE3GuH",
        "colab_type": "code",
        "outputId": "d618e9a6-8e24-4627-8038-2dd2ddc93739",
        "colab": {
          "base_uri": "https://localhost:8080/",
          "height": 69
        }
      },
      "source": [
        "import pandas as pd\n",
        "import json\n",
        "import re\n",
        "import os\n",
        "\n",
        "names = [f for f in os.listdir(os.curdir) if '-' in f and 'tsv' in f]\n",
        "hypotheses = ['hypothesis_{}'.format(i) for i in range(1,51)]\n",
        "header_names = ['id','label'] + hypotheses\n",
        "output_header = ['id','label','premise'] + hypotheses\n",
        "\n",
        "with open('questions.json') as f:\n",
        "    questions_dict = json.load(f)\n",
        "\n",
        "for key in questions_dict.keys():\n",
        "    questions_dict[key] = questions_dict[key].strip()\n",
        "    questions_dict[key] = questions_dict[key].replace('\\n', '')\n",
        "\n",
        "with open('answers.json') as f:\n",
        "    answers_dict = json.load(f)\n",
        "\n",
        "for key in answers_dict.keys():\n",
        "    answers_dict[key] = answers_dict[key].strip()\n",
        "    answers_dict[key] = answers_dict[key].replace('\\n', '')\n",
        "\n",
        "for name in names:\n",
        "    table = pd.read_csv(name, header = None, sep = '\\t', names = header_names)\n",
        "    table['premise'] = table['id'].astype(str).map(questions_dict)\n",
        "    \n",
        "    for col in hypotheses:\n",
        "        table[col] = table[col].astype(str).map(answers_dict)\n",
        "\n",
        "    output_name = re.sub(r'(.*)-(.*?)', r'\\1_\\2', name)\n",
        "    print(output_name)\n",
        "    table.to_csv(output_name, sep = '\\t', index = False, columns = output_header, header = None)"
      ],
      "execution_count": 0,
      "outputs": [
        {
          "output_type": "stream",
          "text": [
            "milkqa_test.tsv\n",
            "milkqa_dev.tsv\n",
            "milkqa_train.tsv\n"
          ],
          "name": "stdout"
        }
      ]
    },
    {
      "cell_type": "markdown",
      "metadata": {
        "id": "hC_LciVfoWjp",
        "colab_type": "text"
      },
      "source": [
        "Tirar formatações html"
      ]
    },
    {
      "cell_type": "code",
      "metadata": {
        "id": "zuSYsgNzoV_L",
        "colab_type": "code",
        "outputId": "1121a100-c37b-4fe1-b179-4af5162a83a0",
        "colab": {
          "base_uri": "https://localhost:8080/",
          "height": 52
        }
      },
      "source": [
        "!sh ftfy_milkqa.sh"
      ],
      "execution_count": 0,
      "outputs": [
        {
          "output_type": "stream",
          "text": [
            "Requirement already satisfied: ftfy in /usr/local/lib/python3.6/dist-packages (5.7)\n",
            "Requirement already satisfied: wcwidth in /usr/local/lib/python3.6/dist-packages (from ftfy) (0.1.8)\n"
          ],
          "name": "stdout"
        }
      ]
    }
  ]
}
