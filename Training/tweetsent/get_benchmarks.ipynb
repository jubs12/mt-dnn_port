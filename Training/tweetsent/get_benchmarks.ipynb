{
  "nbformat": 4,
  "nbformat_minor": 0,
  "metadata": {
    "colab": {
      "name": "get_benchmarks.ipynb",
      "provenance": [],
      "collapsed_sections": []
    },
    "kernelspec": {
      "name": "python3",
      "display_name": "Python 3"
    }
  },
  "cells": [
    {
      "cell_type": "markdown",
      "metadata": {
        "id": "R3wy72h_Xxzq",
        "colab_type": "text"
      },
      "source": [
        "Baixar corpus e *script* de avaliação"
      ]
    },
    {
      "cell_type": "code",
      "metadata": {
        "id": "njm6ce3AXZKb",
        "colab_type": "code",
        "outputId": "21cee493-5737-4a5d-d0de-2d908692b77b",
        "colab": {
          "base_uri": "https://localhost:8080/",
          "height": 224
        }
      },
      "source": [
        "!wget https://bitbucket.org/HBrum/tweetsentbr/raw/14f11f83743cc8f66e85d2fc272c814dc5750c11/sent-analysis/data/Portuguese_Twitter_sentiment.csv\n",
        "!wget https://bitbucket.org/HBrum/tweetsentbr/raw/14f11f83743cc8f66e85d2fc272c814dc5750c11/sent-analysis/classify.py"
      ],
      "execution_count": 0,
      "outputs": [
        {
          "output_type": "stream",
          "text": [
            "--2020-03-21 23:31:22--  https://bitbucket.org/HBrum/tweetsentbr/raw/14f11f83743cc8f66e85d2fc272c814dc5750c11/sent-analysis/data/Portuguese_Twitter_sentiment.csv\n",
            "Resolving bitbucket.org (bitbucket.org)... 18.205.93.1, 18.205.93.0, 18.205.93.2, ...\n",
            "Connecting to bitbucket.org (bitbucket.org)|18.205.93.1|:443... connected.\n",
            "HTTP request sent, awaiting response... 200 OK\n",
            "Length: 4825394 (4.6M) [text/plain]\n",
            "Saving to: ‘Portuguese_Twitter_sentiment.csv’\n",
            "\n",
            "Portuguese_Twitter_ 100%[===================>]   4.60M  3.10MB/s    in 1.5s    \n",
            "\n",
            "2020-03-21 23:31:25 (3.10 MB/s) - ‘Portuguese_Twitter_sentiment.csv’ saved [4825394/4825394]\n",
            "\n"
          ],
          "name": "stdout"
        }
      ]
    },
    {
      "cell_type": "markdown",
      "metadata": {
        "id": "1vD1fIF4ZGQl",
        "colab_type": "text"
      },
      "source": [
        "\n",
        "Arquivo com resultados"
      ]
    },
    {
      "cell_type": "code",
      "metadata": {
        "id": "hUgmYv5DY-MA",
        "colab_type": "code",
        "colab": {}
      },
      "source": [
        "filepath = 'results/Portuguese_Twitter_sentiment.csv'"
      ],
      "execution_count": 0,
      "outputs": []
    },
    {
      "cell_type": "markdown",
      "metadata": {
        "id": "tA87DK4YZNuX",
        "colab_type": "text"
      },
      "source": [
        "Carregar *scores* e arquivo teste"
      ]
    },
    {
      "cell_type": "code",
      "metadata": {
        "id": "LfFBDHbCZI5y",
        "colab_type": "code",
        "colab": {}
      },
      "source": [
        "from classify import report\n",
        "import pandas as pd\n",
        "\n",
        "corpus  = pd.to_csv('Portuguese_Twitter_sentiment.csv')\n",
        "result = pd.to_csv(filepath)\n",
        "\n",
        "\n",
        "distances = result['distances']\n",
        "\n",
        "number = {\n",
        "    'Negative': 0, \n",
        "    'Neutral': 1, \n",
        "    'Positive': 2\n",
        "}\n",
        "\n",
        "predictions = number[result['predictions']].tolist()\n",
        "\n",
        "y_test = list()\n",
        "for result_idx, result_row in result.iterrows():\n",
        "    uid = result_row['TwitterID']\n",
        "    \n",
        "    corpus_row  = corpus[corpus['TwitterID'] == uid]\n",
        "    y = corpus_row['HandLabel']\n",
        "    \n",
        "    y_test.append(number[y])\n",
        "\n",
        "report(distances, predictions, y_test)"
      ],
      "execution_count": 0,
      "outputs": []
    }
  ]
}