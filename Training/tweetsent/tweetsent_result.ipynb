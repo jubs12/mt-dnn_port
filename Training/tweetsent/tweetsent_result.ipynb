{
  "nbformat": 4,
  "nbformat_minor": 0,
  "metadata": {
    "colab": {
      "name": "tweetsent_result.ipynb",
      "provenance": [],
      "collapsed_sections": []
    },
    "kernelspec": {
      "name": "python3",
      "display_name": "Python 3"
    }
  },
  "cells": [
    {
      "cell_type": "markdown",
      "metadata": {
        "id": "1vD1fIF4ZGQl",
        "colab_type": "text"
      },
      "source": [
        "Arquivo com resultados"
      ]
    },
    {
      "cell_type": "code",
      "metadata": {
        "id": "hUgmYv5DY-MA",
        "colab_type": "code",
        "colab": {}
      },
      "source": [
        "%cd results\n",
        "filepath = 'tweetsent_test_scores_4.json'"
      ],
      "execution_count": 0,
      "outputs": []
    },
    {
      "cell_type": "markdown",
      "metadata": {
        "id": "tA87DK4YZNuX",
        "colab_type": "text"
      },
      "source": [
        "Carregar *scores* e arquivo teste"
      ]
    },
    {
      "cell_type": "code",
      "metadata": {
        "id": "LfFBDHbCZI5y",
        "colab_type": "code",
        "colab": {}
      },
      "source": [
        "import pandas as pd\n",
        "import json\n",
        "\n",
        "with open(filepath) as f:\n",
        "    output = json.load(f)\n",
        "\n",
        "rows = list()\n",
        "headers = ['TweetID', 'predictions', 'distances']\n",
        "labels = ['Negative', 'Neutral', 'Positive']\n",
        "\n",
        "for idx, answer in enumerate(output['predictions']):\n",
        "    uid = output['uids'][idx]\n",
        "    distance = output['scores'][idx]\n",
        "    label = labels[answer]\n",
        "    \n",
        "    rows.append((uid, label, distance)) \n",
        "\n",
        "df = pd.DataFrame(rows, columns = headers)\n",
        "df.to_csv('Portuguese_Twitter_sentiment.csv', index = None)"
      ],
      "execution_count": 0,
      "outputs": []
    }
  ]
}