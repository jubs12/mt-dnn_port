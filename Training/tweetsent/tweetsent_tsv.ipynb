{
  "nbformat": 4,
  "nbformat_minor": 0,
  "metadata": {
    "colab": {
      "name": "tweetsent_tsv.ipynb",
      "provenance": [],
      "collapsed_sections": []
    },
    "kernelspec": {
      "name": "python3",
      "display_name": "Python 3"
    }
  },
  "cells": [
     {
      "cell_type": "markdown",
      "metadata": {
        "id": "v8jKJ0NsMony",
        "colab_type": "text"
      },
      "source": [
        "Extrair *dataset*"
      ]
    },
    {
      "cell_type": "code",
      "metadata": {
        "id": "LJ8-hVAaLYrT",
        "colab_type": "code",
        "colab": {
          "base_uri": "https://localhost:8080/",
          "height": 243
        },
        "outputId": "77f1238e-30f4-4fef-fe96-9a949225db70"
      },
      "source": [
        "!unzip tweetSentBR_extracted.zip\n",
        "%cd tweetSentBR_extracted"
      ],
      "execution_count": 28,
      "outputs": [
        {
          "output_type": "stream",
          "text": [
            "Archive:  tweetSentBR_extracted.zip\n",
            "   creating: tweetSentBR_extracted/\n",
            "  inflating: tweetSentBR_extracted/testTT.neg  \n",
            "  inflating: tweetSentBR_extracted/testTT.neu  \n",
            "  inflating: tweetSentBR_extracted/testTT.pos  \n",
            "  inflating: tweetSentBR_extracted/trainTT.neg  \n",
            "  inflating: tweetSentBR_extracted/trainTT.neu  \n",
            "  inflating: tweetSentBR_extracted/trainTT.pos  \n",
            "  inflating: tweetSentBR_extracted/tweets.none  \n",
            "  inflating: tweetSentBR_extracted/tweets.neg  \n",
            "  inflating: tweetSentBR_extracted/tweets.neu  \n",
            "  inflating: tweetSentBR_extracted/tweets.pos  \n",
            "/content/tweetSentBR_extracted\n"
          ],
          "name": "stdout"
        }
      ]
    },
    {
      "cell_type": "markdown",
      "metadata": {
        "id": "JTe-NYtZ7Ci5",
        "colab_type": "text"
      },
      "source": [
        "Gerar tabelas separadas por tabulação"
      ]
    },
    {
      "cell_type": "code",
      "metadata": {
        "id": "9wZIV1BdMzzO",
        "colab_type": "code",
        "outputId": "6a28e226-21eb-4fa2-cd8a-764ab245cc4c",
        "colab": {
          "base_uri": "https://localhost:8080/",
          "height": 121
        }
      },
      "source": [
        "import os\n",
        "import re\n",
        "\n",
        "corpus = [f for f in os.listdir(os.curdir) if 'TT' in f and not 'tab' in f]\n",
        "\n",
        "for filepath in corpus:\n",
        "    with open(filepath) as f:\n",
        "        text = f.read()\n",
        "\n",
        "    assert '\\t' not in text \n",
        "    \n",
        "    outtext = re.sub(r'(.+?) (.+)',r'\\1\\t\\2', text)\n",
        "    outpath = re.sub(r'(.+)\\.(.+)', r'\\1_tab.\\2',filepath)\n",
        "    with open(outpath, 'w') as f:\n",
        "        f.write(outtext)\n",
        "        print(outpath)"
      ],
      "execution_count": 0,
      "outputs": [
        {
          "output_type": "stream",
          "text": [
            "trainTT_tab.neg\n",
            "testTT_tab.neu\n",
            "trainTT_tab.pos\n",
            "trainTT_tab.neu\n",
            "testTT_tab.neg\n",
            "testTT_tab.pos\n"
          ],
          "name": "stdout"
        }
      ]
    },
    {
      "cell_type": "markdown",
      "metadata": {
        "id": "WdV0nz7o7P7W",
        "colab_type": "text"
      },
      "source": [
        "Formatar arquivo para o formato do mt-dnn"
      ]
    },
    {
      "cell_type": "code",
      "metadata": {
        "id": "cjb5rkvuqvSL",
        "colab_type": "code",
        "outputId": "2a2f96bd-018a-43b8-f77b-9aec08d2a73b",
        "colab": {
          "base_uri": "https://localhost:8080/",
          "height": 121
        }
      },
      "source": [
        "import pandas as pd\n",
        "\n",
        "splits = {\n",
        "    'train' : [f for f in os.listdir(os.curdir) if 'train' in f and 'tab' in f],\n",
        "    'test'  : [f for f in os.listdir(os.curdir) if 'test' in f and 'tab' in f],\n",
        "}\n",
        "\n",
        "header = ['id', 'premise']\n",
        "\n",
        "abbr = {\n",
        "    'neg': 'Negative', \n",
        "    'neu': 'Neutral',\n",
        "    'pos': 'Positive',\n",
        "} \n",
        "\n",
        "output_header = ['id', 'label', 'premise']\n",
        "\n",
        "for name, files in splits.items():\n",
        "\n",
        "    output = pd.DataFrame()\n",
        "    for f in files:\n",
        "        table = pd.read_csv(f, index_col = None, sep = '\\t', names = header)\n",
        "\n",
        "        posfix = f.split('.')[1]\n",
        "        label = abbr[posfix]\n",
        "        table['label'] = label\n",
        "\n",
        "        if output.empty:\n",
        "            output = table\n",
        "        else:\n",
        "            output = output.append(table)\n",
        "\n",
        "    output = output.reindex(columns = output_header)\n",
        "    output = output.sample(frac = 1)\n",
        "    \n",
        "    outpath = 'tweetsent_{}_port.csv'.format(name)\n",
        "    output.to_csv(outpath, index = None)\n",
        "\n",
        "    print(outpath)\n",
        "    print('{} tweets\\n'.format(output.shape[0]))"
      ],
      "execution_count": 0,
      "outputs": [
        {
          "output_type": "stream",
          "text": [
            "tweetsent_train_port.csv\n",
            "10980 tweets\n",
            "\n",
            "tweetsent_test_port.csv\n",
            "2010 tweets\n",
            "\n"
          ],
          "name": "stdout"
        }
      ]
    },
    {
      "cell_type": "markdown",
      "metadata": {
        "id": "aCkq-c0r7W7e",
        "colab_type": "text"
      },
      "source": [
        "Substituir pela tradução"
      ]
    },
    {
      "cell_type": "code",
      "metadata": {
        "id": "siZLi_JI7Zad",
        "colab_type": "code",
        "outputId": "ccd3a921-9681-49c4-c24b-938953eff76b",
        "colab": {
          "base_uri": "https://localhost:8080/",
          "height": 52
        }
      },
      "source": [
        "import json\n",
        "\n",
        "files = [f for f in os.listdir(os.curdir) if 'csv' in f and 'port' in f]\n",
        "\n",
        "with open('tweetsent-dic.json') as f:\n",
        "    translation = json.load(f)\n",
        "\n",
        "for filepath in files:\n",
        "    table = pd.read_csv(filepath)\n",
        "    table['premise'] = table['premise'].map(translation)\n",
        "    \n",
        "    outpath = filepath.replace('_port.csv', '.tsv')\n",
        "    table.to_csv(outpath, index = None, sep = '\\t', header = None)\n",
        "    \n",
        "    print(outpath)"
      ],
      "execution_count": 0,
      "outputs": [
        {
          "output_type": "stream",
          "text": [
            "tweetsent_test.tsv\n",
            "tweetsent_train.tsv\n"
          ],
          "name": "stdout"
        }
      ]
    },
    {
      "cell_type": "markdown",
      "metadata": {
        "id": "Gzr2ba0Yu-tK",
        "colab_type": "text"
      },
      "source": [
        "Remover marcas html"
      ]
    },
    {
      "cell_type": "code",
      "metadata": {
        "id": "osw31QPeu9LQ",
        "colab_type": "code",
        "colab": {}
      },
      "source": [
        "!pip install ftfy\n",
        "sh ftfy_tweetsent.sh"
      ],
      "execution_count": 0,
      "outputs": []
    }
  ]
}
