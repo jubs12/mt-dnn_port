{
  "nbformat": 4,
  "nbformat_minor": 0,
  "metadata": {
    "colab": {
      "name": "faketweet_tsv.ipynb",
      "provenance": [],
      "collapsed_sections": []
    },
    "kernelspec": {
      "name": "python3",
      "display_name": "Python 3"
    }
  },
  "cells": [
    {
      "cell_type": "markdown",
      "metadata": {
        "id": "ktbmwzA4HdGB",
        "colab_type": "text"
      },
      "source": [
        "Importar dataset\n"
      ]
    },
    {
      "cell_type": "code",
      "metadata": {
        "id": "73rU6UFpHpZb",
        "colab_type": "code",
        "outputId": "f55680ca-5c93-4aef-a9bf-2b3e29323cfa",
        "colab": {
          "base_uri": "https://localhost:8080/",
          "height": 121
        }
      },
      "source": [
        "!git clone https://github.com/prc992/FakeTweet.Br.git\n",
        "!%cd FakeTweet.Br/"
      ],
      "execution_count": 0,
      "outputs": [
        {
          "output_type": "stream",
          "text": [
            "Cloning into 'FakeTweet.Br'...\n",
            "remote: Enumerating objects: 9, done.\u001b[K\n",
            "remote: Counting objects: 100% (9/9), done.\u001b[K\n",
            "remote: Compressing objects: 100% (8/8), done.\u001b[K\n",
            "remote: Total 9 (delta 1), reused 0 (delta 0), pack-reused 0\u001b[K\n",
            "Unpacking objects: 100% (9/9), done.\n"
          ],
          "name": "stdout"
        }
      ]
    },
    {
      "cell_type": "markdown",
      "metadata": {
        "id": "jA4eXDRePPP1",
        "colab_type": "text"
      },
      "source": [
        "Importar dicionário de tradução"
      ]
    },
    {
      "cell_type": "code",
      "metadata": {
        "id": "TNKru-7qPapd",
        "colab_type": "code",
        "colab": {}
      },
      "source": [
        "import json\n",
        "with open('faketweet-dic.json') as f:\n",
        "    dic = json.load(f)"
      ],
      "execution_count": 0,
      "outputs": []
    },
    {
      "cell_type": "markdown",
      "metadata": {
        "id": "4W9RobFMNt3N",
        "colab_type": "text"
      },
      "source": [
        "Formatar tabela"
      ]
    },
    {
      "cell_type": "code",
      "metadata": {
        "id": "i5MR7ypJHagc",
        "colab_type": "code",
        "colab": {}
      },
      "source": [
        "import pandas as pd\n",
        "import os\n",
        "\n",
        "files =  [f for f in os.listdir(os.curdir) if 'csv' in f]\n",
        "unwanted = [\n",
        "    'id',\n",
        "    'Unnamed: 0', \n",
        "    'subject', \n",
        "    'date', \n",
        "    'retweets',\n",
        "    'permalink',\n",
        "    'favorites',\n",
        "]\n",
        "\n",
        "output_header = ['classificacao', 'text']\n",
        "\n",
        "output_names = {\n",
        "    'FakeTweetBr-Test.csv': 'faketweet_test.tsv',\n",
        "    'FakeTweetBr.csv': 'faketweet_train.tsv',\n",
        "}\n",
        "\n",
        "for f in files:\n",
        "    table = pd.read_csv(file)\n",
        "    \n",
        "    table = table.drop(columns = unwanted)\n",
        "    table['text'] = table['text'].map(dic)\n",
        "\n",
        "    output_name = output_names[f]\n",
        "    table.to_csv(output_name, sep = '\\t', columns = output_header, header = None)"
      ],
      "execution_count": 0,
      "outputs": []
    },
    {
      "cell_type": "markdown",
      "metadata": {
        "id": "-9txEeHYSTWq",
        "colab_type": "text"
      },
      "source": [
        "Tirar formatações html"
      ]
    },
    {
      "cell_type": "code",
      "metadata": {
        "id": "CuLEpQAsSSGu",
        "colab_type": "code",
        "colab": {}
      },
      "source": [
        "!pip install ftfy\n",
        "!sh ftfy_milkqa.sh"
      ],
      "execution_count": 0,
      "outputs": []
    }
  ]
}