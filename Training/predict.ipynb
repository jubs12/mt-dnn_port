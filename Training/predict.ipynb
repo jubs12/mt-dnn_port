{
  "nbformat": 4,
  "nbformat_minor": 0,
  "metadata": {
    "colab": {
      "name": "predict.ipynb",
      "provenance": [],
      "collapsed_sections": []
    },
    "kernelspec": {
      "name": "python3",
      "display_name": "Python 3"
    }
  },
  "cells": [
    {
      "cell_type": "markdown",
      "metadata": {
        "colab_type": "text",
        "id": "e5UW0DRIONXm"
      },
      "source": [
        "Escolha da task na pasta Training"
      ]
    },
    {
      "cell_type": "code",
      "execution_count": 0,
      "metadata": {
        "colab": {},
        "colab_type": "code",
        "id": "JW5kRK34cn5-"
      },
      "outputs": [],
      "source": [
        "TASK = 'assin-ptpt-sts'\n",
        "DATA_DIR = 'data/canonical_data/'\n",
        "MODEL_PATH = 'checkpoint/model_4.pt'\n",
        "SCORE_PATH = 'score-{}.json'.format(TASK)\n",
        "TEST_PATH = DATA_DIR  +  'bert_uncased_lower/'  + TASK + '_test.json'"
      ]
    },
    {
      "cell_type": "markdown",
      "metadata": {
        "colab_type": "text",
        "id": "oPmiM3DpM9oD"
      },
      "source": [
        "Baixar o repositório do mt-dnn e requisitos"
      ]
    },
    {
      "cell_type": "code",
      "execution_count": 8,
      "metadata": {
        "colab": {
          "base_uri": "https://localhost:8080/",
          "height": 1000
        },
        "colab_type": "code",
        "id": "xMnlg408Sryq",
        "outputId": "1f8ce5cf-592b-4803-ec63-ce24c1d928ab"
      },
      "outputs": [
        {
          "name": "stdout",
          "output_type": "stream",
          "text": [
            "Cloning into 'mt-dnn'...\n",
            "remote: Enumerating objects: 1577, done.\u001b[K\n",
            "Receiving objects:   0% (1/1577)   \rReceiving objects:   1% (16/1577)   \rReceiving objects:   2% (32/1577)   \rReceiving objects:   3% (48/1577)   \rReceiving objects:   4% (64/1577)   \rReceiving objects:   5% (79/1577)   \rReceiving objects:   6% (95/1577)   \rReceiving objects:   7% (111/1577)   \rReceiving objects:   8% (127/1577)   \rReceiving objects:   9% (142/1577)   \rReceiving objects:  10% (158/1577)   \rReceiving objects:  11% (174/1577)   \rReceiving objects:  12% (190/1577)   \rReceiving objects:  13% (206/1577)   \rReceiving objects:  14% (221/1577)   \rReceiving objects:  15% (237/1577)   \rReceiving objects:  16% (253/1577)   \rReceiving objects:  17% (269/1577)   \rReceiving objects:  18% (284/1577)   \rReceiving objects:  19% (300/1577)   \rReceiving objects:  20% (316/1577)   \rReceiving objects:  21% (332/1577)   \rReceiving objects:  22% (347/1577)   \rReceiving objects:  23% (363/1577)   \rReceiving objects:  24% (379/1577)   \rReceiving objects:  25% (395/1577)   \rReceiving objects:  26% (411/1577)   \rReceiving objects:  27% (426/1577)   \rReceiving objects:  28% (442/1577)   \rReceiving objects:  29% (458/1577)   \rReceiving objects:  30% (474/1577)   \rReceiving objects:  31% (489/1577)   \rReceiving objects:  32% (505/1577)   \rReceiving objects:  33% (521/1577)   \rReceiving objects:  34% (537/1577)   \rReceiving objects:  35% (552/1577)   \rReceiving objects:  36% (568/1577)   \rReceiving objects:  37% (584/1577)   \rReceiving objects:  38% (600/1577)   \rReceiving objects:  39% (616/1577)   \rReceiving objects:  40% (631/1577)   \rReceiving objects:  41% (647/1577)   \rReceiving objects:  42% (663/1577)   \rReceiving objects:  43% (679/1577)   \rReceiving objects:  44% (694/1577)   \rReceiving objects:  45% (710/1577)   \rReceiving objects:  46% (726/1577)   \rReceiving objects:  47% (742/1577)   \rReceiving objects:  48% (757/1577)   \rReceiving objects:  49% (773/1577)   \rReceiving objects:  50% (789/1577)   \rReceiving objects:  51% (805/1577)   \rReceiving objects:  52% (821/1577)   \rReceiving objects:  53% (836/1577)   \rReceiving objects:  54% (852/1577)   \rReceiving objects:  55% (868/1577)   \rReceiving objects:  56% (884/1577)   \rReceiving objects:  57% (899/1577)   \rReceiving objects:  58% (915/1577)   \rReceiving objects:  59% (931/1577)   \rReceiving objects:  60% (947/1577)   \rReceiving objects:  61% (962/1577)   \rReceiving objects:  62% (978/1577)   \rReceiving objects:  63% (994/1577)   \rReceiving objects:  64% (1010/1577)   \rReceiving objects:  65% (1026/1577)   \rremote: Total 1577 (delta 0), reused 0 (delta 0), pack-reused 1577\u001b[K\n",
            "Receiving objects:  66% (1041/1577)   \rReceiving objects:  67% (1057/1577)   \rReceiving objects:  68% (1073/1577)   \rReceiving objects:  69% (1089/1577)   \rReceiving objects:  70% (1104/1577)   \rReceiving objects:  71% (1120/1577)   \rReceiving objects:  72% (1136/1577)   \rReceiving objects:  73% (1152/1577)   \rReceiving objects:  74% (1167/1577)   \rReceiving objects:  75% (1183/1577)   \rReceiving objects:  76% (1199/1577)   \rReceiving objects:  77% (1215/1577)   \rReceiving objects:  78% (1231/1577)   \rReceiving objects:  79% (1246/1577)   \rReceiving objects:  80% (1262/1577)   \rReceiving objects:  81% (1278/1577)   \rReceiving objects:  82% (1294/1577)   \rReceiving objects:  83% (1309/1577)   \rReceiving objects:  84% (1325/1577)   \rReceiving objects:  85% (1341/1577)   \rReceiving objects:  86% (1357/1577)   \rReceiving objects:  87% (1372/1577)   \rReceiving objects:  88% (1388/1577)   \rReceiving objects:  89% (1404/1577)   \rReceiving objects:  90% (1420/1577)   \rReceiving objects:  91% (1436/1577)   \rReceiving objects:  92% (1451/1577)   \rReceiving objects:  93% (1467/1577)   \rReceiving objects:  94% (1483/1577)   \rReceiving objects:  95% (1499/1577)   \rReceiving objects:  96% (1514/1577)   \rReceiving objects:  97% (1530/1577)   \rReceiving objects:  98% (1546/1577)   \rReceiving objects:  99% (1562/1577)   \rReceiving objects: 100% (1577/1577)   \rReceiving objects: 100% (1577/1577), 994.86 KiB | 13.82 MiB/s, done.\n",
            "Resolving deltas:   0% (0/891)   \rResolving deltas:   2% (20/891)   \rResolving deltas:   3% (28/891)   \rResolving deltas:   4% (36/891)   \rResolving deltas:   5% (45/891)   \rResolving deltas:   6% (58/891)   \rResolving deltas:   7% (67/891)   \rResolving deltas:   8% (75/891)   \rResolving deltas:   9% (83/891)   \rResolving deltas:  10% (91/891)   \rResolving deltas:  11% (99/891)   \rResolving deltas:  12% (108/891)   \rResolving deltas:  13% (118/891)   \rResolving deltas:  14% (125/891)   \rResolving deltas:  15% (140/891)   \rResolving deltas:  16% (143/891)   \rResolving deltas:  18% (168/891)   \rResolving deltas:  19% (174/891)   \rResolving deltas:  21% (188/891)   \rResolving deltas:  22% (197/891)   \rResolving deltas:  23% (205/891)   \rResolving deltas:  25% (225/891)   \rResolving deltas:  26% (233/891)   \rResolving deltas:  28% (258/891)   \rResolving deltas:  29% (259/891)   \rResolving deltas:  38% (345/891)   \rResolving deltas:  39% (353/891)   \rResolving deltas:  40% (358/891)   \rResolving deltas:  42% (376/891)   \rResolving deltas:  46% (410/891)   \rResolving deltas:  47% (420/891)   \rResolving deltas:  48% (428/891)   \rResolving deltas:  49% (437/891)   \rResolving deltas:  50% (452/891)   \rResolving deltas:  52% (466/891)   \rResolving deltas:  53% (479/891)   \rResolving deltas:  54% (483/891)   \rResolving deltas:  58% (525/891)   \rResolving deltas:  59% (533/891)   \rResolving deltas:  60% (535/891)   \rResolving deltas:  61% (548/891)   \rResolving deltas:  62% (553/891)   \rResolving deltas:  63% (564/891)   \rResolving deltas:  64% (571/891)   \rResolving deltas:  65% (585/891)   \rResolving deltas:  67% (598/891)   \rResolving deltas:  68% (608/891)   \rResolving deltas:  70% (626/891)   \rResolving deltas:  71% (636/891)   \rResolving deltas:  72% (643/891)   \rResolving deltas:  73% (651/891)   \rResolving deltas:  74% (660/891)   \rResolving deltas:  79% (711/891)   \rResolving deltas:  80% (719/891)   \rResolving deltas:  82% (733/891)   \rResolving deltas:  86% (767/891)   \rResolving deltas:  90% (802/891)   \rResolving deltas:  91% (812/891)   \rResolving deltas:  92% (822/891)   \rResolving deltas:  93% (832/891)   \rResolving deltas:  94% (838/891)   \rResolving deltas:  96% (862/891)   \rResolving deltas:  97% (869/891)   \rResolving deltas:  99% (888/891)   \rResolving deltas: 100% (891/891)   \rResolving deltas: 100% (891/891), done.\n",
            "/content/mt-dnn\n",
            "Collecting pytorch_pretrained_bert==0.5.1\n",
            "\u001b[?25l  Downloading https://files.pythonhosted.org/packages/78/1a/1d94d7725825d6c6796da00b9ad5c875eab69c15bc8ffd0d1588b83600bc/pytorch_pretrained_bert-0.5.1-py3-none-any.whl (86kB)\n",
            "\u001b[K     |████████████████████████████████| 92kB 2.9MB/s \n",
            "\u001b[?25hRequirement already satisfied: tqdm in /usr/local/lib/python3.6/dist-packages (from pytorch_pretrained_bert==0.5.1) (4.28.1)\n",
            "Requirement already satisfied: requests in /usr/local/lib/python3.6/dist-packages (from pytorch_pretrained_bert==0.5.1) (2.21.0)\n",
            "Requirement already satisfied: torch>=0.4.1 in /usr/local/lib/python3.6/dist-packages (from pytorch_pretrained_bert==0.5.1) (1.4.0)\n",
            "Requirement already satisfied: numpy in /usr/local/lib/python3.6/dist-packages (from pytorch_pretrained_bert==0.5.1) (1.17.5)\n",
            "Requirement already satisfied: boto3 in /usr/local/lib/python3.6/dist-packages (from pytorch_pretrained_bert==0.5.1) (1.11.15)\n",
            "Requirement already satisfied: chardet<3.1.0,>=3.0.2 in /usr/local/lib/python3.6/dist-packages (from requests->pytorch_pretrained_bert==0.5.1) (3.0.4)\n",
            "Requirement already satisfied: idna<2.9,>=2.5 in /usr/local/lib/python3.6/dist-packages (from requests->pytorch_pretrained_bert==0.5.1) (2.8)\n",
            "Requirement already satisfied: urllib3<1.25,>=1.21.1 in /usr/local/lib/python3.6/dist-packages (from requests->pytorch_pretrained_bert==0.5.1) (1.24.3)\n",
            "Requirement already satisfied: certifi>=2017.4.17 in /usr/local/lib/python3.6/dist-packages (from requests->pytorch_pretrained_bert==0.5.1) (2019.11.28)\n",
            "Requirement already satisfied: jmespath<1.0.0,>=0.7.1 in /usr/local/lib/python3.6/dist-packages (from boto3->pytorch_pretrained_bert==0.5.1) (0.9.4)\n",
            "Requirement already satisfied: botocore<1.15.0,>=1.14.15 in /usr/local/lib/python3.6/dist-packages (from boto3->pytorch_pretrained_bert==0.5.1) (1.14.15)\n",
            "Requirement already satisfied: s3transfer<0.4.0,>=0.3.0 in /usr/local/lib/python3.6/dist-packages (from boto3->pytorch_pretrained_bert==0.5.1) (0.3.3)\n",
            "Requirement already satisfied: python-dateutil<3.0.0,>=2.1 in /usr/local/lib/python3.6/dist-packages (from botocore<1.15.0,>=1.14.15->boto3->pytorch_pretrained_bert==0.5.1) (2.6.1)\n",
            "Requirement already satisfied: docutils<0.16,>=0.10 in /usr/local/lib/python3.6/dist-packages (from botocore<1.15.0,>=1.14.15->boto3->pytorch_pretrained_bert==0.5.1) (0.15.2)\n",
            "Requirement already satisfied: six>=1.5 in /usr/local/lib/python3.6/dist-packages (from python-dateutil<3.0.0,>=2.1->botocore<1.15.0,>=1.14.15->boto3->pytorch_pretrained_bert==0.5.1) (1.12.0)\n",
            "Installing collected packages: pytorch-pretrained-bert\n",
            "Successfully installed pytorch-pretrained-bert-0.5.1\n",
            "Collecting sentencepiece\n",
            "\u001b[?25l  Downloading https://files.pythonhosted.org/packages/74/f4/2d5214cbf13d06e7cb2c20d84115ca25b53ea76fa1f0ade0e3c9749de214/sentencepiece-0.1.85-cp36-cp36m-manylinux1_x86_64.whl (1.0MB)\n",
            "\u001b[K     |████████████████████████████████| 1.0MB 2.8MB/s \n",
            "\u001b[?25hInstalling collected packages: sentencepiece\n",
            "Successfully installed sentencepiece-0.1.85\n",
            "Collecting seqeval\n",
            "  Downloading https://files.pythonhosted.org/packages/34/91/068aca8d60ce56dd9ba4506850e876aba5e66a6f2f29aa223224b50df0de/seqeval-0.0.12.tar.gz\n",
            "Requirement already satisfied: numpy>=1.14.0 in /usr/local/lib/python3.6/dist-packages (from seqeval) (1.17.5)\n",
            "Requirement already satisfied: Keras>=2.2.4 in /usr/local/lib/python3.6/dist-packages (from seqeval) (2.2.5)\n",
            "Requirement already satisfied: keras-preprocessing>=1.1.0 in /usr/local/lib/python3.6/dist-packages (from Keras>=2.2.4->seqeval) (1.1.0)\n",
            "Requirement already satisfied: six>=1.9.0 in /usr/local/lib/python3.6/dist-packages (from Keras>=2.2.4->seqeval) (1.12.0)\n",
            "Requirement already satisfied: keras-applications>=1.0.8 in /usr/local/lib/python3.6/dist-packages (from Keras>=2.2.4->seqeval) (1.0.8)\n",
            "Requirement already satisfied: pyyaml in /usr/local/lib/python3.6/dist-packages (from Keras>=2.2.4->seqeval) (3.13)\n",
            "Requirement already satisfied: h5py in /usr/local/lib/python3.6/dist-packages (from Keras>=2.2.4->seqeval) (2.8.0)\n",
            "Requirement already satisfied: scipy>=0.14 in /usr/local/lib/python3.6/dist-packages (from Keras>=2.2.4->seqeval) (1.4.1)\n",
            "Building wheels for collected packages: seqeval\n",
            "  Building wheel for seqeval (setup.py) ... \u001b[?25l\u001b[?25hdone\n",
            "  Created wheel for seqeval: filename=seqeval-0.0.12-cp36-none-any.whl size=7424 sha256=49fdd3856db69ec23d26b2a00f543ca8c033413945c00947c9704b35f2da1dca\n",
            "  Stored in directory: /root/.cache/pip/wheels/4f/32/0a/df3b340a82583566975377d65e724895b3fad101a3fb729f68\n",
            "Successfully built seqeval\n",
            "Installing collected packages: seqeval\n",
            "Successfully installed seqeval-0.0.12\n",
            "Collecting tensorboardX\n",
            "\u001b[?25l  Downloading https://files.pythonhosted.org/packages/35/f1/5843425495765c8c2dd0784a851a93ef204d314fc87bcc2bbb9f662a3ad1/tensorboardX-2.0-py2.py3-none-any.whl (195kB)\n",
            "\u001b[K     |████████████████████████████████| 204kB 2.8MB/s \n",
            "\u001b[?25hRequirement already satisfied: six in /usr/local/lib/python3.6/dist-packages (from tensorboardX) (1.12.0)\n",
            "Requirement already satisfied: protobuf>=3.8.0 in /usr/local/lib/python3.6/dist-packages (from tensorboardX) (3.10.0)\n",
            "Requirement already satisfied: numpy in /usr/local/lib/python3.6/dist-packages (from tensorboardX) (1.17.5)\n",
            "Requirement already satisfied: setuptools in /usr/local/lib/python3.6/dist-packages (from protobuf>=3.8.0->tensorboardX) (45.2.0)\n",
            "Installing collected packages: tensorboardX\n",
            "Successfully installed tensorboardX-2.0\n"
          ]
        }
      ],
      "source": [
        "!git clone https://github.com/namisan/mt-dnn\n",
        "%cd mt-dnn \n",
        "#!git checkout f444fe9109d\n",
        "!pip3 install pytorch_pretrained_bert==0.5.1\n",
        "!pip3 install sentencepiece \n",
        "!pip3 install seqeval  \n",
        "!pip3 install tensorboardX"
      ]
    },
    {
      "cell_type": "markdown",
      "metadata": {
        "colab_type": "text",
        "id": "WZAaz77LXbuH"
      },
      "source": [
        "Baixar modelos de rede neural"
      ]
    },
    {
      "cell_type": "code",
      "execution_count": 9,
      "metadata": {
        "colab": {
          "base_uri": "https://localhost:8080/",
          "height": 1000
        },
        "colab_type": "code",
        "id": "rSo5ITaKXPCL",
        "outputId": "dd01f9e4-be69-418b-cf4f-239cda302a88"
      },
      "outputs": [
        {
          "name": "stdout",
          "output_type": "stream",
          "text": [
            "Create a folder BERT_DIR\n",
            "--2020-03-10 19:43:50--  https://mrc.blob.core.windows.net/mt-dnn-model/bert_model_base_v2.pt\n",
            "Resolving mrc.blob.core.windows.net (mrc.blob.core.windows.net)... 52.190.240.132\n",
            "Connecting to mrc.blob.core.windows.net (mrc.blob.core.windows.net)|52.190.240.132|:443... connected.\n",
            "HTTP request sent, awaiting response... 200 OK\n",
            "Length: 437961819 (418M) [application/octet-stream]\n",
            "Saving to: ‘/content/mt-dnn/mt_dnn_models/bert_model_base_uncased.pt’\n",
            "\n",
            "/content/mt-dnn/mt_ 100%[===================>] 417.67M  17.3MB/s    in 23s     \n",
            "\n",
            "2020-03-10 19:44:14 (18.0 MB/s) - ‘/content/mt-dnn/mt_dnn_models/bert_model_base_uncased.pt’ saved [437961819/437961819]\n",
            "\n",
            "--2020-03-10 19:44:14--  https://mrc.blob.core.windows.net/mt-dnn-model/bert_model_large_v2.pt\n",
            "Resolving mrc.blob.core.windows.net (mrc.blob.core.windows.net)... 52.190.240.132\n",
            "Connecting to mrc.blob.core.windows.net (mrc.blob.core.windows.net)|52.190.240.132|:443... connected.\n",
            "HTTP request sent, awaiting response... 200 OK\n",
            "Length: 1340632883 (1.2G) [application/octet-stream]\n",
            "Saving to: ‘/content/mt-dnn/mt_dnn_models/bert_model_large_uncased.pt’\n",
            "\n",
            "/content/mt-dnn/mt_ 100%[===================>]   1.25G  16.1MB/s    in 64s     \n",
            "\n",
            "2020-03-10 19:45:18 (19.9 MB/s) - ‘/content/mt-dnn/mt_dnn_models/bert_model_large_uncased.pt’ saved [1340632883/1340632883]\n",
            "\n",
            "--2020-03-10 19:45:18--  https://mrc.blob.core.windows.net/mt-dnn-model/bert_base_chinese.pt\n",
            "Resolving mrc.blob.core.windows.net (mrc.blob.core.windows.net)... 52.190.240.132\n",
            "Connecting to mrc.blob.core.windows.net (mrc.blob.core.windows.net)|52.190.240.132|:443... connected.\n",
            "HTTP request sent, awaiting response... 200 OK\n",
            "Length: 409122875 (390M) [application/octet-stream]\n",
            "Saving to: ‘/content/mt-dnn/mt_dnn_models/bert_model_base_chinese.pt’\n",
            "\n",
            "/content/mt-dnn/mt_ 100%[===================>] 390.17M  15.9MB/s    in 22s     \n",
            "\n",
            "2020-03-10 19:45:41 (17.7 MB/s) - ‘/content/mt-dnn/mt_dnn_models/bert_model_base_chinese.pt’ saved [409122875/409122875]\n",
            "\n",
            "--2020-03-10 19:45:41--  https://mrc.blob.core.windows.net/mt-dnn-model/mt_dnn_base.pt\n",
            "Resolving mrc.blob.core.windows.net (mrc.blob.core.windows.net)... 52.190.240.132\n",
            "Connecting to mrc.blob.core.windows.net (mrc.blob.core.windows.net)|52.190.240.132|:443... connected.\n",
            "HTTP request sent, awaiting response... 200 OK\n",
            "Length: 437962060 (418M) [application/octet-stream]\n",
            "Saving to: ‘/content/mt-dnn/mt_dnn_models/mt_dnn_base_uncased.pt’\n",
            "\n",
            "/content/mt-dnn/mt_ 100%[===================>] 417.67M  16.6MB/s    in 24s     \n",
            "\n",
            "2020-03-10 19:46:05 (17.6 MB/s) - ‘/content/mt-dnn/mt_dnn_models/mt_dnn_base_uncased.pt’ saved [437962060/437962060]\n",
            "\n",
            "--2020-03-10 19:46:05--  https://mrc.blob.core.windows.net/mt-dnn-model/mt_dnn_large.pt\n",
            "Resolving mrc.blob.core.windows.net (mrc.blob.core.windows.net)... 52.190.240.132\n",
            "Connecting to mrc.blob.core.windows.net (mrc.blob.core.windows.net)|52.190.240.132|:443... connected.\n",
            "HTTP request sent, awaiting response... 200 OK\n",
            "Length: 1340632883 (1.2G) [application/octet-stream]\n",
            "Saving to: ‘/content/mt-dnn/mt_dnn_models/mt_dnn_large_uncased.pt’\n",
            "\n",
            "/content/mt-dnn/mt_ 100%[===================>]   1.25G  16.9MB/s    in 68s     \n",
            "\n",
            "2020-03-10 19:47:14 (18.8 MB/s) - ‘/content/mt-dnn/mt_dnn_models/mt_dnn_large_uncased.pt’ saved [1340632883/1340632883]\n",
            "\n",
            "--2020-03-10 19:47:14--  https://mrc.blob.core.windows.net/mt-dnn-model/mt_dnn_kd_large_cased.pt\n",
            "Resolving mrc.blob.core.windows.net (mrc.blob.core.windows.net)... 52.190.240.132\n",
            "Connecting to mrc.blob.core.windows.net (mrc.blob.core.windows.net)|52.190.240.132|:443... connected.\n",
            "HTTP request sent, awaiting response... 200 OK\n",
            "Length: 1334382387 (1.2G) [application/octet-stream]\n",
            "Saving to: ‘/content/mt-dnn/mt_dnn_models/mt_dnn_kd_large_cased.pt’\n",
            "\n",
            "/content/mt-dnn/mt_ 100%[===================>]   1.24G  15.3MB/s    in 65s     \n",
            "\n",
            "2020-03-10 19:48:20 (19.5 MB/s) - ‘/content/mt-dnn/mt_dnn_models/mt_dnn_kd_large_cased.pt’ saved [1334382387/1334382387]\n",
            "\n",
            "--2020-03-10 19:48:20--  https://storage.googleapis.com/xlnet/released_models/cased_L-24_H-1024_A-16.zip\n",
            "Resolving storage.googleapis.com (storage.googleapis.com)... 172.217.204.128, 2607:f8b0:400c:c15::80\n",
            "Connecting to storage.googleapis.com (storage.googleapis.com)|172.217.204.128|:443... connected.\n",
            "HTTP request sent, awaiting response... 200 OK\n",
            "Length: 1338042341 (1.2G) [application/zip]\n",
            "Saving to: ‘xlnet_cased_large.zip’\n",
            "\n",
            "xlnet_cased_large.z 100%[===================>]   1.25G  57.5MB/s    in 16s     \n",
            "\n",
            "2020-03-10 19:48:36 (80.7 MB/s) - ‘xlnet_cased_large.zip’ saved [1338042341/1338042341]\n",
            "\n",
            "Archive:  xlnet_cased_large.zip\n",
            "   creating: xlnet_cased_L-24_H-1024_A-16/\n",
            "  inflating: xlnet_cased_L-24_H-1024_A-16/xlnet_model.ckpt.index  \n",
            "  inflating: xlnet_cased_L-24_H-1024_A-16/xlnet_model.ckpt.data-00000-of-00001  \n",
            "  inflating: xlnet_cased_L-24_H-1024_A-16/spiece.model  \n",
            "  inflating: xlnet_cased_L-24_H-1024_A-16/xlnet_model.ckpt.meta  \n",
            "  inflating: xlnet_cased_L-24_H-1024_A-16/xlnet_config.json  \n",
            "--2020-03-10 19:48:53--  https://mrc.blob.core.windows.net/mt-dnn-model/xlnet_model_large_cased.pt\n",
            "Resolving mrc.blob.core.windows.net (mrc.blob.core.windows.net)... 52.190.240.132\n",
            "Connecting to mrc.blob.core.windows.net (mrc.blob.core.windows.net)|52.190.240.132|:443... connected.\n",
            "HTTP request sent, awaiting response... 200 OK\n",
            "Length: 1441134024 (1.3G) [application/octet-stream]\n",
            "Saving to: ‘/content/mt-dnn/mt_dnn_models/xlnet_model_large_cased.pt’\n",
            "\n",
            "/content/mt-dnn/mt_ 100%[===================>]   1.34G  11.3MB/s    in 98s     \n",
            "\n",
            "2020-03-10 19:50:31 (14.1 MB/s) - ‘/content/mt-dnn/mt_dnn_models/xlnet_model_large_cased.pt’ saved [1441134024/1441134024]\n",
            "\n",
            "--2020-03-10 19:50:31--  https://dl.fbaipublicfiles.com/fairseq/models/roberta.base.tar.gz\n",
            "Resolving dl.fbaipublicfiles.com (dl.fbaipublicfiles.com)... 104.20.22.166, 104.20.6.166, 2606:4700:10::6814:16a6, ...\n",
            "Connecting to dl.fbaipublicfiles.com (dl.fbaipublicfiles.com)|104.20.22.166|:443... connected.\n",
            "HTTP request sent, awaiting response... 200 OK\n",
            "Length: 231160875 (220M) [application/gzip]\n",
            "Saving to: ‘roberta.base.tar.gz’\n",
            "\n",
            "roberta.base.tar.gz 100%[===================>] 220.45M  28.0MB/s    in 8.4s    \n",
            "\n",
            "2020-03-10 19:50:40 (26.4 MB/s) - ‘roberta.base.tar.gz’ saved [231160875/231160875]\n",
            "\n",
            "--2020-03-10 19:50:40--  https://dl.fbaipublicfiles.com/fairseq/models/roberta.large.tar.gz\n",
            "Resolving dl.fbaipublicfiles.com (dl.fbaipublicfiles.com)... 104.20.22.166, 104.20.6.166, 2606:4700:10::6814:16a6, ...\n",
            "Connecting to dl.fbaipublicfiles.com (dl.fbaipublicfiles.com)|104.20.22.166|:443... connected.\n",
            "HTTP request sent, awaiting response... 200 OK\n",
            "Length: 655283069 (625M) [application/gzip]\n",
            "Saving to: ‘roberta.large.tar.gz’\n",
            "\n",
            "roberta.large.tar.g 100%[===================>] 624.93M  29.4MB/s    in 22s     \n",
            "\n",
            "2020-03-10 19:51:02 (28.6 MB/s) - ‘roberta.large.tar.gz’ saved [655283069/655283069]\n",
            "\n",
            "roberta.base/\n",
            "roberta.base/dict.txt\n",
            "roberta.base/model.pt\n",
            "roberta.base/NOTE\n",
            "roberta.large/\n",
            "roberta.large/dict.txt\n",
            "roberta.large/model.pt\n",
            "roberta.large/NOTE\n",
            "WARNING: timestamping does nothing in combination with -O. See the manual\n",
            "for details.\n",
            "\n",
            "--2020-03-10 19:51:16--  https://dl.fbaipublicfiles.com/fairseq/gpt2_bpe/encoder.json\n",
            "Resolving dl.fbaipublicfiles.com (dl.fbaipublicfiles.com)... 104.20.22.166, 104.20.6.166, 2606:4700:10::6814:6a6, ...\n",
            "Connecting to dl.fbaipublicfiles.com (dl.fbaipublicfiles.com)|104.20.22.166|:443... connected.\n",
            "HTTP request sent, awaiting response... 200 OK\n",
            "Length: 1042301 (1018K) [text/plain]\n",
            "Saving to: ‘/content/mt-dnn/mt_dnn_models/roberta/encoder.json’\n",
            "\n",
            "/content/mt-dnn/mt_ 100%[===================>]   1018K  2.95MB/s    in 0.3s    \n",
            "\n",
            "2020-03-10 19:51:17 (2.95 MB/s) - ‘/content/mt-dnn/mt_dnn_models/roberta/encoder.json’ saved [1042301/1042301]\n",
            "\n",
            "WARNING: timestamping does nothing in combination with -O. See the manual\n",
            "for details.\n",
            "\n",
            "--2020-03-10 19:51:17--  https://dl.fbaipublicfiles.com/fairseq/gpt2_bpe/vocab.bpe\n",
            "Resolving dl.fbaipublicfiles.com (dl.fbaipublicfiles.com)... 104.20.22.166, 104.20.6.166, 2606:4700:10::6814:16a6, ...\n",
            "Connecting to dl.fbaipublicfiles.com (dl.fbaipublicfiles.com)|104.20.22.166|:443... connected.\n",
            "HTTP request sent, awaiting response... 200 OK\n",
            "Length: 456318 (446K) [text/plain]\n",
            "Saving to: ‘/content/mt-dnn/mt_dnn_models/roberta/vocab.bpe’\n",
            "\n",
            "/content/mt-dnn/mt_ 100%[===================>] 445.62K  1.60MB/s    in 0.3s    \n",
            "\n",
            "2020-03-10 19:51:18 (1.60 MB/s) - ‘/content/mt-dnn/mt_dnn_models/roberta/vocab.bpe’ saved [456318/456318]\n",
            "\n",
            "WARNING: timestamping does nothing in combination with -O. See the manual\n",
            "for details.\n",
            "\n",
            "--2020-03-10 19:51:18--  https://dl.fbaipublicfiles.com/fairseq/gpt2_bpe/dict.txt\n",
            "Resolving dl.fbaipublicfiles.com (dl.fbaipublicfiles.com)... 104.20.6.166, 104.20.22.166, 2606:4700:10::6814:6a6, ...\n",
            "Connecting to dl.fbaipublicfiles.com (dl.fbaipublicfiles.com)|104.20.6.166|:443... connected.\n",
            "HTTP request sent, awaiting response... 200 OK\n",
            "Length: 603290 (589K) [text/plain]\n",
            "Saving to: ‘/content/mt-dnn/mt_dnn_models/roberta/ict.txt’\n",
            "\n",
            "/content/mt-dnn/mt_ 100%[===================>] 589.15K  1.64MB/s    in 0.3s    \n",
            "\n",
            "2020-03-10 19:51:18 (1.64 MB/s) - ‘/content/mt-dnn/mt_dnn_models/roberta/ict.txt’ saved [603290/603290]\n",
            "\n",
            "Create a folder /content/mt-dnn/data\n",
            "Cloning into 'jiant'...\n",
            "remote: Enumerating objects: 100, done.\u001b[K\n",
            "remote: Counting objects: 100% (100/100), done.\u001b[K\n",
            "remote: Compressing objects: 100% (74/74), done.\u001b[K\n",
            "remote: Total 19586 (delta 57), reused 49 (delta 26), pack-reused 19486\u001b[K\n",
            "Receiving objects: 100% (19586/19586), 51.21 MiB | 37.14 MiB/s, done.\n",
            "Resolving deltas: 100% (14435/14435), done.\n",
            "Downloading and extracting CoLA...\n",
            "\tCompleted!\n",
            "Downloading and extracting SST...\n",
            "\tCompleted!\n",
            "Processing MRPC...\n",
            "Local MRPC data not specified, downloading data from https://dl.fbaipublicfiles.com/senteval/senteval_data/msr_paraphrase_train.txt\n",
            "\tCompleted!\n",
            "Downloading and extracting QQP...\n",
            "\tCompleted!\n",
            "Downloading and extracting STS...\n",
            "\tCompleted!\n",
            "Downloading and extracting MNLI...\n",
            "\tCompleted!\n",
            "Downloading and extracting SNLI...\n",
            "\tCompleted!\n",
            "Downloading and extracting QNLI...\n",
            "\tCompleted!\n",
            "Downloading and extracting RTE...\n",
            "\tCompleted!\n",
            "Downloading and extracting WNLI...\n",
            "\tCompleted!\n",
            "Downloading and extracting diagnostic data...\n",
            "\tCompleted!\n",
            "--2020-03-10 19:52:04--  http://data.allenai.org.s3.amazonaws.com/downloads/SciTailV1.1.zip\n",
            "Resolving data.allenai.org.s3.amazonaws.com (data.allenai.org.s3.amazonaws.com)... 52.218.228.243\n",
            "Connecting to data.allenai.org.s3.amazonaws.com (data.allenai.org.s3.amazonaws.com)|52.218.228.243|:80... connected.\n",
            "HTTP request sent, awaiting response... 200 OK\n",
            "Length: 14174621 (14M) [application/zip]\n",
            "Saving to: ‘SciTailV1.1.zip’\n",
            "\n",
            "SciTailV1.1.zip     100%[===================>]  13.52M  14.6MB/s    in 0.9s    \n",
            "\n",
            "2020-03-10 19:52:05 (14.6 MB/s) - ‘SciTailV1.1.zip’ saved [14174621/14174621]\n",
            "\n",
            "Archive:  SciTailV1.1.zip\n",
            "   creating: SciTailV1.1/\n",
            "   creating: SciTailV1.1/snli_format/\n",
            "  inflating: SciTailV1.1/snli_format/scitail_1.0_test.txt  \n",
            "  inflating: SciTailV1.1/snli_format/scitail_1.0_train.txt  \n",
            "  inflating: SciTailV1.1/snli_format/scitail_1.0_dev.txt  \n",
            "  inflating: SciTailV1.1/snli_format/README.txt  \n",
            "   creating: SciTailV1.1/dgem_format/\n",
            "  inflating: SciTailV1.1/dgem_format/scitail_1.0_structure_dev.tsv  \n",
            "  inflating: SciTailV1.1/dgem_format/scitail_1.0_structure_train.tsv  \n",
            "  inflating: SciTailV1.1/dgem_format/README.txt  \n",
            "  inflating: SciTailV1.1/dgem_format/scitail_1.0_structure_test.tsv  \n",
            "   creating: SciTailV1.1/predictor_format/\n",
            "  inflating: SciTailV1.1/predictor_format/scitail_1.0_structure_dev.jsonl  \n",
            "  inflating: SciTailV1.1/predictor_format/scitail_1.0_structure_test.jsonl  \n",
            "  inflating: SciTailV1.1/predictor_format/README.txt  \n",
            "  inflating: SciTailV1.1/predictor_format/scitail_1.0_structure_train.jsonl  \n",
            "  inflating: SciTailV1.1/all_annotations.tsv  \n",
            "  inflating: SciTailV1.1/README.txt  \n",
            "   creating: SciTailV1.1/tsv_format/\n",
            "  inflating: SciTailV1.1/tsv_format/scitail_1.0_test.tsv  \n",
            "  inflating: SciTailV1.1/tsv_format/scitail_1.0_train.tsv  \n",
            "  inflating: SciTailV1.1/tsv_format/scitail_1.0_dev.tsv  \n",
            "Create a folder /content/mt-dnn/data\n",
            "--2020-03-10 19:52:06--  https://mrc.blob.core.windows.net/mt-dnn-model/data.zip\n",
            "Resolving mrc.blob.core.windows.net (mrc.blob.core.windows.net)... 52.190.240.132\n",
            "Connecting to mrc.blob.core.windows.net (mrc.blob.core.windows.net)|52.190.240.132|:443... connected.\n",
            "HTTP request sent, awaiting response... 200 OK\n",
            "Length: 57236306 (55M) [application/zip]\n",
            "Saving to: ‘data.zip’\n",
            "\n",
            "data.zip            100%[===================>]  54.58M  15.4MB/s    in 3.5s    \n",
            "\n",
            "2020-03-10 19:52:10 (15.4 MB/s) - ‘data.zip’ saved [57236306/57236306]\n",
            "\n",
            "Archive:  data.zip\n",
            "   creating: data/\n",
            "  inflating: data/scitail_001_train.json  \n",
            "  inflating: data/scitail_01_train.json  \n",
            "  inflating: data/scitail_1_train.json  \n",
            "  inflating: data/scitail_5_train.json  \n",
            "  inflating: data/scitail_dev.json   \n",
            "  inflating: data/scitail_test.json  \n",
            "  inflating: data/scitail_train.json  \n",
            "  inflating: data/scitail_train_shuff.json  \n",
            "  inflating: data/snli_001_train.json  \n",
            "  inflating: data/snli_01_train.json  \n",
            "  inflating: data/snli_1_train.json  \n",
            "  inflating: data/snli_5_train.json  \n",
            "  inflating: data/snli_dev.json      \n",
            "  inflating: data/snli_test.json     \n",
            "  inflating: data/snli_train.json    \n",
            "  inflating: data/snli_train_shuff.json  \n",
            "--2020-03-10 19:52:13--  https://rajpurkar.github.io/SQuAD-explorer/dataset/train-v1.1.json\n",
            "Resolving rajpurkar.github.io (rajpurkar.github.io)... 185.199.111.153, 185.199.108.153, 185.199.110.153, ...\n",
            "Connecting to rajpurkar.github.io (rajpurkar.github.io)|185.199.111.153|:443... connected.\n",
            "HTTP request sent, awaiting response... 200 OK\n",
            "Length: 30288272 (29M) [application/json]\n",
            "Saving to: ‘/content/mt-dnn/data/squad/train.json’\n",
            "\n",
            "/content/mt-dnn/dat 100%[===================>]  28.88M   113MB/s    in 0.3s    \n",
            "\n",
            "2020-03-10 19:52:14 (113 MB/s) - ‘/content/mt-dnn/data/squad/train.json’ saved [30288272/30288272]\n",
            "\n",
            "--2020-03-10 19:52:14--  https://rajpurkar.github.io/SQuAD-explorer/dataset/dev-v1.1.json\n",
            "Resolving rajpurkar.github.io (rajpurkar.github.io)... 185.199.111.153, 185.199.108.153, 185.199.110.153, ...\n",
            "Connecting to rajpurkar.github.io (rajpurkar.github.io)|185.199.111.153|:443... connected.\n",
            "HTTP request sent, awaiting response... 200 OK\n",
            "Length: 4854279 (4.6M) [application/json]\n",
            "Saving to: ‘/content/mt-dnn/data/squad/dev.json’\n",
            "\n",
            "/content/mt-dnn/dat 100%[===================>]   4.63M  --.-KB/s    in 0.1s    \n",
            "\n",
            "2020-03-10 19:52:15 (42.2 MB/s) - ‘/content/mt-dnn/data/squad/dev.json’ saved [4854279/4854279]\n",
            "\n",
            "--2020-03-10 19:52:15--  https://rajpurkar.github.io/SQuAD-explorer/dataset/train-v2.0.json\n",
            "Resolving rajpurkar.github.io (rajpurkar.github.io)... 185.199.108.153, 185.199.109.153, 185.199.111.153, ...\n",
            "Connecting to rajpurkar.github.io (rajpurkar.github.io)|185.199.108.153|:443... connected.\n",
            "HTTP request sent, awaiting response... 200 OK\n",
            "Length: 42123633 (40M) [application/json]\n",
            "Saving to: ‘/content/mt-dnn/data/squad_v2/train.json’\n",
            "\n",
            "/content/mt-dnn/dat 100%[===================>]  40.17M  47.3MB/s    in 0.9s    \n",
            "\n",
            "2020-03-10 19:52:16 (47.3 MB/s) - ‘/content/mt-dnn/data/squad_v2/train.json’ saved [42123633/42123633]\n",
            "\n",
            "--2020-03-10 19:52:16--  https://rajpurkar.github.io/SQuAD-explorer/dataset/dev-v2.0.json\n",
            "Resolving rajpurkar.github.io (rajpurkar.github.io)... 185.199.109.153, 185.199.111.153, 185.199.110.153, ...\n",
            "Connecting to rajpurkar.github.io (rajpurkar.github.io)|185.199.109.153|:443... connected.\n",
            "HTTP request sent, awaiting response... 200 OK\n",
            "Length: 4370528 (4.2M) [application/json]\n",
            "Saving to: ‘/content/mt-dnn/data/squad_v2/dev.json’\n",
            "\n",
            "/content/mt-dnn/dat 100%[===================>]   4.17M  --.-KB/s    in 0.1s    \n",
            "\n",
            "2020-03-10 19:52:16 (40.4 MB/s) - ‘/content/mt-dnn/data/squad_v2/dev.json’ saved [4370528/4370528]\n",
            "\n",
            "--2020-03-10 19:52:16--  https://raw.githubusercontent.com/synalp/NER/master/corpus/CoNLL-2003/eng.train\n",
            "Resolving raw.githubusercontent.com (raw.githubusercontent.com)... 151.101.0.133, 151.101.64.133, 151.101.128.133, ...\n",
            "Connecting to raw.githubusercontent.com (raw.githubusercontent.com)|151.101.0.133|:443... connected.\n",
            "HTTP request sent, awaiting response... 200 OK\n",
            "Length: 3281528 (3.1M) [text/plain]\n",
            "Saving to: ‘ner/train.txt’\n",
            "\n",
            "ner/train.txt       100%[===================>]   3.13M  11.6MB/s    in 0.3s    \n",
            "\n",
            "2020-03-10 19:52:17 (11.6 MB/s) - ‘ner/train.txt’ saved [3281528/3281528]\n",
            "\n",
            "--2020-03-10 19:52:17--  https://raw.githubusercontent.com/synalp/NER/master/corpus/CoNLL-2003/eng.testa\n",
            "Resolving raw.githubusercontent.com (raw.githubusercontent.com)... 151.101.0.133, 151.101.64.133, 151.101.128.133, ...\n",
            "Connecting to raw.githubusercontent.com (raw.githubusercontent.com)|151.101.0.133|:443... connected.\n",
            "HTTP request sent, awaiting response... 200 OK\n",
            "Length: 827012 (808K) [text/plain]\n",
            "Saving to: ‘ner/valid.txt’\n",
            "\n",
            "ner/valid.txt       100%[===================>] 807.63K  --.-KB/s    in 0.09s   \n",
            "\n",
            "2020-03-10 19:52:17 (9.26 MB/s) - ‘ner/valid.txt’ saved [827012/827012]\n",
            "\n",
            "--2020-03-10 19:52:17--  https://raw.githubusercontent.com/synalp/NER/master/corpus/CoNLL-2003/eng.testb\n",
            "Resolving raw.githubusercontent.com (raw.githubusercontent.com)... 151.101.0.133, 151.101.64.133, 151.101.128.133, ...\n",
            "Connecting to raw.githubusercontent.com (raw.githubusercontent.com)|151.101.0.133|:443... connected.\n",
            "HTTP request sent, awaiting response... 200 OK\n",
            "Length: 748096 (731K) [text/plain]\n",
            "Saving to: ‘ner/test.txt’\n",
            "\n",
            "ner/test.txt        100%[===================>] 730.56K  --.-KB/s    in 0.06s   \n",
            "\n",
            "2020-03-10 19:52:17 (11.4 MB/s) - ‘ner/test.txt’ saved [748096/748096]\n",
            "\n"
          ]
        }
      ],
      "source": [
        "!bash download.sh"
      ]
    },
    {
      "cell_type": "markdown",
      "metadata": {
        "colab_type": "text",
        "id": "1-fM4MYkgMOn"
      },
      "source": [
        "Baixar dados da task"
      ]
    },
    {
      "cell_type": "code",
      "execution_count": 10,
      "metadata": {
        "colab": {
          "base_uri": "https://localhost:8080/",
          "height": 156
        },
        "colab_type": "code",
        "id": "uwRXdwqbUiSf",
        "outputId": "0de1b2cb-3350-40df-e79e-070b1ca72f07"
      },
      "outputs": [
        {
          "name": "stdout",
          "output_type": "stream",
          "text": [
            "mkdir: cannot create directory ‘data’: File exists\n",
            "Cloning into 'mtdnn_port'...\n",
            "remote: Enumerating objects: 177, done.\u001b[K\n",
            "remote: Counting objects: 100% (177/177), done.\u001b[K\n",
            "remote: Compressing objects: 100% (120/120), done.\u001b[K\n",
            "remote: Total 454 (delta 110), reused 114 (delta 57), pack-reused 277\u001b[K\n",
            "Receiving objects: 100% (454/454), 63.12 MiB | 16.62 MiB/s, done.\n",
            "Resolving deltas: 100% (255/255), done.\n"
          ]
        }
      ],
      "source": [
        "!mkdir data/canonical_data"
      ]
    },
    {
      "cell_type": "markdown",
      "metadata": {
        "colab_type": "text",
        "id": "p8lcS5hvEukx"
      },
      "source": [
        "Aplicar patch em metrics.py para incluir *f1_macro* e *mse*"
      ]
    },
    {
      "cell_type": "code",
      "execution_count": 11,
      "metadata": {
        "colab": {
          "base_uri": "https://localhost:8080/",
          "height": 34
        },
        "colab_type": "code",
        "id": "p4bxREiEE1i1",
        "outputId": "e873425c-45a5-432e-a66b-dd2787d089b6"
      },
      "outputs": [
        {
          "name": "stdout",
          "output_type": "stream",
          "text": [
            "patching file data_utils/metrics.py\n"
          ]
        }
      ],
      "source": [
        "!patch data_utils/metrics.py < ../Training/metrics.patch"
      ]
    },
    {
      "cell_type": "markdown",
      "metadata": {
        "colab_type": "text",
        "id": "T2NaWGK-XM6c"
      },
      "source": [
        "Mover dados de entrada"
      ]
    },
    {
      "cell_type": "code",
      "execution_count": 0,
      "metadata": {
        "colab": {},
        "colab_type": "code",
        "id": "BdQftgD0XSZZ"
      },
      "outputs": [],
      "source": [
        "!bash move_input.sh $TASK"
      ]
    },
    {
      "cell_type": "markdown",
      "metadata": {
        "colab_type": "text",
        "id": "DMnj9hwbSxX6"
      },
      "source": [
        "Preprocess data"
      ]
    },
    {
      "cell_type": "code",
      "execution_count": 53,
      "metadata": {
        "colab": {
          "base_uri": "https://localhost:8080/",
          "height": 104
        },
        "colab_type": "code",
        "id": "1NAv8o-LSyW0",
        "outputId": "06f516bb-8b84-454b-a444-390284937025"
      },
      "outputs": [
        {
          "name": "stdout",
          "output_type": "stream",
          "text": [
            "Better speed can be achieved with apex installed from https://www.github.com/nvidia/apex.\n",
            "03/10/2020 09:13:06 Task assin2-sts\n",
            "03/10/2020 09:13:07 data/canonical_data/bert_uncased_lower/assin2-sts_train.json\n",
            "03/10/2020 09:13:09 data/canonical_data/bert_uncased_lower/assin2-sts_dev.json\n",
            "03/10/2020 09:13:09 data/canonical_data/bert_uncased_lower/assin2-sts_test.json\n"
          ]
        }
      ],
      "source": [
        "!python prepro_std.py --do_lower_case --root_dir data/canonical_data --task_def {TASK}.yaml\n"
      ]
    },
    {
      "cell_type": "markdown",
      "metadata": {
        "colab_type": "text",
        "id": "4K6ocFNgc8SR"
      },
      "source": [
        "Corrigir código do *predict.py*"
      ]
    },
    {
      "cell_type": "code",
      "execution_count": 0,
      "metadata": {
        "colab": {},
        "colab_type": "code",
        "id": "wnSpkWNbcmD4"
      },
      "outputs": [],
      "source": [
        "!patch predict.py < ../Training/predict.patch"
      ]
    },
    {
      "cell_type": "markdown",
      "metadata": {
        "colab_type": "text",
        "id": "9BqM241CjFBQ"
      },
      "source": [
        "Predict task"
      ]
    },
    {
      "cell_type": "code",
      "execution_count": 99,
      "metadata": {
        "colab": {
          "base_uri": "https://localhost:8080/",
          "height": 176
        },
        "colab_type": "code",
        "id": "G7DAoFbjYxZK",
        "outputId": "18dca9c9-d389-4df8-df33-b4ab4cf83a2f"
      },
      "outputs": [
        {
          "name": "stdout",
          "output_type": "stream",
          "text": [
            "Better speed can be achieved with apex installed from https://www.github.com/nvidia/apex.\n",
            "Loaded 2448 samples out of 2448\n",
            "predicting 0\n",
            "predicting 100\n",
            "predicting 200\n",
            "predicting 300\n",
            "{'Pearson': 85.16350856025014}\n"
          ]
        }
      ],
      "source": [
        "!python predict.py --task {TASK} --task_def {TASK}.yaml --with_label --checkpoint {MODEL_PATH} --prep_input {TEST_PATH} --score {SCORE_PATH}"
      ]
    },
    {
      "cell_type": "markdown",
      "metadata": {
        "id": "nJXnJpHu8c-I",
        "colab_type": "text"
      },
      "source": [
        "Abrir *Tensorboard*.\n",
        "\n",
        "Executa no *Chrome* normalmente, mas não funciona no *Firefox*"
      ]
    },
    {
      "cell_type": "code",
      "metadata": {
        "id": "QrdIcUv89EmL",
        "colab_type": "code",
        "colab": {}
      },
      "source": [
        "%load_ext tensorboard\n",
        "%tensorboard  --logdir tensorboard_logdir"
      ],
      "execution_count": 0,
      "outputs": []
    }
  ]
}
