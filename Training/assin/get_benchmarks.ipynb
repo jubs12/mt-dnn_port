{
  "nbformat": 4,
  "nbformat_minor": 0,
  "metadata": {
    "colab": {
      "name": "get_benchmarks.ipynb",
      "provenance": [],
      "collapsed_sections": []
    },
    "kernelspec": {
      "name": "python3",
      "display_name": "Python 3"
    }
  },
  "cells": [
    {
      "cell_type": "markdown",
      "metadata": {
        "id": "Nmt7XQuOSFyt",
        "colab_type": "text"
      },
      "source": [
        "Baixar arquivos de teste (assin2-test dessa vez)"
      ]
    },
    {
      "cell_type": "code",
      "metadata": {
        "id": "N1HnQ7KYSN-m",
        "colab_type": "code",
        "colab": {
          "base_uri": "https://localhost:8080/",
          "height": 523
        },
        "outputId": "c9185d5e-45fc-4bfb-a4cd-317f280ffcbd"
      },
      "source": [
        "!wget --no-check-certificate 'https://docs.google.com/uc?export=download&id=1J3FpQaHxpM-FDfBUyooh-sZF-B-bM_lU' -O assin2-test.xml\n",
        "!wget http://nilc.icmc.usp.br/assin/assin.tar.gz\n",
        "!tar -xzf assin.tar.gz"
      ],
      "execution_count": 2,
      "outputs": [
        {
          "output_type": "stream",
          "text": [
            "--2020-03-16 12:35:21--  https://docs.google.com/uc?export=download&id=1J3FpQaHxpM-FDfBUyooh-sZF-B-bM_lU\n",
            "Resolving docs.google.com (docs.google.com)... 173.194.214.113, 173.194.214.101, 173.194.214.139, ...\n",
            "Connecting to docs.google.com (docs.google.com)|173.194.214.113|:443... connected.\n",
            "HTTP request sent, awaiting response... 302 Moved Temporarily\n",
            "Location: https://doc-08-3g-docs.googleusercontent.com/docs/securesc/ha0ro937gcuc7l7deffksulhg5h7mbp1/lnshpsm1rle07b3kta10ssv3jrr492po/1584362100000/06286219297811011113/*/1J3FpQaHxpM-FDfBUyooh-sZF-B-bM_lU?e=download [following]\n",
            "Warning: wildcards not supported in HTTP.\n",
            "--2020-03-16 12:35:22--  https://doc-08-3g-docs.googleusercontent.com/docs/securesc/ha0ro937gcuc7l7deffksulhg5h7mbp1/lnshpsm1rle07b3kta10ssv3jrr492po/1584362100000/06286219297811011113/*/1J3FpQaHxpM-FDfBUyooh-sZF-B-bM_lU?e=download\n",
            "Resolving doc-08-3g-docs.googleusercontent.com (doc-08-3g-docs.googleusercontent.com)... 172.217.203.132, 2607:f8b0:400c:c07::84\n",
            "Connecting to doc-08-3g-docs.googleusercontent.com (doc-08-3g-docs.googleusercontent.com)|172.217.203.132|:443... connected.\n",
            "HTTP request sent, awaiting response... 200 OK\n",
            "Length: 492864 (481K) [text/xml]\n",
            "Saving to: ‘assin2-test.xml’\n",
            "\n",
            "assin2-test.xml     100%[===================>] 481.31K  --.-KB/s    in 0.003s  \n",
            "\n",
            "2020-03-16 12:35:22 (162 MB/s) - ‘assin2-test.xml’ saved [492864/492864]\n",
            "\n",
            "--2020-03-16 12:35:23--  http://nilc.icmc.usp.br/assin/assin.tar.gz\n",
            "Resolving nilc.icmc.usp.br (nilc.icmc.usp.br)... 143.107.183.225\n",
            "Connecting to nilc.icmc.usp.br (nilc.icmc.usp.br)|143.107.183.225|:80... connected.\n",
            "HTTP request sent, awaiting response... 200 OK\n",
            "Length: 749735 (732K) [application/x-gzip]\n",
            "Saving to: ‘assin.tar.gz’\n",
            "\n",
            "assin.tar.gz        100%[===================>] 732.16K  1.13MB/s    in 0.6s    \n",
            "\n",
            "2020-03-16 12:35:24 (1.13 MB/s) - ‘assin.tar.gz’ saved [749735/749735]\n",
            "\n"
          ],
          "name": "stdout"
        }
      ]
    },
    {
      "cell_type": "markdown",
      "metadata": {
        "id": "aCPi85MHSCg5",
        "colab_type": "text"
      },
      "source": [
        "Escolha do corpus"
      ]
    },
    {
      "cell_type": "code",
      "metadata": {
        "id": "6s6ZNOt9Rv2B",
        "colab_type": "code",
        "colab": {}
      },
      "source": [
        "corpus = 'assin2'\n",
        "output_dir = 'output'\n",
        "\n",
        "gold_file = '{}-test.xml'.format(corpus)\n",
        "system_file = '{}/{}-test.xml'.format(output_dir, corpus)"
      ],
      "execution_count": 0,
      "outputs": []
    },
    {
      "cell_type": "markdown",
      "metadata": {
        "id": "uUDnm2PoS46t",
        "colab_type": "text"
      },
      "source": [
        "Baixar Código oficial de avaliação "
      ]
    },
    {
      "cell_type": "code",
      "metadata": {
        "id": "WUV-QX2HS5p8",
        "colab_type": "code",
        "colab": {
          "base_uri": "https://localhost:8080/",
          "height": 104
        },
        "outputId": "de7db0db-889a-4c57-9b63-742af81c51d7"
      },
      "source": [
        "!git clone https://github.com/erickrf/assin.git"
      ],
      "execution_count": 21,
      "outputs": [
        {
          "output_type": "stream",
          "text": [
            "Cloning into 'assin'...\n",
            "remote: Enumerating objects: 33, done.\u001b[K\n",
            "Unpacking objects:   3% (1/33)   \rUnpacking objects:   6% (2/33)   \rUnpacking objects:   9% (3/33)   \rUnpacking objects:  12% (4/33)   \rUnpacking objects:  15% (5/33)   \rUnpacking objects:  18% (6/33)   \rUnpacking objects:  21% (7/33)   \rUnpacking objects:  24% (8/33)   \rUnpacking objects:  27% (9/33)   \rUnpacking objects:  30% (10/33)   \rUnpacking objects:  33% (11/33)   \rUnpacking objects:  36% (12/33)   \rUnpacking objects:  39% (13/33)   \rUnpacking objects:  42% (14/33)   \rUnpacking objects:  45% (15/33)   \rUnpacking objects:  48% (16/33)   \rUnpacking objects:  51% (17/33)   \rUnpacking objects:  54% (18/33)   \rUnpacking objects:  57% (19/33)   \rUnpacking objects:  60% (20/33)   \rremote: Total 33 (delta 0), reused 0 (delta 0), pack-reused 33\u001b[K\n",
            "Unpacking objects:  63% (21/33)   \rUnpacking objects:  66% (22/33)   \rUnpacking objects:  69% (23/33)   \rUnpacking objects:  72% (24/33)   \rUnpacking objects:  75% (25/33)   \rUnpacking objects:  78% (26/33)   \rUnpacking objects:  81% (27/33)   \rUnpacking objects:  84% (28/33)   \rUnpacking objects:  87% (29/33)   \rUnpacking objects:  90% (30/33)   \rUnpacking objects:  93% (31/33)   \rUnpacking objects:  96% (32/33)   \rUnpacking objects: 100% (33/33)   \rUnpacking objects: 100% (33/33), done.\n",
            "/content/mtdnn_port/Training/assin/assin/assin\n"
          ],
          "name": "stdout"
        }
      ]
    },
    {
      "cell_type": "markdown",
      "metadata": {
        "id": "8Q-ujA5xTDRs",
        "colab_type": "text"
      },
      "source": [
        "Executar"
      ]
    },
    {
      "cell_type": "code",
      "metadata": {
        "id": "0kU5MtulTFnw",
        "colab_type": "code",
        "colab": {
          "base_uri": "https://localhost:8080/",
          "height": 191
        },
        "outputId": "cdf5a93a-4ab4-4641-aec4-37b697fdb8cb"
      },
      "source": [
        "!python assin/assin-eval.py ../{gold_file} ../{system_file}"
      ],
      "execution_count": 29,
      "outputs": [
        {
          "output_type": "stream",
          "text": [
            "\n",
            "RTE evaluation\n",
            "Accuracy\tMacro F1\n",
            "--------\t--------\n",
            "  90.40%\t   0.904\n",
            "\n",
            "Similarity evaluation\n",
            "Pearson\t\tMean Squared Error\n",
            "-------\t\t------------------\n",
            "  0.850\t\t              0.47\n"
          ],
          "name": "stdout"
        }
      ]
    }
  ]
}