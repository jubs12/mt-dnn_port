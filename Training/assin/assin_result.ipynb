{
  "nbformat": 4,
  "nbformat_minor": 0,
  "metadata": {
    "colab": {
      "name": "assin_result.ipynb",
      "provenance": [],
      "collapsed_sections": []
    },
    "kernelspec": {
      "name": "python3",
      "display_name": "Python 3"
    }
  },
  "cells": [
    {
      "cell_type": "markdown",
      "metadata": {
        "colab_type": "text",
        "id": "rcsLlGFWoDwU"
      },
      "source": [
        "Escolha do corpus e localização dos _scores_"
      ]
    },
    {
      "cell_type": "code",
      "execution_count": 0,
      "metadata": {
        "colab": {},
        "colab_type": "code",
        "id": "Z67pEw-nn-tv"
      },
      "outputs": [],
      "source": [
        "corpus = {corpus_name} \n",
        "filepaths = dict()\n",
        "filepaths['rte'] = '{}-rte/results/{}-rte_test_scores_4.json'.format(corpus)\n",
        "filepaths['sts'] = '{}-sts/results/{}-sts_test_scores_4.json'.format(corpus)"
      ]
    },
    {
      "cell_type": "markdown",
      "metadata": {
        "colab_type": "text",
        "id": "oNNmBIGxn--2"
      },
      "source": [
        "Importar bibliotecas"
      ]
    },
    {
      "cell_type": "code",
      "execution_count": 4,
      "metadata": {
        "colab": {
          "base_uri": "https://localhost:8080/",
          "height": 34
        },
        "colab_type": "code",
        "id": "XTFOD0_Di8hX",
        "outputId": "e454a04f-d2e4-4172-9c6a-88d90f29a9d3"
      },
      "outputs": [
        {
          "name": "stdout",
          "output_type": "stream",
          "text": [
            "Requirement already satisfied: xmltodict in /usr/local/lib/python3.6/dist-packages (0.12.0)\n"
          ]
        }
      ],
      "source": [
        "!pip install xmltodict\n",
        "import xmltodict\n",
        "import json\n",
        "#Baixar 'nome do corpus'-test.xml ou 'nome do corpus'-blind-test.xml\n",
        "#https://drive.google.com/drive/folders/171yN7l9NdVoYKTQkggCIBMH649mkWcJU?usp=sharing"
      ]
    },
    {
      "cell_type": "markdown",
      "metadata": {
        "colab_type": "text",
        "id": "Lyy4nHH-o3Vl"
      },
      "source": [
        "Carregar *scores* e arquivo teste"
      ]
    },
    {
      "cell_type": "code",
      "execution_count": 0,
      "metadata": {
        "colab": {},
        "colab_type": "code",
        "id": "wk8AAUDCo1Vx"
      },
      "outputs": [],
      "source": [
        "tasks = ['rte', 'sts']\n",
        "scores = dict()\n",
        "\n",
        "for task in tasks:\n",
        "    filepath = 'filepaths[task]\n",
        "    with open(filepath) as f:\n",
        "        scores[task] = json.load(f)\n",
        "\n",
        "    if corpus == 'assin2':\n",
        "        with open('assin2-blind-test.xml') as f:\n",
        "            xml = xmltodict.parse(f.read())\n",
        "    else:\n",
        "        with open('{}-test.xml'.format(corpus)) as f:\n",
        "           xml = xmltodict.parse(f.read())"
      ]
    },
    {
      "cell_type": "markdown",
      "metadata": {
        "colab_type": "text",
        "id": "KJy31_ezx1j7"
      },
      "source": [
        "Inserir *scores*"
      ]
    },
    {
      "cell_type": "code",
      "execution_count": 0,
      "metadata": {
        "colab": {},
        "colab_type": "code",
        "id": "YjWPx4qGvatC"
      },
      "outputs": [],
      "source": [
        "for idx, item in enumerate(xml['entailment-corpus']['pair']):\n",
        "    uid = xml['entailment-corpus']['pair'][idx]['@id']\n",
        "    pos = scores['rte']['uids'].index(uid)\n",
        "\n",
        "    similarity = scores['sts']['scores'][pos]\n",
        "    entailment_labels = ['Entailment','None','Paraphrase']\n",
        "    entailment = entailment_labels[scores['rte']['predictions'][pos]]\n",
        "\n",
        "    xml['entailment-corpus']['pair'][idx]['@similarity'] = round(similarity, 1)\n",
        "    xml['entailment-corpus']['pair'][idx]['@entailment'] = entailment"
      ]
    },
    {
      "cell_type": "markdown",
      "metadata": {
        "colab_type": "text",
        "id": "Eg1f30-8zXyd"
      },
      "source": [
        "Salvar resultado"
      ]
    },
    {
      "cell_type": "code",
      "execution_count": 0,
      "metadata": {
        "colab": {},
        "colab_type": "code",
        "id": "ZL90UZm8zbEs"
      },
      "outputs": [],
      "source": [
        "%mkdir output\n",
        "%cd output\n",
        "\n",
        "result = xmltodict.unparse(xml, pretty = True)\n",
        "with open('{}-test.xml'.format(corpus), 'w') as f:\n",
        "    f.write(result)"
      ]
    }
  ]
}
