{
  "nbformat": 4,
  "nbformat_minor": 0,
  "metadata": {
    "colab": {
      "name": "assin_result.ipynb",
      "provenance": [],
      "collapsed_sections": []
    },
    "kernelspec": {
      "name": "python3",
      "display_name": "Python 3"
    }
  },
  "cells": [
    {
      "cell_type": "markdown",
      "metadata": {
        "colab_type": "text",
        "id": "IMxGX8xKKZaf"
      },
      "source": [
        "Baixar arquivos de teste"
      ]
    },
    {
      "cell_type": "code",
      "execution_count": 25,
      "metadata": {
        "colab": {
          "base_uri": "https://localhost:8080/",
          "height": 332
        },
        "colab_type": "code",
        "id": "OJ3mds00KeRC",
        "outputId": "5f9123b7-8fb2-4f8f-efb3-66dd5f271df3"
      },
      "outputs": [
        {
          "name": "stdout",
          "output_type": "stream",
          "text": [
            "--2020-03-16 12:02:12--  https://docs.google.com/uc?export=download&id=1jkk-0YM2S8MEezIbjduptU6tMXgHzPOs\n",
            "Resolving docs.google.com (docs.google.com)... 172.217.193.101, 172.217.193.113, 172.217.193.138, ...\n",
            "Connecting to docs.google.com (docs.google.com)|172.217.193.101|:443... connected.\n",
            "HTTP request sent, awaiting response... 302 Moved Temporarily\n",
            "Location: https://doc-14-3g-docs.googleusercontent.com/docs/securesc/ha0ro937gcuc7l7deffksulhg5h7mbp1/s5hqonj5cguk33mdf25aiaiv5uf0uct5/1584360075000/06286219297811011113/*/1jkk-0YM2S8MEezIbjduptU6tMXgHzPOs?e=download [following]\n",
            "Warning: wildcards not supported in HTTP.\n",
            "--2020-03-16 12:02:13--  https://doc-14-3g-docs.googleusercontent.com/docs/securesc/ha0ro937gcuc7l7deffksulhg5h7mbp1/s5hqonj5cguk33mdf25aiaiv5uf0uct5/1584360075000/06286219297811011113/*/1jkk-0YM2S8MEezIbjduptU6tMXgHzPOs?e=download\n",
            "Resolving doc-14-3g-docs.googleusercontent.com (doc-14-3g-docs.googleusercontent.com)... 172.217.193.132, 2607:f8b0:400c:c03::84\n",
            "Connecting to doc-14-3g-docs.googleusercontent.com (doc-14-3g-docs.googleusercontent.com)|172.217.193.132|:443... connected.\n",
            "HTTP request sent, awaiting response... 200 OK\n",
            "Length: 467980 (457K) [text/xml]\n",
            "Saving to: ‘assin2-blind-test.xml’\n",
            "\n",
            "assin2-blind-test.x 100%[===================>] 457.01K  --.-KB/s    in 0.003s  \n",
            "\n",
            "2020-03-16 12:02:13 (158 MB/s) - ‘assin2-blind-test.xml’ saved [467980/467980]\n",
            "\n"
          ]
        }
      ],
      "source": [
        "!wget --no-check-certificate 'https://docs.google.com/uc?export=download&id=1jkk-0YM2S8MEezIbjduptU6tMXgHzPOs' -O assin2-blind-test.xml\n",
        "!wget http://nilc.icmc.usp.br/assin/assin.tar.gz\n",
        "!tar -xzf assin.tar.gz\n",
        "%mkdir corpus\n",
        "%mv *.xml corpus\n",
        "%rm -rf assin.tar.gz\n",
        "%cd corpus"
      ]
    },
    {
      "cell_type": "markdown",
      "metadata": {
        "colab_type": "text",
        "id": "rcsLlGFWoDwU"
      },
      "source": [
        "Escolha do corpus e localização dos _scores_"
      ]
    },
    {
      "cell_type": "code",
      "execution_count": 0,
      "metadata": {
        "colab": {},
        "colab_type": "code",
        "id": "Z67pEw-nn-tv"
      },
      "outputs": [],
      "source": [
        "corpus = {corpus_name} \n",
        "model = {model_name} \n,"
        "filepaths = {\n",
        "    'rte': '{}-rte/{}/{}-rte_test_scores_4.json'.format(corpus, model, corpus),\n",
        "    'sts': '{}-sts/{}/{}-sts_test_scores_4.json'.format(corpus, model, corpus),\n",
        "}\n",
        "output_dir = model"
      ]
    },
    {
      "cell_type": "markdown",
      "metadata": {
        "colab_type": "text",
        "id": "oNNmBIGxn--2"
      },
      "source": [
        "Importar bibliotecas"
      ]
    },
    {
      "cell_type": "code",
      "execution_count": 4,
      "metadata": {
        "colab": {
          "base_uri": "https://localhost:8080/",
          "height": 34
        },
        "colab_type": "code",
        "id": "XTFOD0_Di8hX",
        "outputId": "e454a04f-d2e4-4172-9c6a-88d90f29a9d3"
      },
      "outputs": [
        {
          "name": "stdout",
          "output_type": "stream",
          "text": [
            "Requirement already satisfied: xmltodict in /usr/local/lib/python3.6/dist-packages (0.12.0)\n"
          ]
        }
      ],
      "source": [
        "!pip install xmltodict\n",
        "import xmltodict\n",
        "import json\n"
      ]
    },
    {
      "cell_type": "markdown",
      "metadata": {
        "colab_type": "text",
        "id": "Lyy4nHH-o3Vl"
      },
      "source": [
        "Carregar *scores* e arquivo teste"
      ]
    },
    {
      "cell_type": "code",
      "execution_count": 0,
      "metadata": {
        "colab": {},
        "colab_type": "code",
        "id": "wk8AAUDCo1Vx"
      },
      "outputs": [],
      "source": [
        "tasks = ['rte', 'sts']\n",
        "scores = dict()\n",
        "\n",
        "for task in tasks:\n",
        "    filepath = filepaths[task]\n",
        "    with open('../' + filepath) as f:\n",
        "        scores[task] = json.load(f)\n",
        "\n",
        "    goldpath = 'assin2-blind-test.xml' if corpus == 'assin2' else '{}-test.xml'.format(corpus)\n",
        "    with open(goldpath) as f:\n",
        "        xml = xmltodict.parse(f.read())"
      ]
    },
    {
      "cell_type": "markdown",
      "metadata": {
        "colab_type": "text",
        "id": "KJy31_ezx1j7"
      },
      "source": [
        "Inserir *scores*"
      ]
    },
    {
      "cell_type": "code",
      "execution_count": 0,
      "metadata": {
        "colab": {},
        "colab_type": "code",
        "id": "YjWPx4qGvatC"
      },
      "outputs": [],
      "source": [
        "for idx, item in enumerate(xml['entailment-corpus']['pair']):\n",
        "    uid = xml['entailment-corpus']['pair'][idx]['@id']\n",
        "    pos = scores['rte']['uids'].index(uid)\n",
        "\n",
        "    similarity = scores['sts']['scores'][pos]\n",
        "    entailment_labels = ['Entailment','None','Paraphrase']\n",
        "    entailment = entailment_labels[scores['rte']['predictions'][pos]]\n",
        "\n",
        "    xml['entailment-corpus']['pair'][idx]['@similarity'] = round(similarity, 1)\n",
        "    xml['entailment-corpus']['pair'][idx]['@entailment'] = entailment"
      ]
    },
    {
      "cell_type": "markdown",
      "metadata": {
        "colab_type": "text",
        "id": "Eg1f30-8zXyd"
      },
      "source": [
        "Salvar resultado"
      ]
    },
    {
      "cell_type": "code",
      "execution_count": 0,
      "metadata": {
        "colab": {},
        "colab_type": "code",
        "id": "ZL90UZm8zbEs"
      },
      "outputs": [],
      "source": [
        "%mkdir ../$output_dir\n",
        "%cd ../$output_dir\n",
        "%rm -rf ../corpus\n",
        "\n",
        "result = xmltodict.unparse(xml, pretty = True)\n",
        "with open('{}-test.xml'.format(corpus), 'w') as f:\n",
        "    f.write(result)"
      ]
    }
  ]
}
