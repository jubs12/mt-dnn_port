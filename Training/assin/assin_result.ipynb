{
  "nbformat": 4,
  "nbformat_minor": 0,
  "metadata": {
    "colab": {
      "name": "assin_result.ipynb",
      "provenance": [],
      "collapsed_sections": []
    },
    "kernelspec": {
      "name": "python3",
      "display_name": "Python 3"
    }
  },
  "cells": [
    {
      "cell_type": "markdown",
      "metadata": {
        "id": "rcsLlGFWoDwU",
        "colab_type": "text"
      },
      "source": [
        "Escolha do corpus"
      ]
    },
    {
      "cell_type": "code",
      "metadata": {
        "id": "Z67pEw-nn-tv",
        "colab_type": "code",
        "colab": {}
      },
      "source": [
        "corpus = 'assin-ptpt'"
      ],
      "execution_count": 0,
      "outputs": []
    },
    {
      "cell_type": "markdown",
      "metadata": {
        "id": "oNNmBIGxn--2",
        "colab_type": "text"
      },
      "source": [
        "Importar bibliotecas"
      ]
    },
    {
      "cell_type": "code",
      "metadata": {
        "id": "XTFOD0_Di8hX",
        "colab_type": "code",
        "colab": {
          "base_uri": "https://localhost:8080/",
          "height": 34
        },
        "outputId": "e454a04f-d2e4-4172-9c6a-88d90f29a9d3"
      },
      "source": [
        "!pip install xmltodict\n",
        "import xmltodict\n",
        "import json"
      ],
      "execution_count": 4,
      "outputs": [
        {
          "output_type": "stream",
          "text": [
            "Requirement already satisfied: xmltodict in /usr/local/lib/python3.6/dist-packages (0.12.0)\n"
          ],
          "name": "stdout"
        }
      ]
    },
    {
      "cell_type": "markdown",
      "metadata": {
        "id": "Lyy4nHH-o3Vl",
        "colab_type": "text"
      },
      "source": [
        "Carregar *scores* e arquivo teste"
      ]
    },
    {
      "cell_type": "code",
      "metadata": {
        "id": "wk8AAUDCo1Vx",
        "colab_type": "code",
        "colab": {}
      },
      "source": [
        "tasks = ['rte', 'sts']\n",
        "scores = dict()\n",
        "\n",
        "for task in tasks:\n",
        "    filepath = '{}-{}_test_scores_4.json'.format(corpus, task)\n",
        "    with open(filepath) as f:\n",
        "        scores[task] = json.load(f)\n",
        "\n",
        "    if corpus == 'assin2':\n",
        "        with open('assin2-blind-test.xml') as f:\n",
        "            xml = xmltodict.parse(f.read())\n",
        "    else:\n",
        "        with open('{}-test.xml'.format(corpus)) as f:\n",
        "           xml = xmltodict.parse(f.read())"
      ],
      "execution_count": 0,
      "outputs": []
    },
    {
      "cell_type": "markdown",
      "metadata": {
        "id": "KJy31_ezx1j7",
        "colab_type": "text"
      },
      "source": [
        "Inserir *scores*"
      ]
    },
    {
      "cell_type": "code",
      "metadata": {
        "id": "YjWPx4qGvatC",
        "colab_type": "code",
        "colab": {}
      },
      "source": [
        "for idx, item in enumerate(xml['entailment-corpus']['pair']):\n",
        "    uid = xml['entailment-corpus']['pair'][idx]['@id']\n",
        "    pos = scores['rte']['uids'].index(uid)\n",
        "\n",
        "    similarity = scores['sts']['scores'][pos]\n",
        "    entailment_labels = ['Entailment','None','Paraphrase']\n",
        "    entailment = entailment_labels[scores['rte']['predictions'][pos]]\n",
        "\n",
        "    xml['entailment-corpus']['pair'][idx]['@similarity'] = round(similarity, 1)\n",
        "    xml['entailment-corpus']['pair'][idx]['@entailment'] = entailment"
      ],
      "execution_count": 0,
      "outputs": []
    },
    {
      "cell_type": "markdown",
      "metadata": {
        "id": "Eg1f30-8zXyd",
        "colab_type": "text"
      },
      "source": [
        "Salvar resultado"
      ]
    },
    {
      "cell_type": "code",
      "metadata": {
        "id": "ZL90UZm8zbEs",
        "colab_type": "code",
        "colab": {}
      },
      "source": [
        "%mkdir output\n",
        "%cd output\n",
        "\n",
        "result = xmltodict.unparse(xml, pretty = True)\n",
        "with open('{}-test.xml'.format(corpus), 'w') as f:\n",
        "    f.write(result)"
      ],
      "execution_count": 0,
      "outputs": []
    }
  ]
}