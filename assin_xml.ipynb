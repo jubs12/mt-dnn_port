{
  "nbformat": 4,
  "nbformat_minor": 0,
  "metadata": {
    "colab": {
      "name": "assin_xml.ipynb",
      "provenance": [],
      "collapsed_sections": []
    },
    "kernelspec": {
      "name": "python3",
      "display_name": "Python 3"
    }
  },
  "cells": [
    {
      "cell_type": "code",
      "metadata": {
        "colab_type": "code",
        "id": "Z67pEw-nn-tv",
        "colab": {}
      },
      "source": [
        "output_dir = f'report/{mode}/{pretrained}'\n",
        "download_folder = 'data/dataset'\n",
        "corpus = 'assin-ptpt'\n",
        "\n",
        "##### get file from mt-dnn_port repo\n",
        "mode = 'mt-dnn_assin+tweetsent' #'st-dnn', 'mt-dnn_assin', 'mt-dnn_assin+tweetsent'\n",
        "pretrained = 'bert-pt'  #'bert', 'bert-pt', 'mt-dnn'\n",
        "\n",
        "rte_filepath = \\\n",
        "f'output/{mode}/{corpus}-rte/{pretrained}/{corpus}-rte_test_scores_4.json' if mode == 'st-dnn' \\\n",
        "else  f'output/{mode}/{pretrained}/{corpus}-rte_test_scores_4.json'\n",
        "\n",
        "sts_filepath = \\\n",
        "f'output/{mode}/{corpus}-sts/{pretrained}/{corpus}-sts_test_scores_4.json' if mode == 'st-dnn' \\\n",
        "else  f'output/{mode}/{pretrained}/{corpus}-sts_test_scores_4.json'\n",
        "########\n",
        "\n",
        "### change to other filepath here\n",
        "filepaths = {\n",
        "    'rte': rte_filepath,\n",
        "    'sts': sts_filepath,\n",
        "}"
      ],
      "execution_count": 0,
      "outputs": []
    },
    {
      "cell_type": "markdown",
      "metadata": {
        "colab_type": "text",
        "id": "IMxGX8xKKZaf"
      },
      "source": [
        "Get dataset and requirement"
      ]
    },
    {
      "cell_type": "code",
      "metadata": {
        "colab_type": "code",
        "id": "OJ3mds00KeRC",
        "outputId": "fc797094-b27e-4fa1-b607-986e38e3e148",
        "colab": {
          "base_uri": "https://localhost:8080/",
          "height": 581
        }
      },
      "source": [
        "!wget --no-check-certificate 'https://docs.google.com/uc?export=download&id=1jkk-0YM2S8MEezIbjduptU6tMXgHzPOs' -O assin2-blind-test.xml\n",
        "!wget http://nilc.icmc.usp.br/assin/assin.tar.gz\n",
        "!tar -xzf assin.tar.gz\n",
        "\n",
        "!tar -xzf assin.tar.gz\n",
        "%rm -rf assin.tar.gz\n",
        "\n",
        "!pip install xmltodict\n",
        "\n",
        "%mkdir $download_folder\n",
        "%mv *.xml $download_folder"
      ],
      "execution_count": 15,
      "outputs": [
        {
          "output_type": "stream",
          "text": [
            "--2020-04-18 19:50:00--  https://docs.google.com/uc?export=download&id=1jkk-0YM2S8MEezIbjduptU6tMXgHzPOs\n",
            "Resolving docs.google.com (docs.google.com)... 172.217.203.139, 172.217.203.100, 172.217.203.101, ...\n",
            "Connecting to docs.google.com (docs.google.com)|172.217.203.139|:443... connected.\n",
            "HTTP request sent, awaiting response... 302 Moved Temporarily\n",
            "Location: https://doc-14-3g-docs.googleusercontent.com/docs/securesc/ha0ro937gcuc7l7deffksulhg5h7mbp1/s9o1to661nc0g96nqga41batqb5rc3vg/1587239400000/06286219297811011113/*/1jkk-0YM2S8MEezIbjduptU6tMXgHzPOs?e=download [following]\n",
            "Warning: wildcards not supported in HTTP.\n",
            "--2020-04-18 19:50:00--  https://doc-14-3g-docs.googleusercontent.com/docs/securesc/ha0ro937gcuc7l7deffksulhg5h7mbp1/s9o1to661nc0g96nqga41batqb5rc3vg/1587239400000/06286219297811011113/*/1jkk-0YM2S8MEezIbjduptU6tMXgHzPOs?e=download\n",
            "Resolving doc-14-3g-docs.googleusercontent.com (doc-14-3g-docs.googleusercontent.com)... 172.217.204.132, 2607:f8b0:400c:c15::84\n",
            "Connecting to doc-14-3g-docs.googleusercontent.com (doc-14-3g-docs.googleusercontent.com)|172.217.204.132|:443... connected.\n",
            "HTTP request sent, awaiting response... 200 OK\n",
            "Length: 467980 (457K) [text/xml]\n",
            "Saving to: ‘assin2-blind-test.xml’\n",
            "\n",
            "\rassin2-blind-test.x   0%[                    ]       0  --.-KB/s               \rassin2-blind-test.x 100%[===================>] 457.01K  --.-KB/s    in 0.003s  \n",
            "\n",
            "2020-04-18 19:50:00 (149 MB/s) - ‘assin2-blind-test.xml’ saved [467980/467980]\n",
            "\n",
            "--2020-04-18 19:50:01--  http://nilc.icmc.usp.br/assin/assin.tar.gz\n",
            "Resolving nilc.icmc.usp.br (nilc.icmc.usp.br)... 143.107.183.225\n",
            "Connecting to nilc.icmc.usp.br (nilc.icmc.usp.br)|143.107.183.225|:80... connected.\n",
            "HTTP request sent, awaiting response... 200 OK\n",
            "Length: 749735 (732K) [application/x-gzip]\n",
            "Saving to: ‘assin.tar.gz’\n",
            "\n",
            "assin.tar.gz        100%[===================>] 732.16K  1.14MB/s    in 0.6s    \n",
            "\n",
            "2020-04-18 19:50:02 (1.14 MB/s) - ‘assin.tar.gz’ saved [749735/749735]\n",
            "\n",
            "Collecting xmltodict\n",
            "  Downloading https://files.pythonhosted.org/packages/28/fd/30d5c1d3ac29ce229f6bdc40bbc20b28f716e8b363140c26eff19122d8a5/xmltodict-0.12.0-py2.py3-none-any.whl\n",
            "Installing collected packages: xmltodict\n",
            "Successfully installed xmltodict-0.12.0\n"
          ],
          "name": "stdout"
        }
      ]
    },
    {
      "cell_type": "markdown",
      "metadata": {
        "colab_type": "text",
        "id": "Lyy4nHH-o3Vl"
      },
      "source": [
        "Import xml files"
      ]
    },
    {
      "cell_type": "code",
      "metadata": {
        "colab_type": "code",
        "id": "wk8AAUDCo1Vx",
        "colab": {}
      },
      "source": [
        "import xmltodict\n",
        "import json\n",
        "\n",
        "tasks = ['rte', 'sts']\n",
        "scores = dict()\n",
        "\n",
        "for task in tasks:\n",
        "    filepath = filepaths[task]\n",
        "    with open(filepath) as f:\n",
        "        scores[task] = json.load(f)\n",
        "\n",
        "    goldfile = 'assin2-blind-test.xml' if corpus == 'assin2' else f'{corpus}-test.xml'\n",
        "    with open(f'{download_folder}/{goldfile}') as f:\n",
        "        xml = xmltodict.parse(f.read())"
      ],
      "execution_count": 0,
      "outputs": []
    },
    {
      "cell_type": "markdown",
      "metadata": {
        "colab_type": "text",
        "id": "KJy31_ezx1j7"
      },
      "source": [
        "Insert scores"
      ]
    },
    {
      "cell_type": "code",
      "metadata": {
        "colab_type": "code",
        "id": "YjWPx4qGvatC",
        "colab": {}
      },
      "source": [
        "for idx, item in enumerate(xml['entailment-corpus']['pair']):\n",
        "    uid = xml['entailment-corpus']['pair'][idx]['@id']\n",
        "    pos = scores['rte']['uids'].index(uid)\n",
        "\n",
        "    similarity = scores['sts']['scores'][pos]\n",
        "    entailment_labels = ['Entailment','None','Paraphrase']\n",
        "    entailment = entailment_labels[scores['rte']['predictions'][pos]]\n",
        "\n",
        "    xml['entailment-corpus']['pair'][idx]['@similarity'] = round(similarity, 1)\n",
        "    xml['entailment-corpus']['pair'][idx]['@entailment'] = entailment"
      ],
      "execution_count": 0,
      "outputs": []
    },
    {
      "cell_type": "markdown",
      "metadata": {
        "colab_type": "text",
        "id": "Eg1f30-8zXyd"
      },
      "source": [
        "Save XML"
      ]
    },
    {
      "cell_type": "code",
      "metadata": {
        "colab_type": "code",
        "id": "ZL90UZm8zbEs",
        "colab": {}
      },
      "source": [
        "result = xmltodict.unparse(xml, pretty = True)\n",
        "with open(f'{output_dir}/{corpus}-test.xml', 'w') as f:\n",
        "    f.write(result)"
      ],
      "execution_count": 0,
      "outputs": []
    }
  ]
}
