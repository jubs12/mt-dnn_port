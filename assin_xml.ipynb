{
  "nbformat": 4,
  "nbformat_minor": 0,
  "metadata": {
    "colab": {
      "name": "assin_xml.ipynb",
      "provenance": [],
      "collapsed_sections": []
    },
    "kernelspec": {
      "name": "python3",
      "display_name": "Python 3"
    }
  },
  "cells": [
    {
      "cell_type": "markdown",
      "metadata": {
        "colab_type": "text",
        "id": "IMxGX8xKKZaf"
      },
      "source": [
        "Get dataset and requirement"
      ]
    },
    {
      "cell_type": "code",
      "metadata": {
        "colab_type": "code",
        "id": "OJ3mds00KeRC",
        "outputId": "18a76fbc-2017-456d-9052-71b55d2920eb",
        "colab": {
          "base_uri": "https://localhost:8080/",
          "height": 530
        }
      },
      "source": [
        "!wget --no-check-certificate 'https://docs.google.com/uc?export=download&id=1jkk-0YM2S8MEezIbjduptU6tMXgHzPOs' -O assin2-blind-test.xml\n",
        "!wget http://nilc.icmc.usp.br/assin/assin.tar.gz\n",
        "!tar -xzf assin.tar.gz\n",
        "%rm -rf assin.tar.gz\n",
        "\n",
        "!pip install xmltodict\n",
        "\n",
        "%mkdir $download_folder\n",
        "%mv *.xml $download_folder"
      ],
      "execution_count": 17,
      "outputs": [
        {
          "output_type": "stream",
          "text": [
            "--2020-05-04 23:31:38--  https://docs.google.com/uc?export=download&id=1jkk-0YM2S8MEezIbjduptU6tMXgHzPOs\n",
            "Resolving docs.google.com (docs.google.com)... 172.217.204.100, 172.217.204.102, 172.217.204.113, ...\n",
            "Connecting to docs.google.com (docs.google.com)|172.217.204.100|:443... connected.\n",
            "HTTP request sent, awaiting response... 302 Moved Temporarily\n",
            "Location: https://doc-14-3g-docs.googleusercontent.com/docs/securesc/ha0ro937gcuc7l7deffksulhg5h7mbp1/jmumksdspv5cgnhk0u0jmnk94qdcf3tf/1588635075000/06286219297811011113/*/1jkk-0YM2S8MEezIbjduptU6tMXgHzPOs?e=download [following]\n",
            "Warning: wildcards not supported in HTTP.\n",
            "--2020-05-04 23:31:38--  https://doc-14-3g-docs.googleusercontent.com/docs/securesc/ha0ro937gcuc7l7deffksulhg5h7mbp1/jmumksdspv5cgnhk0u0jmnk94qdcf3tf/1588635075000/06286219297811011113/*/1jkk-0YM2S8MEezIbjduptU6tMXgHzPOs?e=download\n",
            "Resolving doc-14-3g-docs.googleusercontent.com (doc-14-3g-docs.googleusercontent.com)... 172.217.203.132, 2607:f8b0:400c:c07::84\n",
            "Connecting to doc-14-3g-docs.googleusercontent.com (doc-14-3g-docs.googleusercontent.com)|172.217.203.132|:443... connected.\n",
            "HTTP request sent, awaiting response... 200 OK\n",
            "Length: 467980 (457K) [text/xml]\n",
            "Saving to: ‘assin2-blind-test.xml’\n",
            "\n",
            "\rassin2-blind-test.x   0%[                    ]       0  --.-KB/s               \rassin2-blind-test.x 100%[===================>] 457.01K  --.-KB/s    in 0.004s  \n",
            "\n",
            "2020-05-04 23:31:38 (102 MB/s) - ‘assin2-blind-test.xml’ saved [467980/467980]\n",
            "\n",
            "--2020-05-04 23:31:40--  http://nilc.icmc.usp.br/assin/assin.tar.gz\n",
            "Resolving nilc.icmc.usp.br (nilc.icmc.usp.br)... 143.107.183.225\n",
            "Connecting to nilc.icmc.usp.br (nilc.icmc.usp.br)|143.107.183.225|:80... connected.\n",
            "HTTP request sent, awaiting response... 200 OK\n",
            "Length: 749735 (732K) [application/x-gzip]\n",
            "Saving to: ‘assin.tar.gz’\n",
            "\n",
            "assin.tar.gz        100%[===================>] 732.16K  1.13MB/s    in 0.6s    \n",
            "\n",
            "2020-05-04 23:31:41 (1.13 MB/s) - ‘assin.tar.gz’ saved [749735/749735]\n",
            "\n",
            "Requirement already satisfied: xmltodict in /usr/local/lib/python3.6/dist-packages (0.12.0)\n"
          ],
          "name": "stdout"
        }
      ]
    },
    {
      "cell_type": "code",
      "metadata": {
        "colab_type": "code",
        "id": "Z67pEw-nn-tv",
        "colab": {}
      },
      "source": [
        "dataset = 'assin-1+2'\n",
        "\n",
        "##### get file from mt-dnn_port repo\n",
        "mode = 'st-dnn'\n",
        "#'st-dnn', 'mt-dnn_assin2', 'mt-dnn_assin-ptbr+assin2','mt-dnn_assin', 'mt-dnn_assin+tweetsent'\n",
        "pretrained = 'bert-pt_base'\n",
        "\n",
        "rte_filepath = \\\n",
        "f'output/{mode}/{dataset}-rte/{pretrained}/{dataset}-rte_test_scores_4.json' if mode == 'st-dnn' \\\n",
        "else  f'output/{mode}/{pretrained}/{dataset}-rte_test_scores_4.json'\n",
        "\n",
        "sts_filepath = \\\n",
        "f'output/{mode}/{dataset}-sts/{pretrained}/{dataset}-sts_test_scores_4.json' if mode == 'st-dnn' \\\n",
        "else  f'output/{mode}/{pretrained}/{dataset}-sts_test_scores_4.json'\n",
        "########\n",
        "\n",
        "\n",
        "### change to other filepath here\n",
        "filepaths = {\n",
        "    'rte': rte_filepath,\n",
        "    'sts': sts_filepath,\n",
        "}\n",
        "\n",
        "output_dir = f'report/{mode}/{pre-trained}'\n",
        "download_folder = 'data/dataset'"
      ],
      "execution_count": 0,
      "outputs": []
    },
    {
      "cell_type": "markdown",
      "metadata": {
        "id": "SBbyG5C0byt2",
        "colab_type": "text"
      },
      "source": [
        "Generate XML output"
      ]
    },
    {
      "cell_type": "code",
      "metadata": {
        "colab_type": "code",
        "id": "wk8AAUDCo1Vx",
        "colab": {}
      },
      "source": [
        "from os import path, mkdir\n",
        "import xmltodict\n",
        "import json\n",
        "\n",
        "tasks = ['rte', 'sts']\n",
        "scores = dict()\n",
        "\n",
        "if dataset == 'assin-1+2':\n",
        "    corpora = ['assin-ptbr', 'assin-ptpt', 'assin2']\n",
        "elif dataset == 'assin-ptbr+2':\n",
        "    corpora = ['assin-ptbr', 'assin2']\n",
        "else:\n",
        "    corpora = [dataset]\n",
        "\n",
        "for corpus in corpora:\n",
        "    for task in tasks:\n",
        "        filepath = filepaths[task]\n",
        "        with open(filepath) as f:\n",
        "            scores[task] = json.load(f)\n",
        "\n",
        "        goldfile = 'assin2-blind-test.xml' if corpus == 'assin2' else f'{corpus}-test.xml'\n",
        "        with open(f'{download_folder}/{goldfile}') as f:\n",
        "            xml = xmltodict.parse(f.read())\n",
        "\n",
        "    for idx, item in enumerate(xml['entailment-corpus']['pair']):\n",
        "        uid = xml['entailment-corpus']['pair'][idx]['@id']\n",
        "        if len(corpora) >= 2: #uses data augmentation\n",
        "            displacement = {\n",
        "                'assin-ptbr': 10000,\n",
        "                'assin-ptpt': 20000,\n",
        "                'assin2': 30000,\n",
        "            }\n",
        "            uid = str(int(uid) + displacement[corpus])\n",
        "\n",
        "        pos = scores['rte']['uids'].index(uid)\n",
        "\n",
        "        similarity = scores['sts']['scores'][pos]\n",
        "        entailment_labels = ['Entailment','None','Paraphrase']\n",
        "        entailment = entailment_labels[scores['rte']['predictions'][pos]]\n",
        "\n",
        "        xml['entailment-corpus']['pair'][idx]['@similarity'] = round(similarity, 1)\n",
        "        xml['entailment-corpus']['pair'][idx]['@entailment'] = entailment\n",
        "\n",
        "    result = xmltodict.unparse(xml, pretty = True)\n",
        "    if len(corpora) == 1:\n",
        "        outpath = f'{output_dir}/{corpus}-test.xml'\n",
        "    else: #uses data augmentation\n",
        "        if not path.exists(f'{output_dir}/{dataset}'):\n",
        "            mkdir(f'{output_dir}/{dataset}')\n",
        "        outpath = f'{output_dir}/{dataset}/{corpus}-test.xml'\n",
        "\n",
        "    with open(outpath, 'w') as f:\n",
        "        f.write(result)"
      ],
      "execution_count": 0,
      "outputs": []
    }
  ]
}