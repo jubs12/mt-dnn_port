{
  "nbformat": 4,
  "nbformat_minor": 0,
  "metadata": {
    "colab": {
      "name": "tweetsent_json.ipynb",
      "provenance": [],
      "collapsed_sections": []
    },
    "kernelspec": {
      "name": "python3",
      "display_name": "Python 3"
    }
  },
  "cells": [
    {
      "cell_type": "code",
      "metadata": {
        "id": "hUgmYv5DY-MA",
        "colab_type": "code",
        "colab": {}
      },
      "source": [
        "mode = 'mt-dnn_assin+tweetsent' #'st-dnn', 'mt-dnn_assin+tweetsent'\n",
        "pretrained = 'bert-pt'\n",
        "\n",
        "output_dir = f'report/{mode}/{pretrained}'\n",
        "\n",
        "filepath = \\\n",
        "f'output/{mode}/tweesent/{pretrained}/tweetsent_test_scores_4.json' if mode == 'st-dnn' \\\n",
        "else  f'output/{mode}/{pretrained}/tweetsent_test_scores_4.json'"
      ],
      "execution_count": 0,
      "outputs": []
    },
    {
      "cell_type": "markdown",
      "metadata": {
        "id": "tA87DK4YZNuX",
        "colab_type": "text"
      },
      "source": [
        "Get results"
      ]
    },
    {
      "cell_type": "code",
      "metadata": {
        "id": "LfFBDHbCZI5y",
        "colab_type": "code",
        "colab": {}
      },
      "source": [
        "import pandas as pd\n",
        "import json\n",
        "\n",
        "with open(filepath) as f:\n",
        "    output = json.load(f)\n",
        "\n",
        "rows = list()\n",
        "headers = ['id', 'prediction']\n",
        "labels = ['Negative', 'Neutral', 'Positive']\n",
        "\n",
        "for idx, answer in enumerate(output['predictions']):\n",
        "    uid = output['uids'][idx]\n",
        "    label = labels[answer]\n",
        "    \n",
        "    rows.append((uid, label)) \n",
        "\n",
        "result = pd.DataFrame(rows, columns = headers)"
      ],
      "execution_count": 0,
      "outputs": []
    },
    {
      "cell_type": "markdown",
      "metadata": {
        "id": "p_ObrIlD0QA_",
        "colab_type": "text"
      },
      "source": [
        "Extract dataset"
      ]
    },
    {
      "cell_type": "code",
      "metadata": {
        "id": "FHqhxS3vz_MW",
        "colab_type": "code",
        "colab": {
          "base_uri": "https://localhost:8080/",
          "height": 221
        },
        "outputId": "33def815-5b5e-42d6-dc31-bc9e481a0a1f"
      },
      "source": [
        "!unzip tweetSentBR_extracted.zip"
      ],
      "execution_count": 8,
      "outputs": [
        {
          "output_type": "stream",
          "text": [
            "Archive:  tweetSentBR_extracted.zip\n",
            "   creating: tweetSentBR_extracted/\n",
            "  inflating: tweetSentBR_extracted/testTT.neg  \n",
            "  inflating: tweetSentBR_extracted/testTT.neu  \n",
            "  inflating: tweetSentBR_extracted/testTT.pos  \n",
            "  inflating: tweetSentBR_extracted/trainTT.neg  \n",
            "  inflating: tweetSentBR_extracted/trainTT.neu  \n",
            "  inflating: tweetSentBR_extracted/trainTT.pos  \n",
            "  inflating: tweetSentBR_extracted/tweets.none  \n",
            "  inflating: tweetSentBR_extracted/tweets.neg  \n",
            "  inflating: tweetSentBR_extracted/tweets.neu  \n",
            "  inflating: tweetSentBR_extracted/tweets.pos  \n"
          ],
          "name": "stdout"
        }
      ]
    },
    {
      "cell_type": "markdown",
      "metadata": {
        "id": "CuwQ2zAE0qqR",
        "colab_type": "text"
      },
      "source": [
        "Get structered dataset"
      ]
    },
    {
      "cell_type": "code",
      "metadata": {
        "id": "ub5WCk-dDPs4",
        "colab_type": "code",
        "outputId": "0f3e95c5-4161-4b90-c9d9-a400e6a02275",
        "colab": {
          "base_uri": "https://localhost:8080/",
          "height": 102
        }
      },
      "source": [
        "from io import StringIO\n",
        "import pandas as pd\n",
        "import os\n",
        "import re\n",
        "\n",
        "corpora = [f for f in os.listdir('tweetSentBR_extracted') if 'testTT' in f]\n",
        "\n",
        "print('Separating lines in tabs...')\n",
        "tabbed = dict()\n",
        "for goldpath in corpora:\n",
        "    with open(\"tweetSentBR_extracted/{}\".format(goldpath)) as f:\n",
        "        text = f.read()\n",
        "\n",
        "    assert '\\t' not in text \n",
        "    \n",
        "    outtext = re.sub(r'(.+?) (.+)',r'\\1\\t\\2', text)\n",
        "    tabbed.update({goldpath:StringIO(outtext)})\n",
        "    print(goldpath)\n",
        "    \n",
        "print('Unifying..')\n",
        "\n",
        "header = ['id', 'premise']\n",
        "abbr = {'neg': 'Negative', 'neu': 'Neutral', 'pos': 'Positive'} \n",
        "corpus = pd.DataFrame()\n",
        "\n",
        "for path, f in tabbed.items():\n",
        "    table = pd.read_csv(f, sep = '\\t', names = header)\n",
        "\n",
        "    posfix = path.split('.')[1]\n",
        "    label = abbr[posfix]\n",
        "    table['label'] = label\n",
        "\n",
        "    corpus = table if corpus.empty else corpus.append(table)"
      ],
      "execution_count": 36,
      "outputs": [
        {
          "output_type": "stream",
          "text": [
            "Separating lines in tabs...\n",
            "testTT.pos\n",
            "testTT.neu\n",
            "testTT.neg\n",
            "Unifying..\n"
          ],
          "name": "stdout"
        }
      ]
    },
    {
      "cell_type": "markdown",
      "metadata": {
        "id": "-LtBiBPR2hHQ",
        "colab_type": "text"
      },
      "source": [
        "Genarate and save prediction list"
      ]
    },
    {
      "cell_type": "code",
      "metadata": {
        "id": "ppJitBaMz1Xt",
        "colab_type": "code",
        "colab": {}
      },
      "source": [
        "number = {'Negative': 0, 'Neutral': 1, 'Positive': 2}\n",
        "\n",
        "predictions = list()\n",
        "i = 0\n",
        "for corpus_idx, corpus_row in corpus.iterrows():\n",
        "    uid = corpus_row['id']\n",
        "    corpus_id_type = corpus['id'].dtype\n",
        "    result_row  = result.loc[result['id'].astype(corpus_id_type) == uid]\n",
        "    prediction = result_row.iloc[0]['prediction']\n",
        "    predictions.append(number[prediction])\n",
        "\n",
        "import json\n",
        "with open(f'{output_dir}/tweetsent.json', 'w') as f:\n",
        "   json.dump(predictions, f) "
      ],
      "execution_count": 0,
      "outputs": []
    }
  ]
}
