{
  "cells": [
    {
      "cell_type": "markdown",
      "metadata": {
        "colab_type": "text",
        "id": "uUDnm2PoS46t"
      },
      "source": [
        "Get dataset and official evaluation script "
      ]
    },
    {
      "cell_type": "code",
      "metadata": {
        "colab_type": "code",
        "id": "N1HnQ7KYSN-m",
        "outputId": "389ddb0c-3a04-4cfa-9fae-0fe75b2eb9e5",
        "colab": {
          "base_uri": "https://localhost:8080/",
          "height": 530
        }
      },
      "source": [
        "!wget --no-check-certificate 'https://docs.google.com/uc?export=download&id=1J3FpQaHxpM-FDfBUyooh-sZF-B-bM_lU' -O assin2-test.xml\n",
        "!wget http://nilc.icmc.usp.br/assin/assin.tar.gz\n",
        "!tar -xzf assin.tar.gz\n",
        "%mkdir 'data/dataset'\n",
        "%mv *.xml 'data/dataset'\n",
        "%rm -rf assin.tar.gz\n",
        "\n",
        "!git clone https://github.com/erickrf/assin.git"
      ],
      "execution_count": 13,
      "outputs": [
        {
          "output_type": "stream",
          "text": [
            "--2020-05-04 23:54:37--  https://docs.google.com/uc?export=download&id=1J3FpQaHxpM-FDfBUyooh-sZF-B-bM_lU\n",
            "Resolving docs.google.com (docs.google.com)... 172.217.203.100, 172.217.203.138, 172.217.203.102, ...\n",
            "Connecting to docs.google.com (docs.google.com)|172.217.203.100|:443... connected.\n",
            "HTTP request sent, awaiting response... 302 Moved Temporarily\n",
            "Location: https://doc-08-3g-docs.googleusercontent.com/docs/securesc/ha0ro937gcuc7l7deffksulhg5h7mbp1/ija4qp9d4qibaan8pf5nd1nt15iv2kvb/1588636425000/06286219297811011113/*/1J3FpQaHxpM-FDfBUyooh-sZF-B-bM_lU?e=download [following]\n",
            "Warning: wildcards not supported in HTTP.\n",
            "--2020-05-04 23:54:37--  https://doc-08-3g-docs.googleusercontent.com/docs/securesc/ha0ro937gcuc7l7deffksulhg5h7mbp1/ija4qp9d4qibaan8pf5nd1nt15iv2kvb/1588636425000/06286219297811011113/*/1J3FpQaHxpM-FDfBUyooh-sZF-B-bM_lU?e=download\n",
            "Resolving doc-08-3g-docs.googleusercontent.com (doc-08-3g-docs.googleusercontent.com)... 173.194.211.132, 2607:f8b0:400c:c10::84\n",
            "Connecting to doc-08-3g-docs.googleusercontent.com (doc-08-3g-docs.googleusercontent.com)|173.194.211.132|:443... connected.\n",
            "HTTP request sent, awaiting response... 200 OK\n",
            "Length: 492864 (481K) [text/xml]\n",
            "Saving to: ‘assin2-test.xml’\n",
            "\n",
            "\rassin2-test.xml       0%[                    ]       0  --.-KB/s               \rassin2-test.xml     100%[===================>] 481.31K  --.-KB/s    in 0.003s  \n",
            "\n",
            "2020-05-04 23:54:37 (138 MB/s) - ‘assin2-test.xml’ saved [492864/492864]\n",
            "\n",
            "--2020-05-04 23:54:38--  http://nilc.icmc.usp.br/assin/assin.tar.gz\n",
            "Resolving nilc.icmc.usp.br (nilc.icmc.usp.br)... 143.107.183.225\n",
            "Connecting to nilc.icmc.usp.br (nilc.icmc.usp.br)|143.107.183.225|:80... connected.\n",
            "HTTP request sent, awaiting response... 200 OK\n",
            "Length: 749735 (732K) [application/x-gzip]\n",
            "Saving to: ‘assin.tar.gz’\n",
            "\n",
            "assin.tar.gz        100%[===================>] 732.16K  1.13MB/s    in 0.6s    \n",
            "\n",
            "2020-05-04 23:54:40 (1.13 MB/s) - ‘assin.tar.gz’ saved [749735/749735]\n",
            "\n",
            "fatal: destination path 'assin' already exists and is not an empty directory.\n"
          ],
          "name": "stdout"
        }
      ]
    },
    {
      "cell_type": "code",
      "metadata": {
        "colab_type": "code",
        "id": "6s6ZNOt9Rv2B",
        "colab": {}
      },
      "source": [
        "corpus = 'assin2'\n",
        "#assin2,assin-ptbr,assin-ptpt\n",
        "dataset = f'assin-1+2/{corpus}'\n",
        "#assin2,assin-ptbr,assin-ptpt,'assin-1+2/{assin2,assin-ptbr,assin-ptpt}', 'assin-ptbr+2/{assin-ptbr,assin-ptpt}'\n",
        "mode = 'st-dnn'\n",
        "#st-dnn, mt-dnn_assin2, mt-dnn_assin-ptbr+assin2, mt-dnn_assin, mt-dnn_assin+tweetsent\n",
        "pretrained = 'bert-multilingual_base' \n",
        "#bert_base, bert-pt_base, mt-dnn_base, bert-multilingual_base, bert_large, bert-pt_large, mt-dnn_large\n",
        "\n",
        "gold_file = f'data/dataset/{corpus}-test.xml'\n",
        "system_file = f'report/{mode}/{pretrained}/{dataset}-test.xml'"
      ],
      "execution_count": 0,
      "outputs": []
    },
    {
      "cell_type": "markdown",
      "metadata": {
        "colab_type": "text",
        "id": "8Q-ujA5xTDRs"
      },
      "source": [
        "Evaluate"
      ]
    },
    {
      "cell_type": "code",
      "metadata": {
        "colab_type": "code",
        "id": "0kU5MtulTFnw",
        "outputId": "947000b3-9d9c-499a-8f5b-4c24f65e83aa",
        "colab": {
          "base_uri": "https://localhost:8080/",
          "height": 187
        }
      },
      "source": [
        "!python assin/assin-eval.py {gold_file} {system_file}"
      ],
      "execution_count": 45,
      "outputs": [
        {
          "output_type": "stream",
          "text": [
            "\n",
            "RTE evaluation\n",
            "Accuracy\tMacro F1\n",
            "--------\t--------\n",
            "  87.95%\t   0.879\n",
            "\n",
            "Similarity evaluation\n",
            "Pearson\t\tMean Squared Error\n",
            "-------\t\t------------------\n",
            "  0.828\t\t              0.48\n"
          ],
          "name": "stdout"
        }
      ]
    }
  ],
  "metadata": {
    "colab": {
      "name": "assin_eval.ipynb",
      "provenance": [],
      "collapsed_sections": []
    },
    "kernelspec": {
      "name": "python3",
      "display_name": "Python 3"
    }
  },
  "nbformat": 4,
  "nbformat_minor": 0
}