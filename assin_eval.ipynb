{
  "nbformat": 4,
  "nbformat_minor": 0,
  "metadata": {
    "colab": {
      "name": "assin_eval.ipynb",
      "provenance": [],
      "collapsed_sections": []
    },
    "kernelspec": {
      "name": "python3",
      "display_name": "Python 3"
    }
  },
  "cells": [
    {
      "cell_type": "code",
      "metadata": {
        "colab_type": "code",
        "id": "6s6ZNOt9Rv2B",
        "colab": {}
      },
      "source": [
        "corpus = 'assin2'\n",
        "download_folder = 'data/dataset'\n",
        "mode = 'mt-dnn_assin'\n",
        "#st-dnn, mt-dnn_assin2, mt-dnn_assin-ptbr+assin2, mt-dnn_assin, mt-dnn_assin+tweetsent\n",
        "pretrained = 'mt-dnn' #bert, bert-pt, mt-dnn\n",
        "\n",
        "gold_file = f'{download_folder}/{corpus}-test.xml'\n",
        "system_file = f'report/{mode}/{pretrained}/{corpus}-test.xml'"
      ],
      "execution_count": 0,
      "outputs": []
    },
    {
      "cell_type": "markdown",
      "metadata": {
        "colab_type": "text",
        "id": "uUDnm2PoS46t"
      },
      "source": [
        "Get dataset and official evaluation script "
      ]
    },
    {
      "cell_type": "code",
      "metadata": {
        "colab_type": "code",
        "id": "N1HnQ7KYSN-m",
        "outputId": "a4879793-d038-4c80-bbc3-be214058dfbb",
        "colab": {
          "base_uri": "https://localhost:8080/",
          "height": 513
        }
      },
      "source": [
        "!wget --no-check-certificate 'https://docs.google.com/uc?export=download&id=1J3FpQaHxpM-FDfBUyooh-sZF-B-bM_lU' -O assin2-test.xml\n",
        "!wget http://nilc.icmc.usp.br/assin/assin.tar.gz\n",
        "!tar -xzf assin.tar.gz\n",
        "%mkdir $download_folder\n",
        "%mv *.xml $download_folder\n",
        "%rm -rf assin.tar.gz\n",
        "\n",
        "!git clone https://github.com/erickrf/assin.git"
      ],
      "execution_count": 0,
      "outputs": [
        {
          "output_type": "stream",
          "text": [
            "--2020-04-18 20:20:18--  https://docs.google.com/uc?export=download&id=1J3FpQaHxpM-FDfBUyooh-sZF-B-bM_lU\n",
            "Resolving docs.google.com (docs.google.com)... 173.194.211.138, 173.194.211.113, 173.194.211.101, ...\n",
            "Connecting to docs.google.com (docs.google.com)|173.194.211.138|:443... connected.\n",
            "HTTP request sent, awaiting response... 302 Moved Temporarily\n",
            "Location: https://doc-08-3g-docs.googleusercontent.com/docs/securesc/ha0ro937gcuc7l7deffksulhg5h7mbp1/sakk83ppcjqu3vssu8l82606rn9cf177/1587241200000/06286219297811011113/*/1J3FpQaHxpM-FDfBUyooh-sZF-B-bM_lU?e=download [following]\n",
            "Warning: wildcards not supported in HTTP.\n",
            "--2020-04-18 20:20:19--  https://doc-08-3g-docs.googleusercontent.com/docs/securesc/ha0ro937gcuc7l7deffksulhg5h7mbp1/sakk83ppcjqu3vssu8l82606rn9cf177/1587241200000/06286219297811011113/*/1J3FpQaHxpM-FDfBUyooh-sZF-B-bM_lU?e=download\n",
            "Resolving doc-08-3g-docs.googleusercontent.com (doc-08-3g-docs.googleusercontent.com)... 172.217.203.132, 2607:f8b0:400c:c07::84\n",
            "Connecting to doc-08-3g-docs.googleusercontent.com (doc-08-3g-docs.googleusercontent.com)|172.217.203.132|:443... connected.\n",
            "HTTP request sent, awaiting response... 200 OK\n",
            "Length: 492864 (481K) [text/xml]\n",
            "Saving to: ‘assin2-test.xml’\n",
            "\n",
            "\rassin2-test.xml       0%[                    ]       0  --.-KB/s               \rassin2-test.xml     100%[===================>] 481.31K  --.-KB/s    in 0.004s  \n",
            "\n",
            "2020-04-18 20:20:19 (119 MB/s) - ‘assin2-test.xml’ saved [492864/492864]\n",
            "\n",
            "--2020-04-18 20:20:20--  http://nilc.icmc.usp.br/assin/assin.tar.gz\n",
            "Resolving nilc.icmc.usp.br (nilc.icmc.usp.br)... 143.107.183.225\n",
            "Connecting to nilc.icmc.usp.br (nilc.icmc.usp.br)|143.107.183.225|:80... connected.\n",
            "HTTP request sent, awaiting response... 200 OK\n",
            "Length: 749735 (732K) [application/x-gzip]\n",
            "Saving to: ‘assin.tar.gz’\n",
            "\n",
            "assin.tar.gz        100%[===================>] 732.16K  1.13MB/s    in 0.6s    \n",
            "\n",
            "2020-04-18 20:20:21 (1.13 MB/s) - ‘assin.tar.gz’ saved [749735/749735]\n",
            "\n"
          ],
          "name": "stdout"
        }
      ]
    },
    {
      "cell_type": "markdown",
      "metadata": {
        "colab_type": "text",
        "id": "8Q-ujA5xTDRs"
      },
      "source": [
        "Evaluate"
      ]
    },
    {
      "cell_type": "code",
      "metadata": {
        "colab_type": "code",
        "id": "0kU5MtulTFnw",
        "outputId": "6dda6e57-3496-4c57-d3f9-1c2a585100ac",
        "colab": {
          "base_uri": "https://localhost:8080/",
          "height": 187
        }
      },
      "source": [
        "!python assin/assin-eval.py {gold_file} {system_file}"
      ],
      "execution_count": 0,
      "outputs": [
        {
          "output_type": "stream",
          "text": [
            "\n",
            "RTE evaluation\n",
            "Accuracy\tMacro F1\n",
            "--------\t--------\n",
            "  90.40%\t   0.904\n",
            "\n",
            "Similarity evaluation\n",
            "Pearson\t\tMean Squared Error\n",
            "-------\t\t------------------\n",
            "  0.840\t\t              0.52\n"
          ],
          "name": "stdout"
        }
      ]
    }
  ]
}
