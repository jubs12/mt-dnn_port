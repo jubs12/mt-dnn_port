{
  "nbformat": 4,
  "nbformat_minor": 0,
  "metadata": {
    "colab": {
      "name": "milkqa.ipynb",
      "provenance": [],
      "collapsed_sections": [],
      "include_colab_link": true
    },
    "kernelspec": {
      "name": "python3",
      "display_name": "Python 3"
    }
  },
  "cells": [
    {
      "cell_type": "markdown",
      "metadata": {
        "id": "view-in-github",
        "colab_type": "text"
      },
      "source": [
        "<a href=\"https://colab.research.google.com/github/jubs12/mtdnn_port/blob/master/Translation/milkqa.ipynb\" target=\"_parent\"><img src=\"https://colab.research.google.com/assets/colab-badge.svg\" alt=\"Open In Colab\"/></a>"
      ]
    },
    {
      "cell_type": "markdown",
      "metadata": {
        "id": "VtrhT5_qkMwl",
        "colab_type": "text"
      },
      "source": [
        "Baixar MilkQA para tradução"
      ]
    },
    {
      "cell_type": "code",
      "metadata": {
        "id": "LD_nLsMjbvkF",
        "colab_type": "code",
        "colab": {}
      },
      "source": [
        "#%mkdir Original\n",
        "%cd Original\n",
        "#!wget https://www.dropbox.com/s/1ozzofw3f7thq3g/MilkQA-v2.tar.gz?dl=1\n",
        "!tar -xzvf MilkQA-v2.tar.gz?dl=1"
      ],
      "execution_count": 0,
      "outputs": []
    },
    {
      "cell_type": "markdown",
      "metadata": {
        "id": "ZqPgtA614kn-",
        "colab_type": "text"
      },
      "source": [
        "Pegar as questões, assuntos e respostas e passar para lista de palavras a serem traduzidas"
      ]
    },
    {
      "cell_type": "code",
      "metadata": {
        "colab_type": "code",
        "outputId": "5bbb6e6a-e1b5-4960-c007-7ca8184f9734",
        "id": "vBaxYUCRfUPm",
        "colab": {
          "base_uri": "https://localhost:8080/",
          "height": 610
        }
      },
      "source": [
        "import os\n",
        "import re\n",
        "from pathlib import Path\n",
        "\n",
        "files = os.listdir(os.curdir)\n",
        "files = filter(lambda x: \"question\" in x, files)\n",
        "numbers = [re.search(\"(.*)-\", x).group(1) for x in files]\n",
        "\n",
        "words = []\n",
        "for number in numbers:\n",
        "        question = Path(number + \"-question.txt\").read_text()\n",
        "        question = re.split(\"<.*>\", question)\n",
        "        question = list(filter(None, question))\n",
        "        words.append(question[0])\n",
        "        words.append(question[1])\n",
        "\n",
        "        answer = Path(number + \"-answer.txt\").read_text()\n",
        "        words.append(answer)\n",
        "\n",
        "for item in words:\n",
        "    print(item)"
      ],
      "execution_count": 4,
      "outputs": [
        {
          "output_type": "stream",
          "text": [
            "\n",
            "Orientaçao Tecnica.\n",
            "\n",
            "\n",
            "\n",
            " Sou propriedade Rural cidade Maraba.Pa.,tendo o mesmo tipo climatico Rondonia. desejo projeto tecnico p/produzir leite de 150 vacas leiteiras: Raças, Tipo pastagem, tamanho dos piques e alimentação suplementar.\n",
            "\n",
            "Sobre a raça, o melhor aí no Norte é usar gado mestiço de Europeu x Zebu, especialmente o meio-sangue Holandês x Zebu, pois são animais mais rústicos e produtivos.\n",
            "\n",
            "\n",
            "leite azeda muito rápido\n",
            "\n",
            "\n",
            "\n",
            "\n",
            "\n",
            "Meu tio Paulo mora em uma chácara, tem umas 6 vacas de leiteiras. No mês de\n",
            "dezembro começou a azedar o leite muito rápido. Este leite que ele mesmo\n",
            "oredenha manualmente, é vendido a uma cooperativa, ou faz queijo fresco. Mas\n",
            "como o leite está azedando, ainda no latão, ele está descartando. Quando\n",
            "não azeda no latão, ele faz o queijo, mas o queijo incha rapidamente, e\n",
            "fica impróprio para consumo.\n",
            "Sou técnica em alimentos, mas não atuo na área há mais de 8 anos, por\n",
            "isso preciso de sua ajuda. O que devemos fazer? O que primeiro devemos\n",
            "investigar para descobrir o que está acontecendo? Como saber qual o momento\n",
            "certo de usar o leite de uma vaca no pós-parto?\n",
            "Por favor, preciso de sua ajuda urgente, pois a família vive da venda do\n",
            "leite e do queijo.\n",
            "\n",
            "A acidez do leite é provocada pelo excesso de bactérias no leite. Assim, a primeira medida a se tomar é rever todos os procedimentos de ordenha e de higiene. \n",
            "\n",
            "\tEntretanto, seria interessante saber quais os testes que foram feitos para saber se o leite estava realmente ácido. O ideal é pedir para fazer teste da acidez titulável, em que o leite está normal se o resultado der de 14 até 18 graus Dornic. Também há um teste simples, bastando ferver o leite, pois leite ácido, coagula quando aquecido. E se for teste do alisarol, peça para fazer conforme consta da instrução normativa 51 do MAPA.\n",
            "\n"
          ],
          "name": "stdout"
        }
      ]
    },
    {
      "cell_type": "markdown",
      "metadata": {
        "id": "3VMo8anbDeWO",
        "colab_type": "text"
      },
      "source": [
        "Importar biblioteca de tradução de lista de palavras"
      ]
    },
    {
      "cell_type": "code",
      "metadata": {
        "id": "MYfWJF3o_gqY",
        "colab_type": "code",
        "outputId": "878c8200-ca83-4863-8bf8-9e88d8b0bfc1",
        "colab": {
          "base_uri": "https://localhost:8080/",
          "height": 263
        }
      },
      "source": [
        "!wget https://raw.githubusercontent.com/jubs12/mtdnn_port/master/Translation/Auxiliar.ipynb\n",
        "!jupyter nbconvert --to python Auxiliar.ipynb"
      ],
      "execution_count": 1,
      "outputs": [
        {
          "output_type": "stream",
          "text": [
            "--2020-01-07 00:51:48--  https://raw.githubusercontent.com/jubs12/mtdnn_port/master/Translation/Auxiliar.ipynb\n",
            "Resolving raw.githubusercontent.com (raw.githubusercontent.com)... 151.101.0.133, 151.101.64.133, 151.101.128.133, ...\n",
            "Connecting to raw.githubusercontent.com (raw.githubusercontent.com)|151.101.0.133|:443... connected.\n",
            "HTTP request sent, awaiting response... 200 OK\n",
            "Length: 3332 (3.3K) [text/plain]\n",
            "Saving to: ‘Auxiliar.ipynb’\n",
            "\n",
            "\rAuxiliar.ipynb        0%[                    ]       0  --.-KB/s               \rAuxiliar.ipynb      100%[===================>]   3.25K  --.-KB/s    in 0s      \n",
            "\n",
            "2020-01-07 00:51:48 (65.6 MB/s) - ‘Auxiliar.ipynb’ saved [3332/3332]\n",
            "\n",
            "[NbConvertApp] Converting notebook Auxiliar.ipynb to python\n",
            "[NbConvertApp] Writing 1689 bytes to Auxiliar.py\n"
          ],
          "name": "stdout"
        }
      ]
    },
    {
      "cell_type": "markdown",
      "metadata": {
        "id": "JRtL_Rh-Dlj2",
        "colab_type": "text"
      },
      "source": [
        "Executar tradução e salvar em dicionário"
      ]
    },
    {
      "cell_type": "code",
      "metadata": {
        "id": "6r4cGhxJDtkf",
        "colab_type": "code",
        "colab": {}
      },
      "source": [
        "import Auxiliar\n",
        "Auxiliar.translate_lst2dct(words, 'en', 'milkqa.json')"
      ],
      "execution_count": 0,
      "outputs": []
    },
    {
      "cell_type": "markdown",
      "metadata": {
        "id": "Ev-ajbwgXPOG",
        "colab_type": "text"
      },
      "source": [
        "Exportar o código"
      ]
    },
    {
      "cell_type": "code",
      "metadata": {
        "id": "-WSGb4v6XSsi",
        "colab_type": "code",
        "colab": {}
      },
      "source": [
        ""
      ],
      "execution_count": 0,
      "outputs": []
    }
  ]
}