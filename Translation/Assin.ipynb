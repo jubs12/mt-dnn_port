{
  "nbformat": 4,
  "nbformat_minor": 0,
  "metadata": {
    "colab": {
      "name": "Assin.ipynb",
      "provenance": [],
      "collapsed_sections": []
    },
    "kernelspec": {
      "name": "python3",
      "display_name": "Python 3"
    }
  },
  "cells": [
    {
      "cell_type": "markdown",
      "metadata": {
        "colab_type": "text",
        "id": "oZ05PlP0V0J3"
      },
      "source": [
        "Extrair ASSIN  e ASSIN2 em inglês do [github de Ruan Chaves](https://https://github.com/ruanchaves/assin/blob/master/sources/translate.py) e renomeá-lo como assin-dic.json:"
      ]
    },
    {
      "cell_type": "code",
      "execution_count": 0,
      "metadata": {
        "colab": {
          "base_uri": "https://localhost:8080/",
          "height": 228
        },
        "colab_type": "code",
        "id": "l9ASSvnbWLAc",
        "outputId": "4a572f4c-f937-48cb-c925-6d46777e337a"
      },
      "outputs": [
        {
          "name": "stdout",
          "output_type": "stream",
          "text": [
            "--2019-11-28 14:24:55--  https://raw.githubusercontent.com/ruanchaves/assin/master/sources/dictionary.json\n",
            "Resolving raw.githubusercontent.com (raw.githubusercontent.com)... 151.101.0.133, 151.101.64.133, 151.101.128.133, ...\n",
            "Connecting to raw.githubusercontent.com (raw.githubusercontent.com)|151.101.0.133|:443... connected.\n",
            "HTTP request sent, awaiting response... 200 OK\n",
            "Length: 4322760 (4.1M) [text/plain]\n",
            "Saving to: ‘dictionary.json’\n",
            "\n",
            "\rdictionary.json       0%[                    ]       0  --.-KB/s               \rdictionary.json     100%[===================>]   4.12M  --.-KB/s    in 0.1s    \n",
            "\n",
            "2019-11-28 14:24:55 (31.7 MB/s) - ‘dictionary.json’ saved [4322760/4322760]\n",
            "\n"
          ]
        }
      ],
      "source": [
        "!wget https://raw.githubusercontent.com/ruanchaves/assin/master/sources/dictionary.json\n",
        "%mv dictionary.json assin-dic.json"
      ]
    },
    {
      "cell_type": "markdown",
      "metadata": {
        "colab_type": "text",
        "id": "QC8pbYmXZ87n"
      },
      "source": [
        "(OPCIONAL) Reobter o dicionário traduzido "
      ]
    },
        {
      "cell_type": "markdown",
      "metadata": {
        "colab_type": "text",
        "id": "UMjPApphKcq-"
      },
      "source": [
        "Configurar Google Translate API e baixar o json\n",
        "https://cloud.google.com/translate/docs/basic/setup-basic"
      ]
    },
            {
      "cell_type": "code",
      "execution_count": 0,
      "metadata": {
        "colab": {},
        "colab_type": "code",
        "id": "1enZXz9ERFrU"
      },
      "outputs": [],
      "source": [
        "%mv ./Translation*.json ./key.json"
      ]
    },
    {
      "cell_type": "code",
      "execution_count": 0,
      "metadata": {
        "colab": {},
        "colab_type": "code",
        "id": "trgQZacgZxl7"
      },
      "outputs": [],
      "source": [
        "%rm -f dictionary.json\n",
        "!git clone https://github.com/ruanchaves/assin.git\n",
        "%cd assin/sources/\n",
        "!python3 translate.py "
      ]
    }
  ]
}
