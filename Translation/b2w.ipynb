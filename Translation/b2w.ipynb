{
  "nbformat": 4,
  "nbformat_minor": 0,
  "metadata": {
    "colab": {
      "name": "b2w.ipynb",
      "provenance": [],
      "collapsed_sections": []
    },
    "kernelspec": {
      "name": "python3",
      "display_name": "Python 3"
    }
  },
  "cells": [
    {
      "cell_type": "markdown",
      "metadata": {
        "id": "3x1UNMqoLsOa",
        "colab_type": "text"
      },
      "source": [
        "Configurar Google Translate API e baixar o json\n",
        "https://cloud.google.com/translate/docs/basic/setup-basic"
      ]
    },
    {
      "cell_type": "markdown",
      "metadata": {
        "colab_type": "text",
        "id": "40dJTE5OR1Ig"
      },
      "source": [
        "Baixar/Carregar dataset do B2W Digital"
      ]
    },
    {
      "cell_type": "code",
      "metadata": {
        "colab_type": "code",
        "id": "NFUtHdNxOSZr",
        "outputId": "c1327df7-087d-4531-f754-2b4b7fabd569",
        "colab": {
          "base_uri": "https://localhost:8080/",
          "height": 204
        }
      },
      "source": [
        "!wget https://raw.githubusercontent.com/b2wdigital/b2w-reviews01/master/B2W-Reviews01.csv"
      ],
      "execution_count": 1,
      "outputs": [
        {
          "output_type": "stream",
          "text": [
            "--2020-03-21 22:20:38--  https://raw.githubusercontent.com/b2wdigital/b2w-reviews01/master/B2W-Reviews01.csv\n",
            "Resolving raw.githubusercontent.com (raw.githubusercontent.com)... 151.101.0.133, 151.101.64.133, 151.101.128.133, ...\n",
            "Connecting to raw.githubusercontent.com (raw.githubusercontent.com)|151.101.0.133|:443... connected.\n",
            "HTTP request sent, awaiting response... 200 OK\n",
            "Length: 50591578 (48M) [text/plain]\n",
            "Saving to: ‘B2W-Reviews01.csv’\n",
            "\n",
            "B2W-Reviews01.csv   100%[===================>]  48.25M  65.8MB/s    in 0.7s    \n",
            "\n",
            "2020-03-21 22:20:39 (65.8 MB/s) - ‘B2W-Reviews01.csv’ saved [50591578/50591578]\n",
            "\n"
          ],
          "name": "stdout"
        }
      ]
    },
    {
      "cell_type": "markdown",
      "metadata": {
        "colab_type": "text",
        "id": "qnutf5eEz2sl"
      },
      "source": [
        "Pegar nome do produto, categoria, título da avaliação, se recomendaria para um amigo e texto da avaliação e passar para conjunto de palavras a serem traduzidas"
      ]
    },
    {
      "cell_type": "code",
      "metadata": {
        "colab_type": "code",
        "id": "OovcFVztSCFJ",
        "outputId": "f5a09e1b-cdb4-4b32-feb9-d61c88a42e3a",
        "colab": {
          "base_uri": "https://localhost:8080/",
          "height": 71
        }
      },
      "source": [
        "import pandas as pd\n",
        "dataset = pd.read_csv(\"B2W-Reviews01.csv\", sep = ';')\n",
        "\n",
        "words = set()\n",
        "\n",
        "columns = [\n",
        "    \"product_name\",\n",
        "    \"site_category_lv1\",\n",
        "    \"review_title\",\n",
        "    \"recommend_to_a_friend\",\n",
        "    \"review_text\",\n",
        "]\n",
        "\n",
        "for column in columns:\n",
        "    words |= set(dataset[column])\n",
        "\n",
        "words = set(filter(lambda x: str(x) != \"nan\", words))"
      ],
      "execution_count": 3,
      "outputs": [
        {
          "output_type": "stream",
          "text": [
            "/usr/local/lib/python3.6/dist-packages/IPython/core/interactiveshell.py:2718: DtypeWarning: Columns (2) have mixed types. Specify dtype option on import or set low_memory=False.\n",
            "  interactivity=interactivity, compiler=compiler, result=result)\n"
          ],
          "name": "stderr"
        }
      ]
    },
    {
      "cell_type": "markdown",
      "metadata": {
        "colab_type": "text",
        "id": "3VMo8anbDeWO"
      },
      "source": [
        "Importar biblioteca de tradução de lista de palavras"
      ]
    },
    {
      "cell_type": "code",
      "metadata": {
        "colab_type": "code",
        "id": "MYfWJF3o_gqY",
        "colab": {}
      },
      "source": [
        "!jupyter nbconvert --to python Auxiliar.ipynb"
      ],
      "execution_count": 0,
      "outputs": []
    },
    {
      "cell_type": "markdown",
      "metadata": {
        "colab_type": "text",
        "id": "rJehgo0jz2tP"
      },
      "source": [
        "Executar tradução e salvar como arquivo json"
      ]
    },
    {
      "cell_type": "code",
      "metadata": {
        "colab_type": "code",
        "id": "ag6z1eZnz2tT",
        "colab": {}
      },
      "source": [
        "import Auxiliar\n",
        "Auxiliar.translate2dct(words, 'b2w-dic.json')"
      ],
      "execution_count": 0,
      "outputs": []
    }
  ]
}