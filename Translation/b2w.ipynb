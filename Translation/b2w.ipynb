{
  "nbformat": 4,
  "nbformat_minor": 0,
  "metadata": {
    "colab": {
      "name": "b2w.ipynb",
      "provenance": [],
      "collapsed_sections": []
    },
    "kernelspec": {
      "name": "python3",
      "display_name": "Python 3"
    }
  },
  "cells": [
    {
      "cell_type": "markdown",
      "metadata": {
        "colab_type": "text",
        "id": "40dJTE5OR1Ig"
      },
      "source": [
        "Baixar/Carregar dataset do B2W Digital"
      ]
    },
    {
      "cell_type": "code",
      "execution_count": 0,
      "metadata": {
        "colab": {
          "base_uri": "https://localhost:8080/",
          "height": 35
        },
        "colab_type": "code",
        "id": "NFUtHdNxOSZr",
        "outputId": "21a9b06f-6a30-4451-ddb0-229ccde6a45c"
      },
      "outputs": [
        {
          "name": "stdout",
          "output_type": "stream",
          "text": [
            "/content/drive/My Drive/I.C. Nádia/Datasets/Original\n"
          ]
        }
      ],
      "source": [
        "%cd Original\n",
        "!wget https://raw.githubusercontent.com/b2wdigital/b2w-reviews01/master/B2W-Reviews01.csv"
      ]
    },
    {
      "cell_type": "markdown",
      "metadata": {
        "colab_type": "text",
        "id": "qnutf5eEz2sl"
      },
      "source": [
        "Pegar nome do produto, categoria, título da avaliação, se recomendaria para um amigo e texto da avaliação e passar para lista de palavras a serem traduzidas"
      ]
    },
    {
      "cell_type": "code",
      "execution_count": 0,
      "metadata": {
        "colab": {
          "base_uri": "https://localhost:8080/",
          "height": 73
        },
        "colab_type": "code",
        "id": "OovcFVztSCFJ",
        "outputId": "29ab658d-7f19-4d1f-818c-4aeae8d32131"
      },
      "outputs": [
        {
          "name": "stderr",
          "output_type": "stream",
          "text": [
            "/usr/local/lib/python3.6/dist-packages/IPython/core/interactiveshell.py:2718: DtypeWarning: Columns (2) have mixed types. Specify dtype option on import or set low_memory=False.\n",
            "  interactivity=interactivity, compiler=compiler, result=result)\n"
          ]
        }
      ],
      "source": [
        "import pandas as pd\n",
        "dataset = pd.read_csv(\"B2W-Reviews01.csv\", sep = ';')\n",
        "\n",
        "words = []\n",
        "for product in dataset[\"product_name\"]:\n",
        "    words.append(product)\n",
        "\n",
        "for category in dataset[\"site_category_lv1\"]:\n",
        "    words.append(category)\n",
        "\n",
        "for category in dataset[\"site_category_lv2\"]:\n",
        "    words.append(category)\n",
        "\n",
        "for title in dataset[\"review_title\"]:\n",
        "    words.append(title)\n",
        "\n",
        "for recommend in dataset[\"recommend_to_a_friend\"]:\n",
        "    words.append(recommend)\n",
        "\n",
        "for review in dataset[\"review_text\"]:\n",
        "    words.append(review)\n",
        "\n",
        "words = list(filter(lambda x: str(x) != \"nan\", words))"
      ]
    },
    {
      "cell_type": "markdown",
      "metadata": {
        "colab_type": "text",
        "id": "JRtL_Rh-Dlj2"
      },
      "source": [
        "Ir para pasta do credencial da Google"
      ]
    },
    {
      "cell_type": "markdown",
      "metadata": {
        "colab_type": "text",
        "id": "rJehgo0jz2tP"
      },
      "source": [
        "Executar tradução e salvar como arquivo json"
      ]
    },
    {
      "cell_type": "code",
      "execution_count": 0,
      "metadata": {
        "colab": {},
        "colab_type": "code",
        "id": "ag6z1eZnz2tT"
      },
      "outputs": [],
      "source": [
        "import Auxiliar\n",
        "Auxiliar.translate_lst2dct(words, 'en', 'b2w-dic.json')"
      ]
    }
  ]
}