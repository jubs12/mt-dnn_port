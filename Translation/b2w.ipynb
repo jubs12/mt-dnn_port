{
  "nbformat": 4,
  "nbformat_minor": 0,
  "metadata": {
    "colab": {
      "name": "b2w.ipynb",
      "provenance": [],
      "collapsed_sections": []
    },
    "kernelspec": {
      "name": "python3",
      "display_name": "Python 3"
    }
  },
  "cells": [
    {
      "cell_type": "markdown",
      "metadata": {
        "id": "rj4u6inN4qv8",
        "colab_type": "text"
      },
      "source": [
        "Montar a pasta dos *datasets*"
      ]
    },
    {
      "cell_type": "code",
      "metadata": {
        "id": "qKtNcrUoMIM-",
        "colab_type": "code",
        "outputId": "a2e5287c-245f-4867-ece3-e73087d52c17",
        "colab": {
          "base_uri": "https://localhost:8080/",
          "height": 145
        }
      },
      "source": [
        "from google.colab import drive\n",
        "drive.mount('/content/drive')\n",
        "%cd 'drive'/'My Drive'/'I.C. Nádia'/Datasets/"
      ],
      "execution_count": 0,
      "outputs": [
        {
          "output_type": "stream",
          "text": [
            "Go to this URL in a browser: https://accounts.google.com/o/oauth2/auth?client_id=947318989803-6bn6qk8qdgf4n4g3pfee6491hc0brc4i.apps.googleusercontent.com&redirect_uri=urn%3aietf%3awg%3aoauth%3a2.0%3aoob&response_type=code&scope=email%20https%3a%2f%2fwww.googleapis.com%2fauth%2fdocs.test%20https%3a%2f%2fwww.googleapis.com%2fauth%2fdrive%20https%3a%2f%2fwww.googleapis.com%2fauth%2fdrive.photos.readonly%20https%3a%2f%2fwww.googleapis.com%2fauth%2fpeopleapi.readonly\n",
            "\n",
            "Enter your authorization code:\n",
            "··········\n",
            "Mounted at /content/drive\n",
            "/content/drive/My Drive/I.C. Nádia/Datasets\n"
          ],
          "name": "stdout"
        }
      ]
    },
    {
      "cell_type": "markdown",
      "metadata": {
        "id": "40dJTE5OR1Ig",
        "colab_type": "text"
      },
      "source": [
        "Baixar/Carregar dataset do B2W Digital"
      ]
    },
    {
      "cell_type": "code",
      "metadata": {
        "id": "NFUtHdNxOSZr",
        "colab_type": "code",
        "outputId": "21a9b06f-6a30-4451-ddb0-229ccde6a45c",
        "colab": {
          "base_uri": "https://localhost:8080/",
          "height": 35
        }
      },
      "source": [
        "%cd Original\n",
        "!wget https://raw.githubusercontent.com/b2wdigital/b2w-reviews01/master/B2W-Reviews01.csv"
      ],
      "execution_count": 0,
      "outputs": [
        {
          "output_type": "stream",
          "text": [
            "/content/drive/My Drive/I.C. Nádia/Datasets/Original\n"
          ],
          "name": "stdout"
        }
      ]
    },
    {
      "cell_type": "markdown",
      "metadata": {
        "colab_type": "text",
        "id": "qnutf5eEz2sl"
      },
      "source": [
        "Pegar nome do produto, categoria, título da avaliação, se recomendaria para um amigo e texto da avaliação e passar para lista de palavras a serem traduzidas"
      ]
    },
    {
      "cell_type": "code",
      "metadata": {
        "id": "OovcFVztSCFJ",
        "colab_type": "code",
        "outputId": "29ab658d-7f19-4d1f-818c-4aeae8d32131",
        "colab": {
          "base_uri": "https://localhost:8080/",
          "height": 73
        }
      },
      "source": [
        "import pandas as pd\n",
        "dataset = pd.read_csv(\"B2W-Reviews01.csv\", sep = ';')\n",
        "\n",
        "words = []\n",
        "for product in dataset[\"product_name\"]:\n",
        "    words.append(product)\n",
        "\n",
        "for category in dataset[\"site_category_lv1\"]:\n",
        "    words.append(category)\n",
        "\n",
        "for category in dataset[\"site_category_lv2\"]:\n",
        "    words.append(category)\n",
        "\n",
        "for title in dataset[\"review_title\"]:\n",
        "    words.append(title)\n",
        "\n",
        "for recommend in dataset[\"recommend_to_a_friend\"]:\n",
        "    words.append(recommend)\n",
        "\n",
        "for review in dataset[\"review_text\"]:\n",
        "    words.append(review)\n",
        "\n",
        "words = list(filter(lambda x: str(x) != \"nan\", words))"
      ],
      "execution_count": 0,
      "outputs": [
        {
          "output_type": "stream",
          "text": [
            "/usr/local/lib/python3.6/dist-packages/IPython/core/interactiveshell.py:2718: DtypeWarning: Columns (2) have mixed types. Specify dtype option on import or set low_memory=False.\n",
            "  interactivity=interactivity, compiler=compiler, result=result)\n"
          ],
          "name": "stderr"
        }
      ]
    },
    {
      "cell_type": "markdown",
      "metadata": {
        "id": "JRtL_Rh-Dlj2",
        "colab_type": "text"
      },
      "source": [
        "Ir para pasta do credencial da Google"
      ]
    },
    {
      "cell_type": "code",
      "metadata": {
        "colab_type": "code",
        "outputId": "338fa312-c002-4db6-a588-cfadd3972823",
        "id": "Bf4ywZ0az2s2",
        "colab": {
          "base_uri": "https://localhost:8080/",
          "height": 35
        }
      },
      "source": [
        "%cd .."
      ],
      "execution_count": 0,
      "outputs": [
        {
          "output_type": "stream",
          "text": [
            "/content/drive/My Drive/I.C. Nádia/Datasets\n"
          ],
          "name": "stdout"
        }
      ]
    },
    {
      "cell_type": "markdown",
      "metadata": {
        "colab_type": "text",
        "id": "rJehgo0jz2tP"
      },
      "source": [
        "Executar tradução e salvar como arquivo json"
      ]
    },
    {
      "cell_type": "code",
      "metadata": {
        "colab_type": "code",
        "id": "ag6z1eZnz2tT",
        "colab": {}
      },
      "source": [
        "import Auxiliar\n",
        "Auxiliar.translate_lst2dct(words, 'en', 'b2w-dic.json')"
      ],
      "execution_count": 0,
      "outputs": []
    }
  ]
}