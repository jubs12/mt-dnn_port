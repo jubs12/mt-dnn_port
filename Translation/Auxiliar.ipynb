{
  "nbformat": 4,
  "nbformat_minor": 0,
  "metadata": {
    "colab": {
      "name": "Auxiliar.ipynb",
      "provenance": [],
      "collapsed_sections": []
    },
    "kernelspec": {
      "name": "python3",
      "display_name": "Python 3"
    }
  },
  "cells": [
    {
      "cell_type": "markdown",
      "metadata": {
        "id": "7x_MucCQboXS",
        "colab_type": "text"
      },
      "source": [
        "#Biblioteca auxiliar para traduzir as frases dos banco de dados"
      ]
    },
    {
      "cell_type": "markdown",
      "metadata": {
        "id": "RnjmTlULPMCJ",
        "colab_type": "text"
      },
      "source": [
        "Baseado no código de Ruan Chaves https://github.com/ruanchaves/assin/blob/master/sources/translate.py"
      ]
    },
    {
      "cell_type": "markdown",
      "metadata": {
        "id": "_72pEQ1sb3nN",
        "colab_type": "text"
      },
      "source": [
        "Parâmetros:\n",
        "\n",
        "\n",
        "*   lst = lista de frases do banco de dados\n",
        "*   to_language = linguagem para ser traduzida\n",
        "*   dct = nome do arquivo json de saída com dicionário com texto original e traduzido\n",
        "\n"
      ]
    },
    {
      "cell_type": "code",
      "metadata": {
        "id": "GR0PmhSTpPam",
        "colab_type": "code",
        "colab": {}
      },
      "source": [
        "from google.cloud import translate_v2 as translate\n",
        "from os.path import isfile\n",
        "from os import environ\n",
        "import six\n",
        "import json\n",
        "\n",
        "def translate2dict(sentences, dictpath):\n",
        "    environ['GOOGLE_APPLICATION_CREDENTIALS'] = './key.json'\n",
        "    translate_client = translate.Client()\n",
        "\n",
        "    def translation(text):\n",
        "        if isinstance(text, six.binary_type):\n",
        "            text = text.decode('utf-8')\n",
        "        result = translate_client.translate(text,'en')\n",
        "\n",
        "        return result['translatedText']\n",
        "\n",
        "    if not isfile(dictpath):\n",
        "        with open(dictpath, 'w') as f:\n",
        "            json.dump({}, f)\n",
        "\n",
        "    for item in sentences:\n",
        "        with open(dictpath) as f:\n",
        "            translations = json.load(f)\n",
        "        \n",
        "        try:\n",
        "            translations[item]\n",
        "        except KeyError:\n",
        "            translations[item] = translation(item)\n",
        "            \n",
        "            with open(dictpath, 'w+') as f:\n",
        "                json.dump(translations, f)"
      ],
      "execution_count": 0,
      "outputs": []
    }
  ]
}