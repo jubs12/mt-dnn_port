{
  "nbformat": 4,
  "nbformat_minor": 0,
  "metadata": {
    "colab": {
      "name": "Auxiliar.ipynb",
      "provenance": [],
      "collapsed_sections": [],
      "include_colab_link": true
    },
    "kernelspec": {
      "name": "python3",
      "display_name": "Python 3"
    }
  },
  "cells": [
    {
      "cell_type": "markdown",
      "metadata": {
        "id": "view-in-github",
        "colab_type": "text"
      },
      "source": [
        "<a href=\"https://colab.research.google.com/github/jubs12/mtdnn_port/blob/master/Translation/Auxiliar.ipynb\" target=\"_parent\"><img src=\"https://colab.research.google.com/assets/colab-badge.svg\" alt=\"Open In Colab\"/></a>"
      ]
    },
    {
      "cell_type": "markdown",
      "metadata": {
        "id": "7x_MucCQboXS",
        "colab_type": "text"
      },
      "source": [
        "#Biblioteca auxiliar para traduzir as frases dos banco de dados"
      ]
    },
    {
      "cell_type": "markdown",
      "metadata": {
        "id": "RnjmTlULPMCJ",
        "colab_type": "text"
      },
      "source": [
        "Baseado no código de Ruan Chaves https://github.com/ruanchaves/assin/blob/master/sources/translate.py"
      ]
    },
    {
      "cell_type": "markdown",
      "metadata": {
        "id": "_72pEQ1sb3nN",
        "colab_type": "text"
      },
      "source": [
        "Parâmetros:\n",
        "\n",
        "\n",
        "*   lst = lista de frases do banco de dados\n",
        "*   to_language = linguagem para ser traduzida\n",
        "*   dct = nome do arquivo json de saída com dicionário com texto original e traduzido\n",
        "\n"
      ]
    },
    {
      "cell_type": "code",
      "metadata": {
        "id": "GR0PmhSTpPam",
        "colab_type": "code",
        "colab": {}
      },
      "source": [
        "from google.cloud import translate_v2 as translate\n",
        "import os\n",
        "import six\n",
        "import json\n",
        "\n",
        "def translate_lst2dct(lst, to_language,dct):\n",
        "    os.environ['GOOGLE_APPLICATION_CREDENTIALS'] = './key.json'\n",
        "    translate_client = translate.Client()\n",
        "    \n",
        "\n",
        "    def translate2dict(text):\n",
        "        if isinstance(text, six.binary_type):\n",
        "            text = text.decode('utf-8')\n",
        "        result = translate_client.translate(text, target_language=to_language)\n",
        "\n",
        "        return {\n",
        "            \"original\": result['input'],\n",
        "            \"translation\": result['translatedText']\n",
        "        }\n",
        "\n",
        "    try:\n",
        "        open(dct).close()\n",
        "    except:\n",
        "        with open(dct, 'w+') as f:\n",
        "            json.dump({}, f)\n",
        "    for item in lst:\n",
        "        with open(dct, 'r') as f:\n",
        "            loaded_dct = json.load(f)\n",
        "            try:\n",
        "                loaded_dct[item]\n",
        "            except:\n",
        "                result = translate2dict(item)\n",
        "                loaded_dct[result['original']] = result['translation']\n",
        "                with open(dct, 'w+') as f:\n",
        "                    json.dump(loaded_dct, f)"
      ],
      "execution_count": 0,
      "outputs": []
    }
  ]
}