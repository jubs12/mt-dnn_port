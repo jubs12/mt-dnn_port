{
  "nbformat": 4,
  "nbformat_minor": 0,
  "metadata": {
    "colab": {
      "name": "faketweet.ipynb",
      "provenance": [],
      "collapsed_sections": []
    },
    "kernelspec": {
      "name": "python3",
      "display_name": "Python 3"
    }
  },
  "cells": [
    {
      "cell_type": "markdown",
      "metadata": {
        "id": "ktbmwzA4HdGB",
        "colab_type": "text"
      },
      "source": [
        "Importar dataset\n"
      ]
    },
    {
      "cell_type": "code",
      "metadata": {
        "id": "73rU6UFpHpZb",
        "colab_type": "code",
        "colab": {
          "base_uri": "https://localhost:8080/",
          "height": 121
        },
        "outputId": "f55680ca-5c93-4aef-a9bf-2b3e29323cfa"
      },
      "source": [
        "!git clone https://github.com/prc992/FakeTweet.Br.git\n",
        "!%cd FakeTweet.Br/"
      ],
      "execution_count": 1,
      "outputs": [
        {
          "output_type": "stream",
          "text": [
            "Cloning into 'FakeTweet.Br'...\n",
            "remote: Enumerating objects: 9, done.\u001b[K\n",
            "remote: Counting objects: 100% (9/9), done.\u001b[K\n",
            "remote: Compressing objects: 100% (8/8), done.\u001b[K\n",
            "remote: Total 9 (delta 1), reused 0 (delta 0), pack-reused 0\u001b[K\n",
            "Unpacking objects: 100% (9/9), done.\n"
          ],
          "name": "stdout"
        }
      ]
    },
    {
      "cell_type": "markdown",
      "metadata": {
        "id": "HEpyP_RBMrR6",
        "colab_type": "text"
      },
      "source": [
        "Gerar lista de sentencas com tweets"
      ]
    },
    {
      "cell_type": "code",
      "metadata": {
        "id": "i5MR7ypJHagc",
        "colab_type": "code",
        "colab": {}
      },
      "source": [
        "import pandas as pd\n",
        "import os\n",
        "\n",
        "files =  [f for f in os.listdir(os.curdir) if 'csv' in f]\n",
        "\n",
        "words = list()\n",
        "for file in files:\n",
        "    dataset = pd.read_csv(file)\n",
        "    words += list(dataset['text'])"
      ],
      "execution_count": 0,
      "outputs": []
    },
    {
      "cell_type": "markdown",
      "metadata": {
        "id": "xEI60WNnNfmd",
        "colab_type": "text"
      },
      "source": [
        "Importar biblioteca de tradução de lista de palavras"
      ]
    },
    {
      "cell_type": "code",
      "metadata": {
        "id": "8KFEHI9UM1An",
        "colab_type": "code",
        "colab": {
          "base_uri": "https://localhost:8080/",
          "height": 34
        },
        "outputId": "34c746f1-c740-47c8-e2e3-fc9a33a11d4d"
      },
      "source": [
        "!jupyter nbconvert --to python Auxiliar.ipynb"
      ],
      "execution_count": 24,
      "outputs": [
        {
          "output_type": "stream",
          "text": [
            "/content/drive/My Drive/I.C. Nádia/Datasets/Dicionários\n"
          ],
          "name": "stdout"
        }
      ]
    },
    {
      "cell_type": "markdown",
      "metadata": {
        "id": "szMryYp2Myh8",
        "colab_type": "text"
      },
      "source": [
        "Traduzir as palavras"
      ]
    },
    {
      "cell_type": "code",
      "metadata": {
        "id": "kxUoixpvM7X_",
        "colab_type": "code",
        "colab": {}
      },
      "source": [
        "import Auxiliar\n",
        "Auxiliar.translate_lst2dct(words, 'en', 'faketweet-dic.json')"
      ],
      "execution_count": 0,
      "outputs": []
    }
  ]
}