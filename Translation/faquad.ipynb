{
  "nbformat": 4,
  "nbformat_minor": 0,
  "metadata": {
    "colab": {
      "name": "faquad.ipynb",
      "provenance": [],
      "collapsed_sections": []
    },
    "kernelspec": {
      "name": "python3",
      "display_name": "Python 3"
    }
  },
  "cells": [
    {
      "cell_type": "markdown",
      "metadata": {},
      "source": [
        "Configurar Google Translate API e baixar o json\n",
        "https://cloud.google.com/translate/docs/basic/setup-basic"
      ]
    },
    {
      "cell_type": "code",
      "execution_count": null,
      "metadata": {},
      "outputs": [],
      "source": ["%mv ./Translation*.json ./key.json"]
    },
    {
      "cell_type": "markdown",
      "metadata": {
        "colab_type": "text",
        "id": "FKjSyK1FEwwb"
      },
      "source": [
        "Baixar o *dataset* do faquad"
      ]
    },
    {
      "cell_type": "code",
      "execution_count": 0,
      "metadata": {
        "colab": {
          "base_uri": "https://localhost:8080/",
          "height": 34
        },
        "colab_type": "code",
        "id": "NNqWwOPKEa9p",
        "outputId": "738efa09-40eb-4760-9a2e-b909e4df54dd"
      },
      "outputs": [
        {
          "name": "stdout",
          "output_type": "stream",
          "text": [
            "/content/drive/My Drive/I.C. Nádia/Datasets/Original\n"
          ]
        }
      ],
      "source": [
        "!wget https://raw.githubusercontent.com/liafacom/faquad/master/data/dataset.json\n",
        "!wget https://raw.githubusercontent.com/liafacom/faquad/master/data/original_train.json\n",
        "!wget https://raw.githubusercontent.com/liafacom/faquad/master/data/train.json\n",
        "!wget https://raw.githubusercontent.com/liafacom/faquad/master/data/dev.json"
      ]
    },
    {
      "cell_type": "markdown",
      "metadata": {
        "colab_type": "text",
        "id": "JRtL_Rh-Dlj2"
      },
      "source": [
        "Ir para pasta do credencial da Google"
      ]
    },
    {
      "cell_type": "code",
      "execution_count": 0,
      "metadata": {
        "colab": {
          "base_uri": "https://localhost:8080/",
          "height": 34
        },
        "colab_type": "code",
        "id": "IgXoQHNNqCHH",
        "outputId": "407ca9a9-4b35-43ea-deea-4e35ca9076bf"
      },
      "outputs": [
        {
          "name": "stdout",
          "output_type": "stream",
          "text": [
            "/content/drive/My Drive/I.C. Nádia/Datasets\n"
          ]
        }
      ],
      "source": [
        "%cd .."
      ]
    },
    {
      "cell_type": "markdown",
      "metadata": {
        "colab_type": "text",
        "id": "3VMo8anbDeWO"
      },
      "source": [
        "Importar biblioteca de tradução de conjunto de sentenças"
      ]
    },
    {
      "cell_type": "code",
      "execution_count": 0,
      "metadata": {
        "colab": {},
        "colab_type": "code",
        "id": "MYfWJF3o_gqY"
      },
      "outputs": [],
      "source": [
        "!jupyter nbconvert --to python Auxiliar.ipynb"
      ]
    },
    {
      "cell_type": "markdown",
      "metadata": {
        "colab_type": "text",
        "id": "ZqPgtA614kn-"
      },
      "source": [
        "Pega dataset e passa para conjunto de palavras a serem traduzidas"
      ]
    },
    {
      "cell_type": "code",
      "execution_count": 0,
      "metadata": {
        "colab": {},
        "colab_type": "code",
        "id": "e18quDtvEv8L"
      },
      "outputs": [],
      "source": [
        "def data2set(filename):\n",
        "    import json\n",
        "    with open(filename) as json_file:\n",
        "        dataset = json.load(json_file)\n",
        "\n",
        "    words  = set()\n",
        "    for data in dataset['data']:\n",
        "        words.add(data[\"title\"])\n",
        "\n",
        "        for paragraph in data[\"paragraphs\"]:\n",
        "            words.add(paragraph[\"context\"])\n",
        "\n",
        "            for qa in paragraph[\"qas\"]:\n",
        "                words.add(qa[\"question\"])\n",
        "\n",
        "                for answer in qa[\"answers\"]:\n",
        "                    words.add(answer[\"text\"])\n",
        "    return words"
      ]
    },
    {
      "cell_type": "markdown",
      "metadata": {
        "colab_type": "text",
        "id": "sdyRqdUqquta"
      },
      "source": [
        "Executar tradução e salvar como arquivo json"
      ]
    },
    {
      "cell_type": "code",
      "execution_count": 0,
      "metadata": {
        "colab": {},
        "colab_type": "code",
        "id": "6r4cGhxJDtkf"
      },
      "outputs": [],
      "source": [
        "import Auxiliar\n",
        "words = data2lst(dataset.json)\n",
        "Auxiliar.translate2dct(words, 'dataset-dic.json')"
      ]
    }
  ]
}
