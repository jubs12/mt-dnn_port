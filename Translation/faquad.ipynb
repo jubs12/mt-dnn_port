{
  "nbformat": 4,
  "nbformat_minor": 0,
  "metadata": {
    "colab": {
      "name": "faquad.ipynb",
      "provenance": [],
      "collapsed_sections": []
    },
    "kernelspec": {
      "name": "python3",
      "display_name": "Python 3"
    }
  },
  "cells": [
    {
      "cell_type": "markdown",
      "metadata": {},
      "source": [
        "Configurar Google Translate API e baixar o json\n",
        "https://cloud.google.com/translate/docs/basic/setup-basic"
      ]
    },
    {
      "cell_type": "code",
      "execution_count": null,
      "metadata": {},
      "outputs": [],
      "source": []
    },
    {
      "cell_type": "markdown",
      "metadata": {
        "colab_type": "text",
        "id": "FKjSyK1FEwwb"
      },
      "source": [
        "Baixar o *dataset* do faquad"
      ]
    },
    {
      "cell_type": "code",
      "execution_count": 0,
      "metadata": {
        "colab": {
          "base_uri": "https://localhost:8080/",
          "height": 34
        },
        "colab_type": "code",
        "id": "NNqWwOPKEa9p",
        "outputId": "738efa09-40eb-4760-9a2e-b909e4df54dd"
      },
      "outputs": [
        {
          "name": "stdout",
          "output_type": "stream",
          "text": [
            "/content/drive/My Drive/I.C. Nádia/Datasets/Original\n"
          ]
        }
      ],
      "source": [
        "%cd Original\n",
        "!wget https://raw.githubusercontent.com/liafacom/faquad/master/data/dataset.json\n",
        "!wget https://raw.githubusercontent.com/liafacom/faquad/master/data/original_train.json\n",
        "!wget https://raw.githubusercontent.com/liafacom/faquad/master/data/train.json\n",
        "!wget https://raw.githubusercontent.com/liafacom/faquad/master/data/dev.json"
      ]
    },
    {
      "cell_type": "markdown",
      "metadata": {
        "colab_type": "text",
        "id": "JRtL_Rh-Dlj2"
      },
      "source": [
        "Ir para pasta do credencial da Google"
      ]
    },
    {
      "cell_type": "code",
      "execution_count": 0,
      "metadata": {
        "colab": {
          "base_uri": "https://localhost:8080/",
          "height": 34
        },
        "colab_type": "code",
        "id": "IgXoQHNNqCHH",
        "outputId": "407ca9a9-4b35-43ea-deea-4e35ca9076bf"
      },
      "outputs": [
        {
          "name": "stdout",
          "output_type": "stream",
          "text": [
            "/content/drive/My Drive/I.C. Nádia/Datasets\n"
          ]
        }
      ],
      "source": [
        "%cd .."
      ]
    },
    {
      "cell_type": "markdown",
      "metadata": {
        "colab_type": "text",
        "id": "3VMo8anbDeWO"
      },
      "source": [
        "Importar biblioteca de tradução de lista de palavras"
      ]
    },
    {
      "cell_type": "code",
      "execution_count": 0,
      "metadata": {
        "colab": {},
        "colab_type": "code",
        "id": "MYfWJF3o_gqY"
      },
      "outputs": [],
      "source": [
        "!wget https://raw.githubusercontent.com/jubs12/mtdnn_port/master/Translation/Auxiliar.ipynb\n",
        "!jupyter nbconvert --to python Auxiliar.ipynb"
      ]
    },
    {
      "cell_type": "markdown",
      "metadata": {
        "colab_type": "text",
        "id": "ZqPgtA614kn-"
      },
      "source": [
        "Pega dataset e passa para lista de palavras a serem traduzidas"
      ]
    },
    {
      "cell_type": "code",
      "execution_count": 0,
      "metadata": {
        "colab": {},
        "colab_type": "code",
        "id": "e18quDtvEv8L"
      },
      "outputs": [],
      "source": [
        "def data2lst(filename):\n",
        "    import json\n",
        "    with open(filename) as json_file:\n",
        "        dataset = json.load(json_file)\n",
        "\n",
        "    words  = []\n",
        "    for data in dataset['data']:\n",
        "        words.append(data[\"title\"])\n",
        "\n",
        "        for paragraph in data[\"paragraphs\"]:\n",
        "            words.append(paragraph[\"context\"])\n",
        "\n",
        "            for qa in paragraph[\"qas\"]:\n",
        "                words.append(qa[\"question\"])\n",
        "\n",
        "                for answer in qa[\"answers\"]:\n",
        "                    words.append(answer[\"text\"])\n",
        "    return words"
      ]
    },
    {
      "cell_type": "markdown",
      "metadata": {
        "colab_type": "text",
        "id": "sdyRqdUqquta"
      },
      "source": [
        "Executar tradução e salvar como arquivo json"
      ]
    },
    {
      "cell_type": "code",
      "execution_count": 0,
      "metadata": {
        "colab": {},
        "colab_type": "code",
        "id": "6r4cGhxJDtkf"
      },
      "outputs": [],
      "source": [
        "import Auxiliar\n",
        "    for file in ['dataset', 'dev', 'original_train','train']:\n",
        "        words = data2lst('{}.json'.format(file))\n",
        "        Auxiliar.translate_lst2dct(words, 'en', '{}-dic.json'.format(file))"
      ]
    }
  ]
}