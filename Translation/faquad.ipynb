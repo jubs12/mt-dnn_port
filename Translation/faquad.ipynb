{
  "nbformat": 4,
  "nbformat_minor": 0,
  "metadata": {
    "colab": {
      "name": "faquad.ipynb",
      "provenance": [],
      "collapsed_sections": []
    },
    "kernelspec": {
      "name": "python3",
      "display_name": "Python 3"
    }
  },
  "cells": [
    {
      "cell_type": "markdown",
      "metadata": {
        "id": "rj4u6inN4qv8",
        "colab_type": "text"
      },
      "source": [
        "Montar a pasta dos *datasets*"
      ]
    },
    {
      "cell_type": "code",
      "metadata": {
        "id": "qKtNcrUoMIM-",
        "colab_type": "code",
        "outputId": "8011664c-b47b-4d6b-9dc0-e44f8763da18",
        "colab": {
          "base_uri": "https://localhost:8080/",
          "height": 141
        }
      },
      "source": [
        "from google.colab import drive\n",
        "drive.mount('/content/drive')\n",
        "%cd 'drive'/'My Drive'/'I.C. Nádia'/Datasets/"
      ],
      "execution_count": 0,
      "outputs": [
        {
          "output_type": "stream",
          "text": [
            "Go to this URL in a browser: https://accounts.google.com/o/oauth2/auth?client_id=947318989803-6bn6qk8qdgf4n4g3pfee6491hc0brc4i.apps.googleusercontent.com&redirect_uri=urn%3aietf%3awg%3aoauth%3a2.0%3aoob&response_type=code&scope=email%20https%3a%2f%2fwww.googleapis.com%2fauth%2fdocs.test%20https%3a%2f%2fwww.googleapis.com%2fauth%2fdrive%20https%3a%2f%2fwww.googleapis.com%2fauth%2fdrive.photos.readonly%20https%3a%2f%2fwww.googleapis.com%2fauth%2fpeopleapi.readonly\n",
            "\n",
            "Enter your authorization code:\n",
            "··········\n",
            "Mounted at /content/drive\n",
            "/content/drive/My Drive/I.C. Nádia/Datasets\n"
          ],
          "name": "stdout"
        }
      ]
    },
    {
      "cell_type": "markdown",
      "metadata": {
        "id": "FKjSyK1FEwwb",
        "colab_type": "text"
      },
      "source": [
        "Baixar o *dataset* do faquad"
      ]
    },
    {
      "cell_type": "code",
      "metadata": {
        "id": "NNqWwOPKEa9p",
        "colab_type": "code",
        "outputId": "738efa09-40eb-4760-9a2e-b909e4df54dd",
        "colab": {
          "base_uri": "https://localhost:8080/",
          "height": 34
        }
      },
      "source": [
        "%cd Original\n",
        "#!wget https://raw.githubusercontent.com/liafacom/faquad/master/data/dataset.json\n",
        "#%mv dataset.json faquad.json"
      ],
      "execution_count": 0,
      "outputs": [
        {
          "output_type": "stream",
          "text": [
            "/content/drive/My Drive/I.C. Nádia/Datasets/Original\n"
          ],
          "name": "stdout"
        }
      ]
    },
    {
      "cell_type": "markdown",
      "metadata": {
        "id": "ZqPgtA614kn-",
        "colab_type": "text"
      },
      "source": [
        "Pegar as título, contexto, questões e respostas e passar para lista de palavras a serem traduzidas"
      ]
    },
    {
      "cell_type": "code",
      "metadata": {
        "id": "e18quDtvEv8L",
        "colab_type": "code",
        "colab": {}
      },
      "source": [
        "import json\n",
        "with open('train.json') as json_file:\n",
        "    dataset = json.load(json_file)\n",
        "\n",
        "words  = []\n",
        "for data in dataset['data']:\n",
        "    words.append(data[\"title\"])\n",
        "\n",
        "    for paragraph in data[\"paragraphs\"]:\n",
        "        words.append(paragraph[\"context\"])\n",
        "\n",
        "        for qa in paragraph[\"qas\"]:\n",
        "            words.append(qa[\"question\"])\n",
        "\n",
        "            for answer in qa[\"answers\"]:\n",
        "                words.append(answer[\"text\"])"
      ],
      "execution_count": 0,
      "outputs": []
    },
    {
      "cell_type": "markdown",
      "metadata": {
        "id": "3VMo8anbDeWO",
        "colab_type": "text"
      },
      "source": [
        "Importar biblioteca de tradução de lista de palavras"
      ]
    },
    {
      "cell_type": "code",
      "metadata": {
        "id": "MYfWJF3o_gqY",
        "colab_type": "code",
        "colab": {}
      },
      "source": [
        "!wget https://raw.githubusercontent.com/jubs12/mtdnn_port/master/Translation/Auxiliar.ipynb\n",
        "!jupyter nbconvert --to python Auxiliar.ipynb"
      ],
      "execution_count": 0,
      "outputs": []
    },
    {
      "cell_type": "markdown",
      "metadata": {
        "id": "JRtL_Rh-Dlj2",
        "colab_type": "text"
      },
      "source": [
        "Ir para pasta do credencial da Google"
      ]
    },
    {
      "cell_type": "code",
      "metadata": {
        "id": "IgXoQHNNqCHH",
        "colab_type": "code",
        "outputId": "407ca9a9-4b35-43ea-deea-4e35ca9076bf",
        "colab": {
          "base_uri": "https://localhost:8080/",
          "height": 34
        }
      },
      "source": [
        "%cd .."
      ],
      "execution_count": 0,
      "outputs": [
        {
          "output_type": "stream",
          "text": [
            "/content/drive/My Drive/I.C. Nádia/Datasets\n"
          ],
          "name": "stdout"
        }
      ]
    },
    {
      "cell_type": "markdown",
      "metadata": {
        "id": "sdyRqdUqquta",
        "colab_type": "text"
      },
      "source": [
        "Executar tradução e salvar como arquivo json"
      ]
    },
    {
      "cell_type": "code",
      "metadata": {
        "id": "6r4cGhxJDtkf",
        "colab_type": "code",
        "colab": {}
      },
      "source": [
        "import Auxiliar\n",
        "Auxiliar.translate_lst2dct(words, 'en', 'train-en.json')"
      ],
      "execution_count": 0,
      "outputs": []
    }
  ]
}