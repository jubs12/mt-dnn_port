{
  "nbformat": 4,
  "nbformat_minor": 0,
  "metadata": {
    "colab": {
      "name": "analysis.ipynb",
      "provenance": [],
      "collapsed_sections": []
    },
    "kernelspec": {
      "name": "python3",
      "display_name": "Python 3"
    }
  },
  "cells": [
    {
      "cell_type": "code",
      "metadata": {
        "id": "hzQ9rqVXi-Vn",
        "colab_type": "code",
        "outputId": "321694a6-ba74-47d7-e1fc-032b69ef8277",
        "colab": {
          "base_uri": "https://localhost:8080/",
          "height": 187
        }
      },
      "source": [
        "%cd ..\n",
        "%rm -rf mt-dnn_port\n",
        "!git clone https://github.com/jubs12/mt-dnn_port.git -b seed\n",
        "%cd mt-dnn_port/"
      ],
      "execution_count": 47,
      "outputs": [
        {
          "output_type": "stream",
          "text": [
            "/content\n",
            "Cloning into 'mt-dnn_port'...\n",
            "remote: Enumerating objects: 8652, done.\u001b[K\n",
            "remote: Counting objects: 100% (8652/8652), done.\u001b[K\n",
            "remote: Compressing objects: 100% (7856/7856), done.\u001b[K\n",
            "remote: Total 63042 (delta 1234), reused 8082 (delta 743), pack-reused 54390\u001b[K\n",
            "Receiving objects: 100% (63042/63042), 493.87 MiB | 24.21 MiB/s, done.\n",
            "Resolving deltas: 100% (26338/26338), done.\n",
            "Checking out files: 100% (27943/27943), done.\n",
            "/content/mt-dnn_port\n"
          ],
          "name": "stdout"
        }
      ]
    },
    {
      "cell_type": "code",
      "metadata": {
        "id": "2sDKk4JojQA1",
        "colab_type": "code",
        "colab": {}
      },
      "source": [
        "modes = [\n",
        "         'st-dnn/assin2-rte',\n",
        "         'st-dnn/assin2-sts',\n",
        "         'st-dnn/assin-1+2-rte', \n",
        "         'st-dnn/assin-1+2-sts',\n",
        "         'st-dnn/assin-ptbr+2-sts', #tem outlier\n",
        "         'st-dnn/assin-ptbr+2-rte',\n",
        "         'st-dnn/assin2-rte',\n",
        "         'st-dnn/assin-ptbr-sts',\n",
        "         'st-dnn/assin-ptbr-rte',\n",
        "         'st-dnn/assin-ptpt-sts',\n",
        "         'st-dnn/assin-ptpt-rte',\n",
        "         'st-dnn/tweetsent',\n",
        "         'mt-dnn_assin', #falta\n",
        "         'mt-dnn_assin-ptbr+assin2', #falta\n",
        "         'mt-dnn_assin2', #falta\n",
        "         'mt-dnn_assin+tweetsent', #falta\n",
        "]"
      ],
      "execution_count": 0,
      "outputs": []
    },
    {
      "cell_type": "code",
      "metadata": {
        "id": "aJVMzzsvjbkP",
        "colab_type": "code",
        "outputId": "e14f42a3-0510-45ef-87f3-e3b228ddf5f9",
        "colab": {
          "base_uri": "https://localhost:8080/",
          "height": 306
        }
      },
      "source": [
        "import statistics\n",
        "import pprint\n",
        "import json\n",
        "import os\n",
        "\n",
        "SEEDS = range(2016,2021)\n",
        "SUFIX = '_test_scores_4.json'\n",
        "THRESHOLD = 10\n",
        "\n",
        "grad_norms = ['1.0', '2.0', '5.0']\n",
        "dropouts = ['0.1', '0.3', '0.05']\n",
        "\n",
        "\n",
        "global COUNT\n",
        "COUNT = 0\n",
        "\n",
        "global TOTAL\n",
        "TOTAL = 0\n",
        "def get_metrics(mode,pretrained, grad_norm, dropout):\n",
        "    global COUNT\n",
        "    global TOTAL\n",
        "    metrics = dict()\n",
        "    for seed in SEEDS:\n",
        "        folder = f'output/{mode}/{pretrained}/seed/{seed}/grad_norm/{grad_norm}/dropout/{dropout}'\n",
        "        filenames = [f for f in os.listdir(folder) if f.endswith(SUFIX)]\n",
        "        \n",
        "        for filename in filenames:\n",
        "            filepath = f'{folder}/{filename}'\n",
        "            \n",
        "            with open(filepath) as f:\n",
        "                info = json.load(f)\n",
        "        \n",
        "            task = filename.replace(SUFIX, '')\n",
        "            main_metric = 'ACC' if 'ACC' in info['metrics'].keys() else 'Pearson'\n",
        "            \n",
        "            if not info['metrics']:\n",
        "                return None\n",
        "            else:\n",
        "                TOTAL = TOTAL + 1\n",
        "\n",
        "\n",
        "            task_metric = info['metrics'][main_metric]\n",
        "\n",
        "            if task not in metrics.keys():\n",
        "                metrics[task] = {'metrics': [task_metric]}\n",
        "            else: \n",
        "                metrics[task]['metrics'].append(task_metric) \n",
        "\n",
        "    for task in metrics.keys():\n",
        "        avg = statistics.mean(metrics[task]['metrics'])\n",
        "        std = statistics.stdev(metrics[task]['metrics'])\n",
        "\n",
        "        metrics[task].update({'avg': avg, 'std': std})\n",
        "\n",
        "        outliers = [seed for (idx, seed) in enumerate(SEEDS) \n",
        "                    if abs(metrics[task]['metrics'][idx] - avg) > THRESHOLD]\n",
        "\n",
        "        COUNT += len(outliers)\n",
        "\n",
        "        metrics[task].update({'outliers': outliers})\n",
        "\n",
        "    return metrics\n",
        "\n",
        "\n",
        "result = dict()\n",
        "for mode in modes:\n",
        "    print(mode)\n",
        "    result[mode] = dict()\n",
        "    for pretrained in os.listdir(f'output/{mode}'):    \n",
        "        result[mode][pretrained] = {grad_norm: \n",
        "                            {dropout: get_metrics(mode,pretrained, grad_norm, dropout) for dropout in dropouts}\n",
        "                            for grad_norm in grad_norms}    \n",
        "\n",
        "print(f'{COUNT}: {COUNT/TOTAL*100}%')"
      ],
      "execution_count": 55,
      "outputs": [
        {
          "output_type": "stream",
          "text": [
            "st-dnn/assin2-rte\n",
            "st-dnn/assin2-sts\n",
            "st-dnn/assin-1+2-rte\n",
            "st-dnn/assin-1+2-sts\n",
            "st-dnn/assin-ptbr+2-sts\n",
            "st-dnn/assin-ptbr+2-rte\n",
            "st-dnn/assin2-rte\n",
            "st-dnn/assin-ptbr-sts\n",
            "st-dnn/assin-ptbr-rte\n",
            "st-dnn/assin-ptpt-sts\n",
            "st-dnn/assin-ptpt-rte\n",
            "st-dnn/tweetsent\n",
            "mt-dnn_assin\n",
            "mt-dnn_assin-ptbr+assin2\n",
            "mt-dnn_assin2\n",
            "mt-dnn_assin+tweetsent\n",
            "9: 0.11389521640091116%\n"
          ],
          "name": "stdout"
        }
      ]
    }
  ]
}