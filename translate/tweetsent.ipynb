{
  "nbformat": 4,
  "nbformat_minor": 0,
  "metadata": {
    "colab": {
      "name": "tweetsent.ipynb",
      "provenance": [],
      "collapsed_sections": []
    },
    "kernelspec": {
      "name": "python3",
      "display_name": "Python 3"
    }
  },
  "cells": [
    {
      "cell_type": "markdown",
      "metadata": {
        "id": "v8jKJ0NsMony",
        "colab_type": "text"
      },
      "source": [
        "Extract dataset"
      ]
    },
    {
      "cell_type": "code",
      "metadata": {
        "id": "LJ8-hVAaLYrT",
        "colab_type": "code",
        "outputId": "0ec86805-299d-4895-e81b-15bfe2a3c43e",
        "colab": {
          "base_uri": "https://localhost:8080/",
          "height": 221
        }
      },
      "source": [
        "!unzip tweetSentBR_extracted.zip"
      ],
      "execution_count": 23,
      "outputs": [
        {
          "output_type": "stream",
          "text": [
            "Archive:  tweetSentBR_extracted.zip\n",
            "   creating: tweetSentBR_extracted/\n",
            "  inflating: tweetSentBR_extracted/testTT.neg  \n",
            "  inflating: tweetSentBR_extracted/testTT.neu  \n",
            "  inflating: tweetSentBR_extracted/testTT.pos  \n",
            "  inflating: tweetSentBR_extracted/trainTT.neg  \n",
            "  inflating: tweetSentBR_extracted/trainTT.neu  \n",
            "  inflating: tweetSentBR_extracted/trainTT.pos  \n",
            "  inflating: tweetSentBR_extracted/tweets.none  \n",
            "  inflating: tweetSentBR_extracted/tweets.neg  \n",
            "  inflating: tweetSentBR_extracted/tweets.neu  \n",
            "  inflating: tweetSentBR_extracted/tweets.pos  \n"
          ],
          "name": "stdout"
        }
      ]
    },
    {
      "cell_type": "markdown",
      "metadata": {
        "id": "tHNw9Oh-TR47",
        "colab_type": "text"
      },
      "source": [
        "Separate files in tab"
      ]
    },
    {
      "cell_type": "code",
      "metadata": {
        "id": "9wZIV1BdMzzO",
        "colab_type": "code",
        "outputId": "34d66688-473b-459e-c041-ba81add55cfd",
        "colab": {
          "base_uri": "https://localhost:8080/",
          "height": 153
        }
      },
      "source": [
        "import pandas as pd\n",
        "import os\n",
        "import re\n",
        "\n",
        "folder = 'tweetSentBR_extracted'\n",
        "corpus = [f for f in os.listdir(folder) if 'tweets' in f and not 'tab' in f]\n",
        "\n",
        "for split in corpus:\n",
        "    print(split)\n",
        "    with open(f'{folder}/{split}') as f:\n",
        "        text = f.read()\n",
        "\n",
        "    assert '\\t' not in text \n",
        "    \n",
        "    outtext = re.sub(r'(.+?) (.+)',r'\\1\\t\\2', text)\n",
        "    outfile = re.sub(r'(.+)\\.(.+)', r'\\1_tab.\\2',split)\n",
        "    with open(f'{folder}/{outfile}', 'w') as f:\n",
        "        f.write(outtext)\n",
        "        print(f'{folder}/{outfile}')"
      ],
      "execution_count": 27,
      "outputs": [
        {
          "output_type": "stream",
          "text": [
            "tweets.neu\n",
            "tweetSentBR_extracted/tweets_tab.neu\n",
            "tweets.neg\n",
            "tweetSentBR_extracted/tweets_tab.neg\n",
            "tweets.pos\n",
            "tweetSentBR_extracted/tweets_tab.pos\n",
            "tweets.none\n",
            "tweetSentBR_extracted/tweets_tab.none\n"
          ],
          "name": "stdout"
        }
      ]
    },
    {
      "cell_type": "markdown",
      "metadata": {
        "id": "vcheMTZgUFjJ",
        "colab_type": "text"
      },
      "source": [
        "Generate sentence set"
      ]
    },
    {
      "cell_type": "code",
      "metadata": {
        "id": "lMP_RYLJT6K9",
        "colab_type": "code",
        "colab": {}
      },
      "source": [
        "tabbed = [f for f in os.listdir(folder) if 'tab' in f]\n",
        "header = ['id', 'text']\n",
        "\n",
        "sentences = set()\n",
        "for f in tabbed:\n",
        "    table = pd.read_csv(f'{folder}/{f}', index_col = None, sep = '\\t', names = header)\n",
        "    sentences |= set(table['text'])"
      ],
      "execution_count": 0,
      "outputs": []
    },
    {
      "cell_type": "markdown",
      "metadata": {
        "id": "gLdZfYOHrVLn",
        "colab_type": "text"
      },
      "source": [
        "Translate"
      ]
    },
    {
      "cell_type": "code",
      "metadata": {
        "id": "w_37CSlRc0_T",
        "colab_type": "code",
        "colab": {}
      },
      "source": [
        "from translate import translate2dict\n",
        "\n",
        "translate2dict(sentences, 'tweetsent-dic.json')"
      ],
      "execution_count": 0,
      "outputs": []
    }
  ]
}