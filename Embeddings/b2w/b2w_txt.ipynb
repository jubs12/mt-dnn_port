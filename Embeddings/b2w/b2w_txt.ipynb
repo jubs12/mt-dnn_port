{
  "nbformat": 4,
  "nbformat_minor": 0,
  "metadata": {
    "colab": {
      "name": "b2w_embedding.ipynb",
      "provenance": [],
      "collapsed_sections": []
    },
    "kernelspec": {
      "name": "python3",
      "display_name": "Python 3"
    }
  },
  "cells": [
    {
      "cell_type": "markdown",
      "metadata": {
        "id": "-J4yhlnn9bFr",
        "colab_type": "text"
      },
      "source": [
        "Importar banco de dados traduzido"
      ]
    },
    {
      "cell_type": "code",
      "metadata": {
        "id": "bioYkVx_9aJc",
        "colab_type": "code",
        "outputId": "de6d2756-a3e3-4d78-a8ce-74081f588829",
        "colab": {
          "base_uri": "https://localhost:8080/",
          "height": 315
        }
      },
      "source": [
        "!wget https://github.com/jubs12/b2w-reviews01-en/raw/master/B2W-Reviews01.csv"
      ],
      "execution_count": 0,
      "outputs": [
        {
          "output_type": "stream",
          "text": [
            "--2020-02-20 00:18:56--  https://github.com/jubs12/b2w-reviews01-en/raw/master/B2W-Reviews01.csv\n",
            "Resolving github.com (github.com)... 192.30.253.113\n",
            "Connecting to github.com (github.com)|192.30.253.113|:443... connected.\n",
            "HTTP request sent, awaiting response... 302 Found\n",
            "Location: https://raw.githubusercontent.com/jubs12/b2w-reviews01-en/master/B2W-Reviews01.csv [following]\n",
            "--2020-02-20 00:18:56--  https://raw.githubusercontent.com/jubs12/b2w-reviews01-en/master/B2W-Reviews01.csv\n",
            "Resolving raw.githubusercontent.com (raw.githubusercontent.com)... 151.101.0.133, 151.101.64.133, 151.101.128.133, ...\n",
            "Connecting to raw.githubusercontent.com (raw.githubusercontent.com)|151.101.0.133|:443... connected.\n",
            "HTTP request sent, awaiting response... 200 OK\n",
            "Length: 48470361 (46M) [text/plain]\n",
            "Saving to: ‘B2W-Reviews01.csv’\n",
            "\n",
            "B2W-Reviews01.csv   100%[===================>]  46.22M  52.4MB/s    in 0.9s    \n",
            "\n",
            "2020-02-20 00:18:58 (52.4 MB/s) - ‘B2W-Reviews01.csv’ saved [48470361/48470361]\n",
            "\n"
          ],
          "name": "stdout"
        }
      ]
    },
    {
      "cell_type": "markdown",
      "metadata": {
        "id": "62Bneh_F-ifx",
        "colab_type": "text"
      },
      "source": [
        "Conjunto de frases para criar o *embbeding*"
      ]
    },
    {
      "cell_type": "code",
      "metadata": {
        "id": "Ai-kJ13q9mle",
        "colab_type": "code",
        "outputId": "fd53a897-75cb-4331-ba26-e2ad8ecb6d22",
        "colab": {
          "base_uri": "https://localhost:8080/",
          "height": 72
        }
      },
      "source": [
        "import pandas as pd\n",
        "\n",
        "dataset = pd.read_csv(\"B2W-Reviews01.csv\", delimiter = ';')\n",
        "\n",
        "text = {word for word in dataset[\"review_text\"]}\n",
        "title = {word for word in dataset[\"review_title\"]}\n",
        "both = text.union(title)\n",
        "\n",
        "\n",
        "with open(\"review_text.txt\", \"w\") as f:\n",
        "    for word in text:\n",
        "        f.write(word + \"\\n\")\n",
        "\n",
        "with open(\"review_title.txt\", \"w\") as f:\n",
        "    for word in title:\n",
        "        f.write(word + \"\\n\")\n",
        "\n",
        "with open(\"review.txt\", \"w\") as f:\n",
        "    for word in both:\n",
        "        f.write(word + \"\\n\")"
      ],
      "execution_count": 0,
      "outputs": [
        {
          "output_type": "stream",
          "text": [
            "/usr/local/lib/python3.6/dist-packages/IPython/core/interactiveshell.py:2718: DtypeWarning: Columns (2) have mixed types. Specify dtype option on import or set low_memory=False.\n",
            "  interactivity=interactivity, compiler=compiler, result=result)\n"
          ],
          "name": "stderr"
        }
      ]
    }
  ]
}