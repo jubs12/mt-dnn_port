{
  "nbformat": 4,
  "nbformat_minor": 0,
  "metadata": {
    "colab": {
      "name": "faquad_embedding.ipynb",
      "provenance": [],
      "collapsed_sections": []
    },
    "kernelspec": {
      "name": "python3",
      "display_name": "Python 3"
    }
  },
  "cells": [
    {
      "cell_type": "markdown",
      "metadata": {
        "id": "FKjSyK1FEwwb",
        "colab_type": "text"
      },
      "source": [
        "Baixar o *dataset* traduzido do faquad"
      ]
    },
    {
      "cell_type": "code",
      "metadata": {
        "id": "NNqWwOPKEa9p",
        "colab_type": "code",
        "outputId": "ce11634f-589e-4d1e-bdca-d451cf24029a",
        "colab": {
          "base_uri": "https://localhost:8080/",
          "height": 295
        }
      },
      "source": [
        "!wget https://github.com/jubs12/faquad-en/raw/master/data/dataset.json "
      ],
      "execution_count": 0,
      "outputs": [
        {
          "output_type": "stream",
          "text": [
            "--2020-02-24 12:42:10--  https://github.com/jubs12/faquad-en/raw/master/data/dataset.json\n",
            "Resolving github.com (github.com)... 192.30.255.112\n",
            "Connecting to github.com (github.com)|192.30.255.112|:443... connected.\n",
            "HTTP request sent, awaiting response... 302 Found\n",
            "Location: https://raw.githubusercontent.com/jubs12/faquad-en/master/data/dataset.json [following]\n",
            "--2020-02-24 12:42:11--  https://raw.githubusercontent.com/jubs12/faquad-en/master/data/dataset.json\n",
            "Resolving raw.githubusercontent.com (raw.githubusercontent.com)... 151.101.0.133, 151.101.64.133, 151.101.128.133, ...\n",
            "Connecting to raw.githubusercontent.com (raw.githubusercontent.com)|151.101.0.133|:443... connected.\n",
            "HTTP request sent, awaiting response... 200 OK\n",
            "Length: 454260 (444K) [text/plain]\n",
            "Saving to: ‘dataset.json’\n",
            "\n",
            "\rdataset.json          0%[                    ]       0  --.-KB/s               \rdataset.json        100%[===================>] 443.61K  --.-KB/s    in 0.05s   \n",
            "\n",
            "2020-02-24 12:42:11 (9.43 MB/s) - ‘dataset.json’ saved [454260/454260]\n",
            "\n"
          ],
          "name": "stdout"
        }
      ]
    },
    {
      "cell_type": "markdown",
      "metadata": {
        "id": "hgOu48KKODi1",
        "colab_type": "text"
      },
      "source": [
        "Função de importar *dataset* como lista de palavras"
      ]
    },
    {
      "cell_type": "code",
      "metadata": {
        "id": "e18quDtvEv8L",
        "colab_type": "code",
        "colab": {}
      },
      "source": [
        "def data2lst(filename):\n",
        "    import json\n",
        "    with open(filename) as json_file:\n",
        "        dataset = json.load(json_file)\n",
        "\n",
        "    words  = []\n",
        "    for data in dataset['data']:\n",
        "        #words.append(data[\"title\"])\n",
        "\n",
        "        for paragraph in data[\"paragraphs\"]:\n",
        "            words.append(paragraph[\"context\"])\n",
        "\n",
        "            for qa in paragraph[\"qas\"]:\n",
        "                words.append(qa[\"question\"])\n",
        "\n",
        "                for answer in qa[\"answers\"]:\n",
        "                    words.append(answer[\"text\"])\n",
        "    return words"
      ],
      "execution_count": 0,
      "outputs": []
    },
    {
      "cell_type": "markdown",
      "metadata": {
        "id": "sdyRqdUqquta",
        "colab_type": "text"
      },
      "source": [
        "Pegar palavras e salvar como arquivo txt"
      ]
    },
    {
      "cell_type": "code",
      "metadata": {
        "id": "6r4cGhxJDtkf",
        "colab_type": "code",
        "colab": {}
      },
      "source": [
        "text = data2lst('dataset.json')\n",
        "\n",
        "with open(\"faquad.txt\", \"w\") as f:\n",
        "    for word in text:\n",
        "        f.write(word + \"\\n\")"
      ],
      "execution_count": 0,
      "outputs": []
    },
    {
      "cell_type": "markdown",
      "metadata": {
        "id": "41egoIC5cl1U",
        "colab_type": "text"
      },
      "source": [
        "Remover marcas html"
      ]
    },
    {
      "cell_type": "code",
      "metadata": {
        "id": "XDDOreWucmH4",
        "colab_type": "code",
        "colab": {}
      },
      "source": [
        "!pip install ftfy\n",
        "!ftfy faquad.txt > dataset.txt\n",
        "!rm -f faquad.txt"
      ],
      "execution_count": 0,
      "outputs": []
    }
  ]
}